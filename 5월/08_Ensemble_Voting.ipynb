{
 "cells": [
  {
   "cell_type": "code",
   "execution_count": 1,
   "metadata": {},
   "outputs": [],
   "source": [
    "import warnings\n",
    "warnings.filterwarnings('ignore')"
   ]
  },
  {
   "cell_type": "markdown",
   "metadata": {},
   "source": [
    "MNIST 손글씨 데이터셋을 사용해 단일 모델들을 앙상블 해서 투표를 통해 예측을 해본다."
   ]
  },
  {
   "cell_type": "code",
   "execution_count": 2,
   "metadata": {},
   "outputs": [],
   "source": [
    "from sklearn import datasets                         # MNIST 손글씨 데이터셋을 사용하기 위해 import 시킨다.\n",
    "from sklearn import tree                             # 의사결정 트리\n",
    "from sklearn.neighbors import KNeighborsClassifier   # kNN\n",
    "from sklearn.svm import SVC                          # SVM\n",
    "from sklearn.ensemble import VotingClassifier        # 하드 보팅, 소프트 보팅을 계산한다.\n",
    "from sklearn.model_selection import train_test_split # 학습, 검증 데이터 분리\n",
    "from sklearn.metrics import accuracy_score           # 정확도 계산"
   ]
  },
  {
   "cell_type": "markdown",
   "metadata": {},
   "source": [
    "손글씨 데이터를 불러온다."
   ]
  },
  {
   "cell_type": "code",
   "execution_count": 3,
   "metadata": {},
   "outputs": [
    {
     "name": "stdout",
     "output_type": "stream",
     "text": [
      "(1797, 64) (1797,)\n"
     ]
    }
   ],
   "source": [
    "mnist = datasets.load_digits()\n",
    "features, labels = mnist.data, mnist.target\n",
    "print(features.shape, labels.shape)"
   ]
  },
  {
   "cell_type": "code",
   "execution_count": 4,
   "metadata": {},
   "outputs": [
    {
     "name": "stdout",
     "output_type": "stream",
     "text": [
      "학습 데이터 개수: 1437, 테스트 데이터 개수: 360\n"
     ]
    }
   ],
   "source": [
    "# 학습 데이터, 테스트 데이터, 학습 데이터 결과, 테스트 데이터 결과\n",
    "X_train, X_test, y_train, y_test = train_test_split(features, labels, test_size=0.2) \n",
    "print('학습 데이터 개수: {}, 테스트 데이터 개수: {}'.format(len(X_train), len(X_test)))"
   ]
  },
  {
   "cell_type": "markdown",
   "metadata": {},
   "source": [
    "단일 모델의 정확도 측정  \n",
    "앙상블의 정확도를 측정하기에 핲서 단일 모델들의 정확도를 의사결정 트리, kNN, SVM 분류기를 만들어 정확도를 계산한다."
   ]
  },
  {
   "cell_type": "code",
   "execution_count": 5,
   "metadata": {
    "scrolled": true
   },
   "outputs": [
    {
     "name": "stdout",
     "output_type": "stream",
     "text": [
      "정확도\n",
      "dtree: 0.8111111111111111\n",
      "knn:   0.8666666666666667\n",
      "svm:   0.8583333333333333\n"
     ]
    }
   ],
   "source": [
    "# 의사결정 트리\n",
    "# 깃헙\n",
    "dtree = tree.DecisionTreeClassifier(criterion='gini', max_depth=8, max_features=32, random_state=35)\n",
    "dtree = dtree.fit(X_train, y_train)\n",
    "dtree_pred = dtree.predict(X_test)\n",
    "\n",
    "# kNN\n",
    "# 깃헙\n",
    "knn = KNeighborsClassifier(n_neighbors=299).fit(X_train, y_train)\n",
    "knn_pred = knn.predict(X_test)\n",
    "\n",
    "# SVM\n",
    "# probability : 확률 추정치를 사용할지 여부를 지정한다. fit() 메소드를 호출하기 전에 저장해야 하며 실행 속도가 느려진다.\n",
    "svm = SVC(C=0.1, gamma=0.003, probability=True, random_state=35).fit(X_train, y_train)\n",
    "svm_pred = svm.predict(X_test)\n",
    "\n",
    "# 모델 예측 정확도(accuracy)\n",
    "print('정확도')\n",
    "print('dtree: {}'.format(accuracy_score(y_test, dtree_pred))) # 테스트 데이터 실제값, 예측값\n",
    "print('knn:   {}'.format(accuracy_score(y_test, knn_pred)))\n",
    "print('svm:   {}'.format(accuracy_score(y_test, svm_pred)))"
   ]
  },
  {
   "cell_type": "markdown",
   "metadata": {},
   "source": [
    "확률 합계"
   ]
  },
  {
   "cell_type": "code",
   "execution_count": 11,
   "metadata": {},
   "outputs": [],
   "source": [
    "# svm_prova = svm.predict_proba()"
   ]
  },
  {
   "cell_type": "markdown",
   "metadata": {},
   "source": [
    "하드 보팅, 소프느 보팅은 VotingClassifier를 사용해 쉽게 구현할 수 있다."
   ]
  },
  {
   "cell_type": "markdown",
   "metadata": {},
   "source": [
    "하드 보팅  \n",
    "하드 보팅은 일반적인 투표와 같이 각 분류기의 예측값들을 모아 가장 많은 투료를 받은 예측값으로 최종 결론을 내리는 방식이다. "
   ]
  },
  {
   "cell_type": "code",
   "execution_count": 10,
   "metadata": {},
   "outputs": [
    {
     "name": "stdout",
     "output_type": "stream",
     "text": [
      "svm:   0.8972222222222223\n"
     ]
    }
   ],
   "source": [
    "voting_clf= VotingClassifier(estimators=[('decision tree', dtree), ('knn', knn), ('svm', svm)], weights=[1,1,1],\n",
    "                            voting='hard').fit(X_train, y_train)\n",
    "hard_voting_pred = voting_clf.predict(X_test)\n",
    "print('svm:   {}'.format(accuracy_score(y_test, hard_voting_pred)))"
   ]
  },
  {
   "cell_type": "markdown",
   "metadata": {},
   "source": [
    "소프트 보팅"
   ]
  },
  {
   "cell_type": "code",
   "execution_count": 13,
   "metadata": {},
   "outputs": [
    {
     "name": "stdout",
     "output_type": "stream",
     "text": [
      "svm:   0.9111111111111111\n"
     ]
    }
   ],
   "source": [
    "voting_clf= VotingClassifier(estimators=[('decision tree', dtree), ('knn', knn), ('svm', svm)], weights=[1,1,1],\n",
    "                            voting='soft').fit(X_train, y_train)\n",
    "soft_voting_pred = voting_clf.predict(X_test)\n",
    "print('svm:   {}'.format(accuracy_score(y_test, soft_voting_pred)))"
   ]
  },
  {
   "cell_type": "markdown",
   "metadata": {},
   "source": [
    "단일 모델과 앙상블 모델의 정확도 비교 신격화"
   ]
  },
  {
   "cell_type": "code",
   "execution_count": 16,
   "metadata": {},
   "outputs": [
    {
     "data": {
      "image/png": "[encoded data removed]",
      "text/plain": [
       "<Figure size 432x288 with 1 Axes>"
      ]
     },
     "metadata": {
      "needs_background": "light"
     },
     "output_type": "display_data"
    }
   ],
   "source": [
    "import matplotlib.pyplot as plt\n",
    "import numpy as np\n",
    "%matplotlib inline\n",
    "\n",
    "x = np.arange(5)\n",
    "plt.bar(x, height=[\n",
    "    accuracy_score(y_test, dtree_pred),\n",
    "    accuracy_score(y_test, knn_pred),\n",
    "    accuracy_score(y_test, svm_pred),\n",
    "    accuracy_score(y_test, hard_voting_pred),\n",
    "    accuracy_score(y_test, soft_voting_pred)\n",
    "])\n",
    "plt.xticks(x, ['decision_tree', 'knn', 'svm', 'hard_voting', 'soft_voting'])\n",
    "plt.show()"
   ]
  }
 ],
 "metadata": {
  "kernelspec": {
   "display_name": "Python 3",
   "language": "python",
   "name": "python3"
  },
  "language_info": {
   "codemirror_mode": {
    "name": "ipython",
    "version": 3
   },
   "file_extension": ".py",
   "mimetype": "text/x-python",
   "name": "python",
   "nbconvert_exporter": "python",
   "pygments_lexer": "ipython3",
   "version": "3.7.6"
  }
 },
 "nbformat": 4,
 "nbformat_minor": 4
}
