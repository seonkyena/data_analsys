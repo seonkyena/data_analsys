{
 "cells": [
  {
   "cell_type": "code",
   "execution_count": 1,
   "metadata": {},
   "outputs": [],
   "source": [
    "import warnings as wns\n",
    "wns.filterwarnings('ignore')"
   ]
  },
  {
   "cell_type": "code",
   "execution_count": 2,
   "metadata": {},
   "outputs": [
    {
     "name": "stdout",
     "output_type": "stream",
     "text": [
      "WARNING:tensorflow:From C:\\ProgramData\\Anaconda3\\lib\\site-packages\\tensorflow\\python\\compat\\v2_compat.py:96: disable_resource_variables (from tensorflow.python.ops.variable_scope) is deprecated and will be removed in a future version.\n",
      "Instructions for updating:\n",
      "non-resource variables are not supported in the long term\n"
     ]
    }
   ],
   "source": [
    "import tensorflow.compat.v1 as tf\n",
    "tf.disable_v2_behavior()\n",
    "import numpy as np\n",
    "import pandas as pd\n",
    "import matplotlib.pyplot as plt"
   ]
  },
  {
   "cell_type": "markdown",
   "metadata": {},
   "source": [
    "word2Vec은 Word to Vector의 줄임말로 단어를 벡터로 변환시킨 값이라고 볼 수 있다.  \n",
    "word2Vec의 장점은 의미가 비슷한 단어는 벡터 공간에서 서로 가까운 위치에 존재하게 되는 비지도 학습으로 말뭉치 데이터만 있으면 쉽게 word2Vec를 구현할 수 있다."
   ]
  },
  {
   "cell_type": "markdown",
   "metadata": {},
   "source": [
    "데이터 획득"
   ]
  },
  {
   "cell_type": "code",
   "execution_count": 3,
   "metadata": {},
   "outputs": [
    {
     "data": {
      "text/plain": [
       "['king is a strong man',\n",
       " 'queen is a wise woman',\n",
       " 'boy is a young man',\n",
       " 'girl is a young woman',\n",
       " 'prince is a young king',\n",
       " 'princess is a young queen',\n",
       " 'man is strong',\n",
       " 'woman is pretty',\n",
       " 'prince is a boy will be king',\n",
       " 'princess is a girl will be queen']"
      ]
     },
     "execution_count": 3,
     "metadata": {},
     "output_type": "execute_result"
    }
   ],
   "source": [
    "corpus = ['king is a strong man', \n",
    "          'queen is a wise woman', \n",
    "          'boy is a young man', \n",
    "          'girl is a young woman',\n",
    "          'prince is a young king', \n",
    "          'princess is a young queen', \n",
    "          'man is strong', \n",
    "          'woman is pretty',\n",
    "          'prince is a boy will be king', \n",
    "          'princess is a girl will be queen']\n",
    "corpus"
   ]
  },
  {
   "cell_type": "markdown",
   "metadata": {},
   "source": [
    "불용어(stop words) 제거하기  \n",
    "불용어란 학습에 도움이 되지도 않으면서 빈번하게 발생되는 단어를 의미하며 효율적인 학습을 위해 불용어를 데이터에서 제거한다."
   ]
  },
  {
   "cell_type": "code",
   "execution_count": 4,
   "metadata": {},
   "outputs": [
    {
     "data": {
      "text/plain": [
       "['king strong man',\n",
       " 'queen wise woman',\n",
       " 'boy young man',\n",
       " 'girl young woman',\n",
       " 'prince young king',\n",
       " 'princess young queen',\n",
       " 'man strong',\n",
       " 'woman pretty',\n",
       " 'prince boy king',\n",
       " 'princess girl queen']"
      ]
     },
     "execution_count": 4,
     "metadata": {},
     "output_type": "execute_result"
    }
   ],
   "source": [
    "# 불용어를 제거하는 함수를 만든다.\n",
    "def remove_stop_words(corpus):\n",
    "    stop_words = ['is', 'a', 'will', 'be']\n",
    "    results = [] # 인수로 넘어온 문장에서 불용어를 제거한 결과를 저장시켜 리턴할 빈 리스트를 선언한다.\n",
    "    # 불용어를 제거할 문장을 한줄씩 읽어가며 반복한다.\n",
    "    for text in corpus:\n",
    "        # print(text)\n",
    "        # 불용어를 제거하기 위해서 공백을 경계로 문장을 단어 단위로 나눈다.\n",
    "        temp = text.split(' ')\n",
    "        # 불용어 개수만큼 반복하며 불용어를 제거할 문장에서 불용어를 제거한다.\n",
    "        for stop_word in stop_words:\n",
    "            # 문장에 불용어가 포함되어있으면 제거한다.\n",
    "            while stop_word in temp:\n",
    "                temp.remove(stop_word)\n",
    "        # ===== for stop_word in stop_words\n",
    "        # print(temp)\n",
    "        # 불용어가 제거된 단어 사이에 join() 메소드로 공백을 넣어서 불요어가 제거된 문장으로 만든다.\n",
    "        results.append(' '.join(temp))\n",
    "    return results\n",
    "\n",
    "corpus = remove_stop_words(corpus)\n",
    "corpus"
   ]
  },
  {
   "cell_type": "markdown",
   "metadata": {},
   "source": [
    "불용어를 제거한 후 데이터에 존재하는 단어들은 다음과 같다."
   ]
  },
  {
   "cell_type": "code",
   "execution_count": 5,
   "metadata": {},
   "outputs": [
    {
     "name": "stdout",
     "output_type": "stream",
     "text": [
      "['king', 'strong', 'man', 'queen', 'wise', 'woman', 'boy', 'young', 'man', 'girl', 'young', 'woman', 'prince', 'young', 'king', 'princess', 'young', 'queen', 'man', 'strong', 'woman', 'pretty', 'prince', 'boy', 'king', 'princess', 'girl', 'queen']\n",
      "================================================================================\n",
      "{'young', 'strong', 'girl', 'princess', 'boy', 'man', 'wise', 'pretty', 'woman', 'king', 'prince', 'queen'}\n"
     ]
    }
   ],
   "source": [
    "words = []\n",
    "for text in corpus:\n",
    "    for word in text.split(' '):\n",
    "        words.append(word)\n",
    "print(words) # 중복되는 단어가 존재한다.\n",
    "print('=' * 80)\n",
    "\n",
    "# 불용어를 제거한 단어의 중복을 제거한다.\n",
    "words = set(words)\n",
    "print(words) # 중복되는 단어가 존재하지 않는다."
   ]
  },
  {
   "cell_type": "markdown",
   "metadata": {},
   "source": [
    "단어별 매핑 테이블 만들기  \n",
    "단어를 원 핫 인코딩으로 변환하기 위해서 가장 먼저 인덱스로 인코딩을 해야하고 단어를 손쉽게 인덱싱하기 위해 key는 단어이고 value는 인덱스인 딕셔너리를 만든다."
   ]
  },
  {
   "cell_type": "code",
   "execution_count": 6,
   "metadata": {},
   "outputs": [
    {
     "name": "stdout",
     "output_type": "stream",
     "text": [
      "0 young\n",
      "1 strong\n",
      "2 girl\n",
      "3 princess\n",
      "4 boy\n",
      "5 man\n",
      "6 wise\n",
      "7 pretty\n",
      "8 woman\n",
      "9 king\n",
      "10 prince\n",
      "11 queen\n",
      "================================================================================\n",
      "{'young': 0, 'strong': 1, 'girl': 2, 'princess': 3, 'boy': 4, 'man': 5, 'wise': 6, 'pretty': 7, 'woman': 8, 'king': 9, 'prince': 10, 'queen': 11}\n"
     ]
    }
   ],
   "source": [
    "word2int = {}\n",
    "for index, key in enumerate(words):\n",
    "    print(index, key)\n",
    "    word2int[key] = index\n",
    "print('=' * 80)\n",
    "print(word2int)"
   ]
  },
  {
   "cell_type": "markdown",
   "metadata": {},
   "source": [
    "레이블 생성  \n",
    "skip gram 방식으로 각 단어별 레이블을 생성한다."
   ]
  },
  {
   "cell_type": "code",
   "execution_count": 7,
   "metadata": {},
   "outputs": [
    {
     "name": "stdout",
     "output_type": "stream",
     "text": [
      "[['king', 'strong', 'man'], ['queen', 'wise', 'woman'], ['boy', 'young', 'man'], ['girl', 'young', 'woman'], ['prince', 'young', 'king'], ['princess', 'young', 'queen'], ['man', 'strong'], ['woman', 'pretty'], ['prince', 'boy', 'king'], ['princess', 'girl', 'queen']]\n"
     ]
    }
   ],
   "source": [
    "sentences = []\n",
    "for sentence in corpus:\n",
    "    sentences.append(sentence.split(' '))\n",
    "print(sentences)"
   ]
  },
  {
   "cell_type": "code",
   "execution_count": 8,
   "metadata": {
    "scrolled": true
   },
   "outputs": [
    {
     "name": "stdout",
     "output_type": "stream",
     "text": [
      "king strong\n",
      "king man\n",
      "strong king\n",
      "strong man\n",
      "man king\n",
      "man strong\n",
      "================================================================================\n",
      "queen wise\n",
      "queen woman\n",
      "wise queen\n",
      "wise woman\n",
      "woman queen\n",
      "woman wise\n",
      "================================================================================\n",
      "boy young\n",
      "boy man\n",
      "young boy\n",
      "young man\n",
      "man boy\n",
      "man young\n",
      "================================================================================\n",
      "girl young\n",
      "girl woman\n",
      "young girl\n",
      "young woman\n",
      "woman girl\n",
      "woman young\n",
      "================================================================================\n",
      "prince young\n",
      "prince king\n",
      "young prince\n",
      "young king\n",
      "king prince\n",
      "king young\n",
      "================================================================================\n",
      "princess young\n",
      "princess queen\n",
      "young princess\n",
      "young queen\n",
      "queen princess\n",
      "queen young\n",
      "================================================================================\n",
      "man strong\n",
      "strong man\n",
      "================================================================================\n",
      "woman pretty\n",
      "pretty woman\n",
      "================================================================================\n",
      "prince boy\n",
      "prince king\n",
      "boy prince\n",
      "boy king\n",
      "king prince\n",
      "king boy\n",
      "================================================================================\n",
      "princess girl\n",
      "princess queen\n",
      "girl princess\n",
      "girl queen\n",
      "queen princess\n",
      "queen girl\n",
      "================================================================================\n"
     ]
    }
   ],
   "source": [
    "WINDOW_SIZE = 2\n",
    "data = []\n",
    "# 단어별 레이블을 생성할 문장의 개수만큼 반복하며 단어별 레이블을 생성한다.\n",
    "for sentence in sentences:\n",
    "    # print('sentence: {}'.format(sentence))\n",
    "    for index, word in enumerate(sentence):\n",
    "        # print('index: {}, word: {}'.format(index, word))\n",
    "        \n",
    "        for neighbor in sentence[max(index - WINDOW_SIZE, 0):min(index + WINDOW_SIZE, len(sentence)) + 1]:\n",
    "            # print('neighbor: {}'.format(neighbor))\n",
    "            if neighbor != word:\n",
    "                data.append([word, neighbor])\n",
    "                print(word, neighbor)\n",
    "            # ===== if neighbor != word\n",
    "        # ===== for neighbor\n",
    "    # ===== for index, word\n",
    "    print('=' * 80)\n",
    "# ===== for sentence"
   ]
  },
  {
   "cell_type": "code",
   "execution_count": 9,
   "metadata": {},
   "outputs": [
    {
     "data": {
      "text/html": [
       "<div>\n",
       "<style scoped>\n",
       "    .dataframe tbody tr th:only-of-type {\n",
       "        vertical-align: middle;\n",
       "    }\n",
       "\n",
       "    .dataframe tbody tr th {\n",
       "        vertical-align: top;\n",
       "    }\n",
       "\n",
       "    .dataframe thead th {\n",
       "        text-align: right;\n",
       "    }\n",
       "</style>\n",
       "<table border=\"1\" class=\"dataframe\">\n",
       "  <thead>\n",
       "    <tr style=\"text-align: right;\">\n",
       "      <th></th>\n",
       "      <th>input</th>\n",
       "      <th>label</th>\n",
       "    </tr>\n",
       "  </thead>\n",
       "  <tbody>\n",
       "    <tr>\n",
       "      <th>0</th>\n",
       "      <td>king</td>\n",
       "      <td>strong</td>\n",
       "    </tr>\n",
       "    <tr>\n",
       "      <th>1</th>\n",
       "      <td>king</td>\n",
       "      <td>man</td>\n",
       "    </tr>\n",
       "    <tr>\n",
       "      <th>2</th>\n",
       "      <td>strong</td>\n",
       "      <td>king</td>\n",
       "    </tr>\n",
       "    <tr>\n",
       "      <th>3</th>\n",
       "      <td>strong</td>\n",
       "      <td>man</td>\n",
       "    </tr>\n",
       "    <tr>\n",
       "      <th>4</th>\n",
       "      <td>man</td>\n",
       "      <td>king</td>\n",
       "    </tr>\n",
       "    <tr>\n",
       "      <th>5</th>\n",
       "      <td>man</td>\n",
       "      <td>strong</td>\n",
       "    </tr>\n",
       "    <tr>\n",
       "      <th>6</th>\n",
       "      <td>queen</td>\n",
       "      <td>wise</td>\n",
       "    </tr>\n",
       "    <tr>\n",
       "      <th>7</th>\n",
       "      <td>queen</td>\n",
       "      <td>woman</td>\n",
       "    </tr>\n",
       "    <tr>\n",
       "      <th>8</th>\n",
       "      <td>wise</td>\n",
       "      <td>queen</td>\n",
       "    </tr>\n",
       "    <tr>\n",
       "      <th>9</th>\n",
       "      <td>wise</td>\n",
       "      <td>woman</td>\n",
       "    </tr>\n",
       "  </tbody>\n",
       "</table>\n",
       "</div>"
      ],
      "text/plain": [
       "    input   label\n",
       "0    king  strong\n",
       "1    king     man\n",
       "2  strong    king\n",
       "3  strong     man\n",
       "4     man    king\n",
       "5     man  strong\n",
       "6   queen    wise\n",
       "7   queen   woman\n",
       "8    wise   queen\n",
       "9    wise   woman"
      ]
     },
     "execution_count": 9,
     "metadata": {},
     "output_type": "execute_result"
    }
   ],
   "source": [
    "df = pd.DataFrame(data, columns=['input', 'label'])\n",
    "df.head(10)"
   ]
  },
  {
   "cell_type": "code",
   "execution_count": 10,
   "metadata": {},
   "outputs": [
    {
     "data": {
      "image/png": "[encoded data removed]",
      "text/plain": [
       "<IPython.core.display.Image object>"
      ]
     },
     "execution_count": 10,
     "metadata": {
      "image/png": {
       "width": "700"
      }
     },
     "output_type": "execute_result"
    }
   ],
   "source": [
    "from IPython.display import Image\n",
    "Image('./image/word2vec.png', width='700')"
   ]
  },
  {
   "cell_type": "code",
   "execution_count": 11,
   "metadata": {},
   "outputs": [],
   "source": [
    "ONE_HOT_DIM = len(words)\n",
    "\n",
    "# 숫자를 원 핫 인코딩으로 전환하는 함수를 만든다.\n",
    "def to_one_hot_encoding(data_point_index):\n",
    "    one_hot_encoding = np.zeros(ONE_HOT_DIM)\n",
    "    one_hot_encoding[data_point_index] = 1\n",
    "    return one_hot_encoding\n",
    "\n",
    "# results = to_one_hot_encoding(0)\n",
    "# results\n",
    "\n",
    "X = [] # 입력 단어\n",
    "Y = [] # 레이블\n",
    "\n",
    "# 데이터프레임에 저장된 입력과 입력에 따른 결과를 원 핫 인코딩으로 변환해서 X, Y 리스트에 저장한다.\n",
    "for x, y in zip(df['input'], df['label']):\n",
    "    X.append(to_one_hot_encoding(word2int[x]))\n",
    "    Y.append(to_one_hot_encoding(word2int[y]))\n",
    "# print(X[0], Y[0])\n",
    "\n",
    "# 딥러닝 모델 입력값으로 전환한다.\n",
    "# np.array()는 ndarray(배열)을 만드는데 np.asarray()는 이미 ndarray의 데이터 형태가 설정되어 있다면 데이터 형태가 다를 \n",
    "# 경우에만 복사가 된다.\n",
    "X_train = np.asarray(X)\n",
    "Y_train = np.asarray(Y)\n",
    "# print(X_train[0], Y_train[0])\n",
    "\n",
    "# 입력값 및 레이블을 받기 위한 placeholder를 설정한다.\n",
    "x = tf.placeholder(tf.float32, shape=(None, ONE_HOT_DIM))\n",
    "y_label = tf.placeholder(tf.float32, shape=(None, ONE_HOT_DIM))\n",
    "\n",
    "# 시각화를 위해 임베딩을 2차원으로 설정한다.\n",
    "EMBEDDING_DIM = 2\n",
    "\n",
    "# 히든 레이어\n",
    "# tf.truncated_normal()는 꼬리를 잘라낸 정규 분포를 따르는 난수를 얻어온다.\n",
    "W1 = tf.Variable(tf.truncated_normal([ONE_HOT_DIM, EMBEDDING_DIM], stddev=0.1))\n",
    "hidden_layer = tf.matmul(x, W1)\n",
    "\n",
    "# 출력 레이어\n",
    "W2 = tf.Variable(tf.random_normal([EMBEDDING_DIM, ONE_HOT_DIM]))\n",
    "b2 = tf.Variable(tf.random_normal([1]))\n",
    "prediction = tf.nn.softmax(tf.add(tf.matmul(hidden_layer, W2), b2))\n",
    "\n",
    "# 손실 함수: 크로스 엔트로피\n",
    "loss = tf.reduce_mean(-tf.reduce_sum(y_label * tf.log(prediction), axis=1))\n",
    "\n",
    "# 최적화\n",
    "train_op = tf.train.GradientDescentOptimizer(0.01).minimize(loss)"
   ]
  },
  {
   "cell_type": "markdown",
   "metadata": {},
   "source": [
    "학습시킨다."
   ]
  },
  {
   "cell_type": "code",
   "execution_count": 12,
   "metadata": {},
   "outputs": [
    {
     "name": "stdout",
     "output_type": "stream",
     "text": [
      "iteration:     0. loss: 2.46837\n",
      "iteration:  2000. loss: 2.18535\n",
      "iteration:  4000. loss: 2.03030\n",
      "iteration:  6000. loss: 1.92479\n",
      "iteration:  8000. loss: 1.87584\n",
      "iteration: 10000. loss: 1.85312\n",
      "iteration: 12000. loss: 1.83860\n",
      "iteration: 14000. loss: 1.82801\n",
      "iteration: 16000. loss: 1.81970\n",
      "iteration: 18000. loss: 1.81292\n",
      "iteration: 20000. loss: 1.80724\n"
     ]
    }
   ],
   "source": [
    "sess = tf.Session()\n",
    "init = tf.global_variables_initializer()\n",
    "sess.run(init)\n",
    "\n",
    "iteration = 20000\n",
    "for i in range(iteration + 1):\n",
    "    sess.run(train_op, feed_dict={x: X_train, y_label: Y_train})\n",
    "    if i % 2000 == 0:\n",
    "        print('iteration: {0:5d}. loss: {1:7.5f}'.format(i, sess.run(loss, feed_dict={x: X_train, y_label: Y_train})))"
   ]
  },
  {
   "cell_type": "markdown",
   "metadata": {},
   "source": [
    "히든 레이어의 값(word2Vec) 추출하기"
   ]
  },
  {
   "cell_type": "code",
   "execution_count": 13,
   "metadata": {},
   "outputs": [
    {
     "name": "stdout",
     "output_type": "stream",
     "text": [
      "[[-0.09715433 -0.17796329]\n",
      " [ 1.0943869  -2.7189415 ]\n",
      " [-0.3867351   0.1906947 ]\n",
      " [-0.40322655 -0.9721145 ]\n",
      " [ 1.2049232  -1.0929189 ]\n",
      " [ 2.3029745   0.9507624 ]\n",
      " [-2.2173321  -0.158806  ]\n",
      " [-1.9202901   1.0080615 ]\n",
      " [-0.26241866 -0.32952747]\n",
      " [ 1.0090288  -0.00492052]\n",
      " [ 2.8692734  -0.33430865]\n",
      " [-0.20972249  0.6249991 ]]\n"
     ]
    }
   ],
   "source": [
    "vectors = sess.run(W1)\n",
    "print(vectors)"
   ]
  },
  {
   "cell_type": "markdown",
   "metadata": {},
   "source": [
    "word2Vec의 좌표값을 데이터프레임으로 저장한다."
   ]
  },
  {
   "cell_type": "code",
   "execution_count": 14,
   "metadata": {},
   "outputs": [
    {
     "data": {
      "text/html": [
       "<div>\n",
       "<style scoped>\n",
       "    .dataframe tbody tr th:only-of-type {\n",
       "        vertical-align: middle;\n",
       "    }\n",
       "\n",
       "    .dataframe tbody tr th {\n",
       "        vertical-align: top;\n",
       "    }\n",
       "\n",
       "    .dataframe thead th {\n",
       "        text-align: right;\n",
       "    }\n",
       "</style>\n",
       "<table border=\"1\" class=\"dataframe\">\n",
       "  <thead>\n",
       "    <tr style=\"text-align: right;\">\n",
       "      <th></th>\n",
       "      <th>word</th>\n",
       "      <th>x1</th>\n",
       "      <th>x2</th>\n",
       "    </tr>\n",
       "  </thead>\n",
       "  <tbody>\n",
       "    <tr>\n",
       "      <th>0</th>\n",
       "      <td>young</td>\n",
       "      <td>-0.097154</td>\n",
       "      <td>-0.177963</td>\n",
       "    </tr>\n",
       "    <tr>\n",
       "      <th>1</th>\n",
       "      <td>strong</td>\n",
       "      <td>1.094387</td>\n",
       "      <td>-2.718941</td>\n",
       "    </tr>\n",
       "    <tr>\n",
       "      <th>2</th>\n",
       "      <td>girl</td>\n",
       "      <td>-0.386735</td>\n",
       "      <td>0.190695</td>\n",
       "    </tr>\n",
       "    <tr>\n",
       "      <th>3</th>\n",
       "      <td>princess</td>\n",
       "      <td>-0.403227</td>\n",
       "      <td>-0.972115</td>\n",
       "    </tr>\n",
       "    <tr>\n",
       "      <th>4</th>\n",
       "      <td>boy</td>\n",
       "      <td>1.204923</td>\n",
       "      <td>-1.092919</td>\n",
       "    </tr>\n",
       "    <tr>\n",
       "      <th>5</th>\n",
       "      <td>man</td>\n",
       "      <td>2.302974</td>\n",
       "      <td>0.950762</td>\n",
       "    </tr>\n",
       "    <tr>\n",
       "      <th>6</th>\n",
       "      <td>wise</td>\n",
       "      <td>-2.217332</td>\n",
       "      <td>-0.158806</td>\n",
       "    </tr>\n",
       "    <tr>\n",
       "      <th>7</th>\n",
       "      <td>pretty</td>\n",
       "      <td>-1.920290</td>\n",
       "      <td>1.008062</td>\n",
       "    </tr>\n",
       "    <tr>\n",
       "      <th>8</th>\n",
       "      <td>woman</td>\n",
       "      <td>-0.262419</td>\n",
       "      <td>-0.329527</td>\n",
       "    </tr>\n",
       "    <tr>\n",
       "      <th>9</th>\n",
       "      <td>king</td>\n",
       "      <td>1.009029</td>\n",
       "      <td>-0.004921</td>\n",
       "    </tr>\n",
       "    <tr>\n",
       "      <th>10</th>\n",
       "      <td>prince</td>\n",
       "      <td>2.869273</td>\n",
       "      <td>-0.334309</td>\n",
       "    </tr>\n",
       "    <tr>\n",
       "      <th>11</th>\n",
       "      <td>queen</td>\n",
       "      <td>-0.209722</td>\n",
       "      <td>0.624999</td>\n",
       "    </tr>\n",
       "  </tbody>\n",
       "</table>\n",
       "</div>"
      ],
      "text/plain": [
       "        word        x1        x2\n",
       "0      young -0.097154 -0.177963\n",
       "1     strong  1.094387 -2.718941\n",
       "2       girl -0.386735  0.190695\n",
       "3   princess -0.403227 -0.972115\n",
       "4        boy  1.204923 -1.092919\n",
       "5        man  2.302974  0.950762\n",
       "6       wise -2.217332 -0.158806\n",
       "7     pretty -1.920290  1.008062\n",
       "8      woman -0.262419 -0.329527\n",
       "9       king  1.009029 -0.004921\n",
       "10    prince  2.869273 -0.334309\n",
       "11     queen -0.209722  0.624999"
      ]
     },
     "execution_count": 14,
     "metadata": {},
     "output_type": "execute_result"
    }
   ],
   "source": [
    "w2v_df = pd.DataFrame(vectors, columns=['x1', 'x2'])\n",
    "w2v_df['word'] = words\n",
    "w2v_df = w2v_df[['word', 'x1', 'x2']]\n",
    "w2v_df"
   ]
  },
  {
   "cell_type": "markdown",
   "metadata": {},
   "source": [
    "word2Vec를 2차원 공간에 시각화한다."
   ]
  },
  {
   "cell_type": "code",
   "execution_count": 15,
   "metadata": {},
   "outputs": [
    {
     "data": {
      "image/png": "[encoded data removed]",
      "text/plain": [
       "<Figure size 432x288 with 1 Axes>"
      ]
     },
     "metadata": {
      "needs_background": "light"
     },
     "output_type": "display_data"
    }
   ],
   "source": [
    "fig, ax = plt.subplots()\n",
    "\n",
    "for word, x1, x2 in zip(w2v_df['word'], w2v_df['x1'], w2v_df['x2']):\n",
    "    ax.annotate(word, (x1, x2))\n",
    "\n",
    "PADDING = 1.0\n",
    "x_axis_min = np.amin(vectors, axis=0)[0] - PADDING\n",
    "y_axis_min = np.amin(vectors, axis=0)[1] - PADDING\n",
    "x_axis_max = np.amax(vectors, axis=0)[0] + PADDING\n",
    "y_axis_max = np.amax(vectors, axis=0)[1] + PADDING\n",
    "\n",
    "plt.xlim(x_axis_min, x_axis_max)\n",
    "plt.ylim(y_axis_min, y_axis_max)\n",
    "plt.rcParams['figure.figsize'] = [12, 10]\n",
    "plt.show()"
   ]
  }
 ],
 "metadata": {
  "kernelspec": {
   "display_name": "Python 3",
   "language": "python",
   "name": "python3"
  },
  "language_info": {
   "codemirror_mode": {
    "name": "ipython",
    "version": 3
   },
   "file_extension": ".py",
   "mimetype": "text/x-python",
   "name": "python",
   "nbconvert_exporter": "python",
   "pygments_lexer": "ipython3",
   "version": "3.7.6"
  }
 },
 "nbformat": 4,
 "nbformat_minor": 4
}
