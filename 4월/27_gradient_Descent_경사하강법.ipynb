{
 "cells": [
  {
   "cell_type": "markdown",
   "metadata": {},
   "source": [
    "경사 하강법(Gradient Descent)  \n",
    "기울기를 너무 크게 잡으면 오차가 커지고 기울기를 너무 작게 잡으면 오차가 커진다.  \n",
    "기울기를 무한대로 키우면 오차도 무한대로 커지고 기울기를 무한대로 작게 해도 오차는 무한대로 커진다."
   ]
  },
  {
   "cell_type": "code",
   "execution_count": 1,
   "metadata": {},
   "outputs": [
    {
     "name": "stdout",
     "output_type": "stream",
     "text": [
      "WARNING:tensorflow:From C:\\ProgramData\\Anaconda3\\lib\\site-packages\\tensorflow\\python\\compat\\v2_compat.py:96: disable_resource_variables (from tensorflow.python.ops.variable_scope) is deprecated and will be removed in a future version.\n",
      "Instructions for updating:\n",
      "non-resource variables are not supported in the long term\n"
     ]
    }
   ],
   "source": [
    "import warnings\n",
    "warnings.filterwarnings('ignore')\n",
    "import numpy as np\n",
    "import pandas as pd\n",
    "import tensorflow.compat.v1 as tf\n",
    "tf.disable_v2_behavior()"
   ]
  },
  {
   "cell_type": "code",
   "execution_count": 2,
   "metadata": {},
   "outputs": [],
   "source": [
    "# 학습 데이터를 만든다.\n",
    "data = [[2, 81], [4, 93], [6, 91], [8, 97]] # [공부한 시간(x), 실제 성적(y)]\n",
    "xData = [i[0] for i in data] # 공부한 시간\n",
    "yData = [i[1] for i in data] # 시험 성적"
   ]
  },
  {
   "cell_type": "code",
   "execution_count": 3,
   "metadata": {},
   "outputs": [
    {
     "name": "stdout",
     "output_type": "stream",
     "text": [
      "a : [8.250317]. b : [14.220881]\n"
     ]
    }
   ],
   "source": [
    "# 기울기 a와 y절편 b를 임의로 정한다.\n",
    "# 기울기의 범위는 0 ~ 10 사이이며, y절편의 범위는 0 ~ 100 사이에서 임의로(random) 변하게 한다.\n",
    "# random_uniform() : tensorflow에서 난수를 발생시키는 메소드\n",
    "# random_uniform([난수의 개수(차원)], 난수의 최소값, 난수의 최대값, dtype=난수의 데이터 타입, seed=숫자)\n",
    "# 난수 발생시 seed를 지정하면 항상 일정한 배열의 난수가 생성된다.\n",
    "a = tf.Variable(tf.random_uniform([1], 0, 10, dtype=tf.float32))\n",
    "b = tf.Variable(tf.random_uniform([1], 0, 100, dtype=tf.float32))\n",
    "sess = tf.Session()\n",
    "sess.run(tf.global_variables_initializer())\n",
    "print('a : {}. b : {}'.format(sess.run(a), sess.run(b)))"
   ]
  },
  {
   "cell_type": "code",
   "execution_count": 4,
   "metadata": {},
   "outputs": [],
   "source": [
    "# 예측 성적(y)을 얻기 위한 가설(수식)을 만든다.\n",
    "y = a * xData + b"
   ]
  },
  {
   "cell_type": "code",
   "execution_count": 5,
   "metadata": {},
   "outputs": [],
   "source": [
    "# tensorflow에서 실행할 RMSE(평균 제곱근 오차) 수식(오차 비용 함수)을 만든다.\n",
    "# tf.square(y - yData) => 예측 성적과 실제 성적의 편차의 제곱을 계산한다. => 오차가 무조건 양수로 나오게 한다.\n",
    "# tf.reduce_mean(tf.square(y - yData)) => \n",
    "# tf.sqrt(tf.reduce_mean(tf.square(y - yData)))\n",
    "rmse = tf.sqrt(tf.reduce_mean(tf.square(y - yData)))"
   ]
  },
  {
   "cell_type": "code",
   "execution_count": 6,
   "metadata": {},
   "outputs": [],
   "source": [
    "# 학습율을 정한다.\n",
    "learning_rate = 0.1\n",
    "# GradientDescentOptimizer(학습율) : 학습율에 따라 경사 하강 알고리즘을 계산한다.\n",
    "gradient_descent = tf.train.GradientDescentOptimizer(learning_rate).minimize(rmse)"
   ]
  },
  {
   "cell_type": "markdown",
   "metadata": {},
   "source": [
    "학습을 시킨다."
   ]
  },
  {
   "cell_type": "code",
   "execution_count": 7,
   "metadata": {},
   "outputs": [
    {
     "name": "stdout",
     "output_type": "stream",
     "text": [
      "Epoch:    0, RMSE: 40.9902, 기울기:  6.6441, y절편: 96.9981\n",
      "Epoch:  200, RMSE:  5.0301, 기울기:  0.6076, y절편: 89.0993\n",
      "Epoch:  400, RMSE:  3.4283, 기울기:  1.5373, y절편: 83.5516\n",
      "Epoch:  600, RMSE:  2.9547, 기울기:  2.0309, y절편: 80.6060\n",
      "Epoch:  800, RMSE:  2.8889, 기울기:  2.2119, y절편: 79.5255\n",
      "Epoch: 1000, RMSE:  2.8818, 기울기:  2.2715, y절편: 79.1702\n",
      "Epoch: 1200, RMSE:  2.8811, 기울기:  2.2908, y절편: 79.0551\n",
      "Epoch: 1400, RMSE:  2.8810, 기울기:  2.2970, y절편: 79.0178\n",
      "Epoch: 1600, RMSE:  2.8810, 기울기:  2.2990, y절편: 79.0058\n",
      "Epoch: 1800, RMSE:  2.8810, 기울기:  2.2997, y절편: 79.0019\n",
      "Epoch: 2000, RMSE:  2.8810, 기울기:  2.2999, y절편: 79.0006\n",
      "Epoch: 2200, RMSE:  2.8810, 기울기:  2.2999, y절편: 79.0006\n",
      "Epoch: 2400, RMSE:  2.8810, 기울기:  2.2999, y절편: 79.0006\n",
      "Epoch: 2600, RMSE:  2.8810, 기울기:  2.2999, y절편: 79.0006\n",
      "Epoch: 2800, RMSE:  2.8810, 기울기:  2.2999, y절편: 79.0006\n",
      "Epoch: 3000, RMSE:  2.8810, 기울기:  2.2999, y절편: 79.0006\n"
     ]
    }
   ],
   "source": [
    "sess = tf.Session()\n",
    "sess.run(tf.global_variables_initializer())\n",
    "\n",
    "for i in range(3001):\n",
    "    sess.run(gradient_descent)\n",
    "    if i % 200 == 0:\n",
    "        # Epoch => 1번 학습을 의미하는 용어, RMSE, 기울기, y절편\n",
    "        print('Epoch: {0:4d}, RMSE: {1:7.4f}, 기울기: {2:7.4f}, y절편: {3:7.4f}'.format(i, sess.run(rmse), sess.run(a)[0], sess.run(b)[0]))"
   ]
  },
  {
   "cell_type": "code",
   "execution_count": 3,
   "metadata": {},
   "outputs": [],
   "source": [
    "from IPython.display import Image\n",
    "# Image('./gradient_descent.png', width=1100)"
   ]
  }
 ],
 "metadata": {
  "kernelspec": {
   "display_name": "Python 3",
   "language": "python",
   "name": "python3"
  },
  "language_info": {
   "codemirror_mode": {
    "name": "ipython",
    "version": 3
   },
   "file_extension": ".py",
   "mimetype": "text/x-python",
   "name": "python",
   "nbconvert_exporter": "python",
   "pygments_lexer": "ipython3",
   "version": "3.7.6"
  }
 },
 "nbformat": 4,
 "nbformat_minor": 4
}
