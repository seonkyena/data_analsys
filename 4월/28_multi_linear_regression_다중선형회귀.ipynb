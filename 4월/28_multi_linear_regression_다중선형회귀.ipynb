{
 "cells": [
  {
   "cell_type": "code",
   "execution_count": 1,
   "metadata": {},
   "outputs": [
    {
     "name": "stdout",
     "output_type": "stream",
     "text": [
      "WARNING:tensorflow:From C:\\ProgramData\\Anaconda3\\lib\\site-packages\\tensorflow\\python\\compat\\v2_compat.py:96: disable_resource_variables (from tensorflow.python.ops.variable_scope) is deprecated and will be removed in a future version.\n",
      "Instructions for updating:\n",
      "non-resource variables are not supported in the long term\n"
     ]
    }
   ],
   "source": [
    "import warnings\n",
    "warnings.filterwarnings('ignore')\n",
    "import numpy as np\n",
    "import pandas as pd\n",
    "import tensorflow.compat.v1 as tf\n",
    "tf.disable_v2_behavior()"
   ]
  },
  {
   "cell_type": "code",
   "execution_count": 2,
   "metadata": {},
   "outputs": [],
   "source": [
    "# [공부한 시간(x1), 과외 수업 시간(x2), 실제 성적(y)]\n",
    "data = [[2, 0, 81], [4, 4, 93], [6, 2, 91], [8, 3, 97]]\n",
    "xData1 = [i[0] for i in data] # 공부한 시간\n",
    "xData2 = [i[1] for i in data] # 과외 수업 시간\n",
    "yData = [i[2] for i in data] # 실제 성적"
   ]
  },
  {
   "cell_type": "code",
   "execution_count": 3,
   "metadata": {},
   "outputs": [
    {
     "name": "stdout",
     "output_type": "stream",
     "text": [
      "a1 : [4.671174], a2 : [1.6678059], b : [91.249725]\n"
     ]
    }
   ],
   "source": [
    "# 기울기 a1, a2와 y절편 b를 임의의 값으로 정한다.\n",
    "# 단, 기울기의 범위는 0 ~ 10 사이이며 y절편의 범위는 0 ~ 100 사이이며 임의로 변한다.\n",
    "a1 = tf.Variable(tf.random_uniform([1], 0, 10, dtype=tf.float32))\n",
    "a2 = tf.Variable(tf.random_uniform([1], 0, 10, dtype=tf.float32))\n",
    "b = tf.Variable(tf.random_uniform([1], 0, 100, dtype=tf.float32))\n",
    "sess = tf.Session()\n",
    "sess.run(tf.global_variables_initializer())\n",
    "print('a1 : {}, a2 : {}, b : {}'.format(sess.run(a1), sess.run(a2), sess.run(b)))"
   ]
  },
  {
   "cell_type": "code",
   "execution_count": 4,
   "metadata": {},
   "outputs": [],
   "source": [
    "# 예측 성적(y)을 얻기 위한 가설(수식)을 만든다.\n",
    "y = a1 * xData1 + a2 * xData2 + b\n",
    "# tensorflow에서 실행할 RMSE(평균 제곱근 오차)와 수식(오차 비용 함수)을 만든다.\n",
    "rmse = tf.sqrt(tf.reduce_mean(tf.square(y - yData)))\n",
    "# 경사 하강법 알고리즘을 이용해서 RMSE(평균 제곱근 오차)를 최소로 하는 값을 찾는 수식을 만든다.\n",
    "gradient_descent = tf.train.GradientDescentOptimizer(0.1).minimize(rmse)"
   ]
  },
  {
   "cell_type": "code",
   "execution_count": 7,
   "metadata": {},
   "outputs": [
    {
     "name": "stdout",
     "output_type": "stream",
     "text": [
      "Epoch:    0, RMSE: 34.7950, 기울기1:  8.4272, 기울기2:  3.0565, y절편: 10.6534\n",
      "Epoch:  200, RMSE: 23.7212, 기울기1: 10.2413, 기울기2:  4.8677, y절편: 19.0140\n",
      "Epoch:  400, RMSE: 20.5451, 기울기1:  8.9746, 기울기2:  4.7386, y절편: 26.8813\n",
      "Epoch:  600, RMSE: 17.3727, 기울기1:  7.7900, 기울기2:  4.4270, y절편: 34.7519\n",
      "Epoch:  800, RMSE: 14.2011, 기울기1:  6.6338, 기울기2:  4.0529, y절편: 42.6231\n",
      "Epoch: 1000, RMSE: 11.0300, 기울기1:  5.4856, 기울기2:  3.6612, y절편: 50.4940\n",
      "Epoch: 1200, RMSE:  7.8601, 기울기1:  4.3392, 기울기2:  3.2660, y절편: 58.3634\n",
      "Epoch: 1400, RMSE:  4.6937, 기울기1:  3.1937, 기울기2:  2.8705, y절편: 66.2284\n",
      "Epoch: 1600, RMSE:  1.5524, 기울기1:  2.0527, 기울기2:  2.4765, y절편: 74.0624\n",
      "Epoch: 1800, RMSE:  1.8368, 기울기1:  1.8587, 기울기2:  2.4386, y절편: 77.2739\n",
      "Epoch: 2000, RMSE:  1.8370, 기울기1:  1.7860, 기울기2:  2.4137, y절편: 77.7917\n",
      "Epoch: 2200, RMSE:  1.8370, 기울기1:  1.7727, 기울기2:  2.4091, y절편: 77.8830\n",
      "Epoch: 2400, RMSE:  1.8370, 기울기1:  1.7704, 기울기2:  2.4083, y절편: 77.8991\n",
      "Epoch: 2600, RMSE:  1.8370, 기울기1:  1.7700, 기울기2:  2.4082, y절편: 77.9020\n",
      "Epoch: 2800, RMSE:  1.8369, 기울기1:  1.7699, 기울기2:  2.4082, y절편: 77.9022\n",
      "Epoch: 3000, RMSE:  1.8369, 기울기1:  1.7699, 기울기2:  2.4082, y절편: 77.9022\n"
     ]
    }
   ],
   "source": [
    "# 학습을 시킨다.\n",
    "import time\n",
    "sess = tf.Session()\n",
    "sess.run(tf.global_variables_initializer())\n",
    "\n",
    "for i in range(3001):\n",
    "    sess.run(gradient_descent)\n",
    "    if i % 200 == 0:\n",
    "        # Epoch => 1번 학습을 의미하는 용어, RMSE, 기울기, y절편\n",
    "        print('Epoch: {0:4d}, RMSE: {1:7.4f}, 기울기1: {2:7.4f}, 기울기2: {3:7.4f}, y절편: {4:7.4f}'.format(i, sess.run(rmse), sess.run(a1)[0], sess.run(a2)[0], sess.run(b)[0]))\n",
    "        time.sleep(0.25)"
   ]
  }
 ],
 "metadata": {
  "kernelspec": {
   "display_name": "Python 3",
   "language": "python",
   "name": "python3"
  },
  "language_info": {
   "codemirror_mode": {
    "name": "ipython",
    "version": 3
   },
   "file_extension": ".py",
   "mimetype": "text/x-python",
   "name": "python",
   "nbconvert_exporter": "python",
   "pygments_lexer": "ipython3",
   "version": "3.7.6"
  }
 },
 "nbformat": 4,
 "nbformat_minor": 4
}
