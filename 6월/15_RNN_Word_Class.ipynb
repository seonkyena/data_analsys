{
 "cells": [
  {
   "cell_type": "code",
   "execution_count": 1,
   "metadata": {},
   "outputs": [],
   "source": [
    "import warnings as wns\n",
    "wns.filterwarnings('ignore')"
   ]
  },
  {
   "cell_type": "code",
   "execution_count": 2,
   "metadata": {},
   "outputs": [
    {
     "name": "stdout",
     "output_type": "stream",
     "text": [
      "WARNING:tensorflow:From C:\\ProgramData\\Anaconda3\\lib\\site-packages\\tensorflow\\python\\compat\\v2_compat.py:96: disable_resource_variables (from tensorflow.python.ops.variable_scope) is deprecated and will be removed in a future version.\n",
      "Instructions for updating:\n",
      "non-resource variables are not supported in the long term\n"
     ]
    }
   ],
   "source": [
    "import tensorflow.compat.v1 as tf\n",
    "tf.disable_v2_behavior()\n",
    "import numpy as np"
   ]
  },
  {
   "cell_type": "markdown",
   "metadata": {},
   "source": [
    "단어 품사 구분하기  \n",
    "'I work at google', 'I google at work' 의 단어 품사를 구분하눈 RNN 코드응 텐서플로우로 구현한다.  \n",
    "각 단어는 one hot encoding으로 표현한다."
   ]
  },
  {
   "cell_type": "code",
   "execution_count": 3,
   "metadata": {},
   "outputs": [
    {
     "data": {
      "text/plain": [
       "array([[[1, 0, 0, 0],\n",
       "        [0, 1, 0, 0],\n",
       "        [0, 0, 1, 0],\n",
       "        [0, 0, 0, 1]],\n",
       "\n",
       "       [[1, 0, 0, 0],\n",
       "        [0, 0, 0, 1],\n",
       "        [0, 0, 1, 0],\n",
       "        [0, 1, 0, 0]]])"
      ]
     },
     "execution_count": 3,
     "metadata": {},
     "output_type": "execute_result"
    }
   ],
   "source": [
    "# I      => [1, 0, 0, 0] 대명사\n",
    "# work   => [0, 1, 0, 0] 동사\n",
    "# at     => [0, 0, 1, 0] 전치사\n",
    "# google => [0, 0, 0, 1] 명사\n",
    "\n",
    "# I work at google => [[1, 0, 0, 0], [0, 1, 0, 0], [0, 0, 1, 0], [0, 0, 0, 1]]\n",
    "# I google at work => [[1, 0, 0, 0], [0, 0, 0, 1], [0, 0, 1, 0], [0, 1, 0, 0]]\n",
    "\n",
    "inputs = np.array([\n",
    "    [[1, 0, 0, 0], [0, 1, 0, 0], [0, 0, 1, 0], [0, 0, 0, 1]],\n",
    "    [[1, 0, 0, 0], [0, 0, 0, 1], [0, 0, 1, 0], [0, 1, 0, 0]]\n",
    "])\n",
    "inputs"
   ]
  },
  {
   "cell_type": "code",
   "execution_count": 8,
   "metadata": {},
   "outputs": [
    {
     "name": "stdout",
     "output_type": "stream",
     "text": [
      "출력값 개수: Tensor(\"rnn/transpose_1:0\", shape=(2, 4, 3), dtype=float32)\n",
      "상태값 개수: Tensor(\"rnn/while/Exit_3:0\", shape=(2, 3), dtype=float32)\n",
      "================================================================================\n",
      "가중치 개수와 편향값 개수\n",
      "<tf.Variable 'rnn/basic_rnn_cell/kernel:0' shape=(7, 3) dtype=float32_ref>\n",
      "<tf.Variable 'rnn/basic_rnn_cell/bias:0' shape=(3,) dtype=float32_ref>\n",
      "================================================================================\n",
      "출력값\n",
      "[[[ 0.11188304  0.48046544  0.63265073]\n",
      "  [-0.69595605  0.08518933  0.8141431 ]\n",
      "  [ 0.61908203 -0.32562548  0.933208  ]\n",
      "  [ 0.12918115  0.89260894  0.7059085 ]]\n",
      "\n",
      " [[ 0.11188304  0.48046544  0.63265073]\n",
      "  [-0.12850831  0.60322356  0.8797253 ]\n",
      "  [ 0.08233774 -0.00408355  0.93313795]\n",
      "  [-0.49893805  0.3457571   0.8076218 ]]]\n",
      "\n",
      "상태값\n",
      "[[ 0.12918115  0.89260894  0.7059085 ]\n",
      " [-0.49893805  0.3457571   0.8076218 ]]\n",
      "\n",
      "가중치와 편향값\n",
      "rnn/basic_rnn_cell/kernel:0\n",
      "[[ 0.11235344  0.52358925  0.7458236 ]\n",
      " [-0.41523334 -0.2798797   0.48265624]\n",
      " [ 0.5138159  -0.32121253  0.6416223 ]\n",
      " [ 0.31495857  0.3329233   0.71801186]\n",
      " [-0.501872    0.7233957  -0.57018113]\n",
      " [-0.67484295 -0.22664434  0.5303705 ]\n",
      " [-0.10083246  0.62156737  0.7358061 ]]\n",
      "rnn/basic_rnn_cell/bias:0\n",
      "[0. 0. 0.]\n"
     ]
    }
   ],
   "source": [
    "tf.reset_default_graph()\n",
    "tf.set_random_seed(21)\n",
    "tf_inputs = tf.constant(inputs, dtype=tf.float32)\n",
    "rnn_cell = tf.nn.rnn_cell.BasicRNNCell(num_units=3)\n",
    "outputs, state = tf.nn.dynamic_rnn(cell=rnn_cell, dtype=tf.float32, inputs=tf_inputs)\n",
    "\n",
    "print('출력값 개수: {}'.format(outputs))\n",
    "print('상태값 개수: {}'.format(state))\n",
    "print('=' * 80)\n",
    "\n",
    "print('가중치 개수와 편향값 개수')\n",
    "for v in tf.get_collection(tf.GraphKeys.TRAINABLE_VARIABLES):\n",
    "    print(v)\n",
    "print('=' * 80)\n",
    "\n",
    "variable_names = [v.name for v in tf.trainable_variables()]\n",
    "with tf.Session() as sess:\n",
    "    sess.run(tf.global_variables_initializer())\n",
    "    output_run, state_run = sess.run([outputs, state])\n",
    "    print('출력값\\n{}\\n'.format(output_run))\n",
    "    print('상태값\\n{}\\n'.format(state_run))\n",
    "    print('가중치와 편향값')\n",
    "    values = sess.run(variable_names)\n",
    "    for k, v in zip(variable_names, values):\n",
    "        print('{}\\n{}'.format(k, v))"
   ]
  },
  {
   "cell_type": "markdown",
   "metadata": {},
   "source": [
    "첫 단어 이전에는 이전 상태값이 존재하지 않기 때문에 두 문장의 첫 단어 출력값이 동일하다.  \n",
    "[ 0.11235344  0.52358925  0.7458236 ]  \n",
    "  \n",
    "이전 상태값이 현재 출력값에 영향을 주기 때문에 두 번째 단어부터의 출력값은 두 문장이 다르게 나타난다.  \n",
    "[-0.69595605  0.08518933  0.8141431 ]  \n",
    "[ 0.61908203 -0.32562548  0.933208  ]  \n",
    "[ 0.12918115  0.89260894  0.7059085 ] # 마지막 단어 출력값  \n",
    "  \n",
    "[-0.12850831  0.60322356  0.8797253 ]  \n",
    "[ 0.08233774 -0.00408355  0.93313795]  \n",
    "[-0.49893805  0.3457571   0.8076218 ] # 마지막 단어 출력값  \n",
    "  \n",
    "상태값은 항상 마지막 단어의 출력값과 동일하다.  \n",
    "[ 0.12918115  0.89260894  0.7059085 ]  \n",
    "[-0.49893805  0.3457571   0.8076218 ] "
   ]
  }
 ],
 "metadata": {
  "kernelspec": {
   "display_name": "Python 3",
   "language": "python",
   "name": "python3"
  },
  "language_info": {
   "codemirror_mode": {
    "name": "ipython",
    "version": 3
   },
   "file_extension": ".py",
   "mimetype": "text/x-python",
   "name": "python",
   "nbconvert_exporter": "python",
   "pygments_lexer": "ipython3",
   "version": "3.7.6"
  }
 },
 "nbformat": 4,
 "nbformat_minor": 4
}
