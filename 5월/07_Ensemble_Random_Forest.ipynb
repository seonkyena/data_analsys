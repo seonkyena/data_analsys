{
 "cells": [
  {
   "cell_type": "code",
   "execution_count": 1,
   "metadata": {},
   "outputs": [],
   "source": [
    "import warnings\n",
    "warnings.filterwarnings('ignore')"
   ]
  },
  {
   "cell_type": "markdown",
   "metadata": {},
   "source": [
    "앙상블(ensemble) 기법이란 여러 개의 분류 모델을 조합해서 더 나은 성능을 내는 방법  \n",
    "최근접 이웃, 서포트 벡터 머신, 의사결정 트리, 나이브 베이즈 분류 모델을 실습했는데 지금까지 실습한 여러 분류 모델을 조합해서 단일 모델모다 더 좋은 성능을 낸다.  \n",
    "***\n",
    "배깅(bagging)의 어원은 부트스트랩(bootstrap)과 어그리게이팅(aggregating, 집계)에서 왔고 상당히 연주하기 힘든 바이올린 연주곡을 두 세명의 초급 바이올린 연주자가 나누어 연주함으로써 한 명의 중급 바이올린 연주가가 연주하는 것보다 더 나은 연주를 할 수 있는 것과 유사하다.  \n",
    "중급 바이올린 연주자는 나름 잘 학습했지만 학습 데이터에 과대적합된 의사결정 트리라 볼 수 있다. 의사결정 트리의 단점은 쉽게 과적합된다는 것인데 배깅은 과대적합이 쉬운 모델에 상당히 적합한 앙상블이다.  \n",
    "***\n",
    "랜덤 포레스트(random forest)  \n",
    "여러 의사결정 트리를 배깅을 적용해서 예측을 실행하는 모델이다.  \n",
    "배깅이 모든 분류 모델에서 적용 가능하지만 특히 과대적합되기 쉬운 의사결정 트리에 적용하면 과대적합을 줄여 성능이 높아지는 혜택을 보기 때문에 배깅이 많은 의사결정 트리 모델의 개선을 이뤘고 여러 개의 나무들이 모여 있다는 개념에서 랜덤 포레스트라는 이름이 생겨났다.  \n",
    "의사결정 트리에서는 최적의 특징으로 트리를 분기하는 반면 랜덤 포레스트는 각 노드에 주어진 데이터를 샘플링해서 일부 데이터를 제외한 체 최적의 특징을 찾아 트리를 분기한다. 이러한 과정에서 랜덤 포레스트는 또 한 번 모델의 편향을 증가시켜 과대적합의 위험을 감소한다.\n",
    "***\n",
    "부스팅(Boosting)  \n",
    "여러 개의 분류기를 만들어 투표를 통해 예측값을 결정한다는 측면에서는 배깅과 동일하다.  \n",
    "배깅은 서로 다른 알고리즘에 기반한 여러 분류기를 병렬적으로 학습하는 반면에 부스팅은 동일한 알고리즘의 분류기를 순차적으로 학습해서 여러 개의 분류기를 만든 후 테스트할 때 가중 투표를 통해 예측값을 결정한다."
   ]
  },
  {
   "cell_type": "markdown",
   "metadata": {},
   "source": [
    "MNIST 손글씨 데이터셋으로 랜덤 포레스트 모델과 의사결정 트리 모델을 동일하게 학습시켜 두 모델의 성능 차이를 시각화 해 비교한다."
   ]
  },
  {
   "cell_type": "code",
   "execution_count": 7,
   "metadata": {},
   "outputs": [],
   "source": [
    "from sklearn import datasets                        # MNIST 손글씨 데이터셋을 사용하기 위해 import 시킨다.\n",
    "from sklearn import tree                            # 의사결정 트리\n",
    "from sklearn.ensemble import RandomForestClassifier # 랜덤 포레스트 분류기\n",
    "from sklearn.model_selection import cross_val_score # 교차 검증\n",
    "import matplotlib.pyplot as plt\n",
    "import numpy as np\n",
    "import pandas as pd"
   ]
  },
  {
   "cell_type": "markdown",
   "metadata": {},
   "source": [
    "MNIST 손글씨 데이터 불러오기"
   ]
  },
  {
   "cell_type": "code",
   "execution_count": 8,
   "metadata": {},
   "outputs": [
    {
     "data": {
      "text/plain": [
       "(array([[ 0.,  0.,  5., ...,  0.,  0.,  0.],\n",
       "        [ 0.,  0.,  0., ..., 10.,  0.,  0.],\n",
       "        [ 0.,  0.,  0., ..., 16.,  9.,  0.],\n",
       "        ...,\n",
       "        [ 0.,  0.,  1., ...,  6.,  0.,  0.],\n",
       "        [ 0.,  0.,  2., ..., 12.,  0.,  0.],\n",
       "        [ 0.,  0., 10., ..., 12.,  1.,  0.]]),\n",
       " array([0, 1, 2, ..., 8, 9, 8]))"
      ]
     },
     "execution_count": 8,
     "metadata": {},
     "output_type": "execute_result"
    }
   ],
   "source": [
    "mnist = datasets.load_digits()\n",
    "features, labels = mnist.data, mnist.target\n",
    "features, labels"
   ]
  },
  {
   "cell_type": "markdown",
   "metadata": {},
   "source": [
    "교차 검증  \n",
    "사이킷런의 cross_val_score() 함수는 기존의 데이터를 n개로 나눠서 k번 정확도를 검증하는 k-fold 교차 검증을 수행한다.  \n",
    "cross_val_score(model, X, y, scoring=None, cv=None)  \n",
    "model: 회귀 분석 모형  \n",
    "X: 독립 변수 데이터 => 학습데이터  \n",
    "y: 종속 변수 데이터 => 결과  \n",
    "scoring: 성증검증에 사용할 매개변수에 원하는 평가 지표를 지정한다. 분류일 경우, 정확도를 의미하는 'accuracy' 이다.  \n",
    "cv: 교차 검증 생성기 객체 도는 숫자, None이면 KFold(3), 숫자 k이면 KFold(k)"
   ]
  },
  {
   "cell_type": "code",
   "execution_count": 9,
   "metadata": {},
   "outputs": [],
   "source": [
    "# MNIST 데이터에 대한 랜덤 포레스트와 의사결정 트리의 검증 정확도를 계산하는 함수\n",
    "def cross_validation(classifier, features, labels):\n",
    "    cv_scores = []\n",
    "    for i in range(10):\n",
    "        scores = cross_val_score(classifier, features, labels, cv=10, scoring='accuracy')\n",
    "        # print(scores)\n",
    "        cv_scores.append(scores.mean())\n",
    "    return cv_scores"
   ]
  },
  {
   "cell_type": "code",
   "execution_count": 11,
   "metadata": {},
   "outputs": [
    {
     "name": "stdout",
     "output_type": "stream",
     "text": [
      " 1. 0.82633\n",
      " 2. 0.82636\n",
      " 3. 0.82971\n",
      " 4. 0.82190\n",
      " 5. 0.82634\n",
      " 6. 0.82747\n",
      " 7. 0.83304\n",
      " 8. 0.82301\n",
      " 9. 0.82804\n",
      "10. 0.82635\n"
     ]
    }
   ],
   "source": [
    "# 의사결정 트리의 MNIST 손글씨 검증 정확도를 계산한다.\n",
    "dt_cv_scores = cross_validation(tree.DecisionTreeClassifier(), features, labels)\n",
    "for i in range(len(dt_cv_scores)):\n",
    "    print('{0:2d}. {1:7.5f}'.format(i + 1, dt_cv_scores[i]))"
   ]
  },
  {
   "cell_type": "code",
   "execution_count": 12,
   "metadata": {},
   "outputs": [
    {
     "name": "stdout",
     "output_type": "stream",
     "text": [
      " 1. 0.94769\n",
      " 2. 0.94491\n",
      " 3. 0.95047\n",
      " 4. 0.94936\n",
      " 5. 0.95213\n",
      " 6. 0.94712\n",
      " 7. 0.94713\n",
      " 8. 0.94656\n",
      " 9. 0.94935\n",
      "10. 0.95047\n"
     ]
    }
   ],
   "source": [
    "# 랜덤 포레스트의 MNIST 손글씨 검증 정확도를 계산한다.\n",
    "rf_cv_scores = cross_validation(RandomForestClassifier(), features, labels)\n",
    "for i in range(len(rf_cv_scores)):\n",
    "    print('{0:2d}. {1:7.5f}'.format(i + 1, rf_cv_scores[i]))"
   ]
  },
  {
   "cell_type": "markdown",
   "metadata": {},
   "source": [
    "의사결정 트리 vs 랜덤 포레스트 정확도 시각화"
   ]
  },
  {
   "cell_type": "code",
   "execution_count": 14,
   "metadata": {},
   "outputs": [
    {
     "data": {
      "text/html": [
       "<div>\n",
       "<style scoped>\n",
       "    .dataframe tbody tr th:only-of-type {\n",
       "        vertical-align: middle;\n",
       "    }\n",
       "\n",
       "    .dataframe tbody tr th {\n",
       "        vertical-align: top;\n",
       "    }\n",
       "\n",
       "    .dataframe thead th {\n",
       "        text-align: right;\n",
       "    }\n",
       "</style>\n",
       "<table border=\"1\" class=\"dataframe\">\n",
       "  <thead>\n",
       "    <tr style=\"text-align: right;\">\n",
       "      <th></th>\n",
       "      <th>decision_tree</th>\n",
       "      <th>random_forest</th>\n",
       "    </tr>\n",
       "  </thead>\n",
       "  <tbody>\n",
       "    <tr>\n",
       "      <th>0</th>\n",
       "      <td>0.826331</td>\n",
       "      <td>0.947691</td>\n",
       "    </tr>\n",
       "    <tr>\n",
       "      <th>1</th>\n",
       "      <td>0.826363</td>\n",
       "      <td>0.944910</td>\n",
       "    </tr>\n",
       "    <tr>\n",
       "      <th>2</th>\n",
       "      <td>0.829705</td>\n",
       "      <td>0.950469</td>\n",
       "    </tr>\n",
       "    <tr>\n",
       "      <th>3</th>\n",
       "      <td>0.821899</td>\n",
       "      <td>0.949358</td>\n",
       "    </tr>\n",
       "    <tr>\n",
       "      <th>4</th>\n",
       "      <td>0.826338</td>\n",
       "      <td>0.952132</td>\n",
       "    </tr>\n",
       "    <tr>\n",
       "      <th>5</th>\n",
       "      <td>0.827474</td>\n",
       "      <td>0.947120</td>\n",
       "    </tr>\n",
       "    <tr>\n",
       "      <th>6</th>\n",
       "      <td>0.833045</td>\n",
       "      <td>0.947129</td>\n",
       "    </tr>\n",
       "    <tr>\n",
       "      <th>7</th>\n",
       "      <td>0.823014</td>\n",
       "      <td>0.946564</td>\n",
       "    </tr>\n",
       "    <tr>\n",
       "      <th>8</th>\n",
       "      <td>0.828045</td>\n",
       "      <td>0.949351</td>\n",
       "    </tr>\n",
       "    <tr>\n",
       "      <th>9</th>\n",
       "      <td>0.826353</td>\n",
       "      <td>0.950469</td>\n",
       "    </tr>\n",
       "  </tbody>\n",
       "</table>\n",
       "</div>"
      ],
      "text/plain": [
       "   decision_tree  random_forest\n",
       "0       0.826331       0.947691\n",
       "1       0.826363       0.944910\n",
       "2       0.829705       0.950469\n",
       "3       0.821899       0.949358\n",
       "4       0.826338       0.952132\n",
       "5       0.827474       0.947120\n",
       "6       0.833045       0.947129\n",
       "7       0.823014       0.946564\n",
       "8       0.828045       0.949351\n",
       "9       0.826353       0.950469"
      ]
     },
     "execution_count": 14,
     "metadata": {},
     "output_type": "execute_result"
    }
   ],
   "source": [
    "# from_dict() 메소드는 딕셔너리를 데이터프레임으로 변경하려 할 경우 사용한다.\n",
    "cv_dict = {'decision_tree': dt_cv_scores, 'random_forest': rf_cv_scores}\n",
    "df = pd.DataFrame.from_dict(cv_dict)\n",
    "df"
   ]
  },
  {
   "cell_type": "code",
   "execution_count": 15,
   "metadata": {},
   "outputs": [
    {
     "data": {
      "text/plain": [
       "<matplotlib.axes._subplots.AxesSubplot at 0x25dcd223788>"
      ]
     },
     "execution_count": 15,
     "metadata": {},
     "output_type": "execute_result"
    },
    {
     "data": {
      "image/png": "[encoded data removed]",
      "text/plain": [
       "<Figure size 432x288 with 1 Axes>"
      ]
     },
     "metadata": {
      "needs_background": "light"
     },
     "output_type": "display_data"
    }
   ],
   "source": [
    "df.plot()"
   ]
  },
  {
   "cell_type": "markdown",
   "metadata": {},
   "source": [
    "정확도"
   ]
  },
  {
   "cell_type": "code",
   "execution_count": 18,
   "metadata": {},
   "outputs": [
    {
     "name": "stdout",
     "output_type": "stream",
     "text": [
      "의사결정 트리: 0.8268566108007448\n",
      "랜덤 포레스트: 0.9485192427063935\n"
     ]
    }
   ],
   "source": [
    "print('의사결정 트리: {}'.format(np.mean(dt_cv_scores)))\n",
    "print('랜덤 포레스트: {}'.format(np.mean(rf_cv_scores)))"
   ]
  }
 ],
 "metadata": {
  "kernelspec": {
   "display_name": "Python 3",
   "language": "python",
   "name": "python3"
  },
  "language_info": {
   "codemirror_mode": {
    "name": "ipython",
    "version": 3
   },
   "file_extension": ".py",
   "mimetype": "text/x-python",
   "name": "python",
   "nbconvert_exporter": "python",
   "pygments_lexer": "ipython3",
   "version": "3.7.6"
  }
 },
 "nbformat": 4,
 "nbformat_minor": 4
}
