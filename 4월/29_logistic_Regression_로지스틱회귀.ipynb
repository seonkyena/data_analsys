{
 "cells": [
  {
   "cell_type": "markdown",
   "metadata": {},
   "source": [
    "공부 시간, 과외 시간, 성적 사이의 관계는 좌표로 나타낼 때 형태가 직선으로 해결되는 선형 회귀흫 사용하기에 적합했었다.  \n",
    "공부 시간에 따른 점수가 아닌 합격 여부로 발표되는 시험이 있을 경우 직선으로 해결하기에는 적합하지 못한 문제가 발생된다.  \n",
    "이런 경우 사용하는 로지스틱 회귀는 참과 거짓 중에 하나를 내놓는 과정으로 참과 거짓을 구분한 'S'자를 눕혀 놓은 형태의 선을 그어주는 작업이다."
   ]
  },
  {
   "cell_type": "code",
   "execution_count": 1,
   "metadata": {},
   "outputs": [
    {
     "name": "stdout",
     "output_type": "stream",
     "text": [
      "WARNING:tensorflow:From C:\\ProgramData\\Anaconda3\\lib\\site-packages\\tensorflow\\python\\compat\\v2_compat.py:96: disable_resource_variables (from tensorflow.python.ops.variable_scope) is deprecated and will be removed in a future version.\n",
      "Instructions for updating:\n",
      "non-resource variables are not supported in the long term\n"
     ]
    }
   ],
   "source": [
    "import warnings\n",
    "warnings.filterwarnings('ignore')\n",
    "import numpy as np\n",
    "import pandas as pd\n",
    "import tensorflow.compat.v1 as tf\n",
    "tf.disable_v2_behavior()"
   ]
  },
  {
   "cell_type": "code",
   "execution_count": 2,
   "metadata": {},
   "outputs": [],
   "source": [
    "from IPython.display import Image\n",
    "# Image('./sigmoid.png', width=800)"
   ]
  },
  {
   "cell_type": "markdown",
   "metadata": {},
   "source": [
    "참조  \n",
    "http://taewan.kim/post/sigmoid_diff/  \n",
    "https://devlog.jwgo.kr/2018/04/16/sigmoid-graph-according-to-slope-change/"
   ]
  },
  {
   "cell_type": "code",
   "execution_count": 3,
   "metadata": {},
   "outputs": [],
   "source": [
    "# 공부 시간(x), 합격 여부(y) => [공부 시간, 합격 여부]\n",
    "data = [[2, 0], [4, 0], [6, 0], [8, 1], [10, 1], [12, 1], [14, 1]]\n",
    "xData = [i[0] for i in data] # 공부 시간\n",
    "yData = [i[1] for i in data] # 합격 여부"
   ]
  },
  {
   "cell_type": "code",
   "execution_count": 4,
   "metadata": {
    "scrolled": true
   },
   "outputs": [
    {
     "name": "stdout",
     "output_type": "stream",
     "text": [
      "a : [0.13259704]. b : [-1.27426701]\n"
     ]
    }
   ],
   "source": [
    "# 기울기(a)와 y절편(b) 값을 랜덤한 값으로 정한다.\n",
    "a = tf.Variable(tf.random_normal([1], dtype=tf.float64))\n",
    "b = tf.Variable(tf.random_normal([1], dtype=tf.float64))\n",
    "sess = tf.Session()\n",
    "sess.run(tf.global_variables_initializer())\n",
    "print('a : {}. b : {}'.format(sess.run(a), sess.run(b)))"
   ]
  },
  {
   "cell_type": "markdown",
   "metadata": {},
   "source": [
    "시그모이드 방정식"
   ]
  },
  {
   "cell_type": "code",
   "execution_count": 5,
   "metadata": {},
   "outputs": [],
   "source": [
    "# np.e : 넘파이에서 지수 값(2.718281828459045)을 의미하는 상수\n",
    "# print(np.e)\n",
    "y = 1 / (1 + np.e ** -(a * xData + b))"
   ]
  },
  {
   "cell_type": "markdown",
   "metadata": {},
   "source": [
    "시그모이드 방정식의 오차를 계산하는 함수를 만든다.  \n",
    "시그모이드 함수의 특성을 예측값(y)이 항상 0 아니면 1 이다."
   ]
  },
  {
   "cell_type": "code",
   "execution_count": 6,
   "metadata": {},
   "outputs": [],
   "source": [
    "loss = -tf.reduce_mean(np.array(yData) * tf.log(y) + (1 - np.array(yData)) * tf.log(1 - y))"
   ]
  },
  {
   "cell_type": "markdown",
   "metadata": {},
   "source": [
    "오차를 최소로 하는 값을 찾는다."
   ]
  },
  {
   "cell_type": "code",
   "execution_count": 7,
   "metadata": {},
   "outputs": [],
   "source": [
    "gradient_descent = tf.train.GradientDescentOptimizer(0.1).minimize(loss)"
   ]
  },
  {
   "cell_type": "markdown",
   "metadata": {},
   "source": [
    "학습 시킨다."
   ]
  },
  {
   "cell_type": "code",
   "execution_count": 8,
   "metadata": {
    "scrolled": true
   },
   "outputs": [
    {
     "name": "stdout",
     "output_type": "stream",
     "text": [
      "Epoch:      0, loss:   0.6460, 기울기:   0.0829, y절편:   0.5409\n",
      "Epoch:   5000, loss:   0.0583, 기울기:   1.5550, y절편: -10.6969\n",
      "Epoch:  10000, loss:   0.0371, 기울기:   2.0079, y절편: -13.8889\n",
      "Epoch:  15000, loss:   0.0274, 기울기:   2.3167, y절편: -16.0591\n",
      "Epoch:  20000, loss:   0.0218, 기울기:   2.5538, y절편: -17.7226\n",
      "Epoch:  25000, loss:   0.0180, 기울기:   2.7465, y절편: -19.0743\n",
      "Epoch:  30000, loss:   0.0154, 기울기:   2.9090, y절편: -20.2133\n",
      "Epoch:  35000, loss:   0.0134, 기울기:   3.0494, y절편: -21.1973\n",
      "Epoch:  40000, loss:   0.0119, 기울기:   3.1730, y절편: -22.0633\n",
      "Epoch:  45000, loss:   0.0106, 기울기:   3.2833, y절편: -22.8365\n",
      "Epoch:  50000, loss:   0.0096, 기울기:   3.3830, y절편: -23.5347\n",
      "Epoch:  55000, loss:   0.0088, 기울기:   3.4738, y절편: -24.1710\n",
      "Epoch:  60000, loss:   0.0081, 기울기:   3.5572, y절편: -24.7555\n",
      "Epoch:  65000, loss:   0.0075, 기울기:   3.6344, y절편: -25.2960\n",
      "Epoch:  70000, loss:   0.0070, 기울기:   3.7061, y절편: -25.7984\n",
      "Epoch:  75000, loss:   0.0066, 기울기:   3.7732, y절편: -26.2679\n",
      "Epoch:  80000, loss:   0.0062, 기울기:   3.8361, y절편: -26.7084\n",
      "Epoch:  85000, loss:   0.0058, 기울기:   3.8953, y절편: -27.1233\n",
      "Epoch:  90000, loss:   0.0055, 기울기:   3.9513, y절편: -27.5153\n",
      "Epoch:  95000, loss:   0.0052, 기울기:   4.0044, y절편: -27.8869\n",
      "Epoch: 100000, loss:   0.0050, 기울기:   4.0548, y절편: -28.2401\n",
      "Epoch: 105000, loss:   0.0047, 기울기:   4.1028, y절편: -28.5765\n",
      "Epoch: 110000, loss:   0.0045, 기울기:   4.1487, y절편: -28.8977\n",
      "Epoch: 115000, loss:   0.0043, 기울기:   4.1926, y절편: -29.2051\n",
      "Epoch: 120000, loss:   0.0042, 기울기:   4.2347, y절편: -29.4997\n",
      "Epoch: 125000, loss:   0.0040, 기울기:   4.2751, y절편: -29.7825\n",
      "Epoch: 130000, loss:   0.0038, 기울기:   4.3139, y절편: -30.0545\n",
      "Epoch: 135000, loss:   0.0037, 기울기:   4.3513, y절편: -30.3164\n",
      "Epoch: 140000, loss:   0.0036, 기울기:   4.3874, y절편: -30.5690\n",
      "Epoch: 145000, loss:   0.0034, 기울기:   4.4222, y절편: -30.8129\n",
      "Epoch: 150000, loss:   0.0033, 기울기:   4.4559, y절편: -31.0487\n",
      "Epoch: 155000, loss:   0.0032, 기울기:   4.4885, y절편: -31.2768\n",
      "Epoch: 160000, loss:   0.0031, 기울기:   4.5201, y절편: -31.4979\n",
      "Epoch: 165000, loss:   0.0030, 기울기:   4.5507, y절편: -31.7122\n",
      "Epoch: 170000, loss:   0.0029, 기울기:   4.5804, y절편: -31.9202\n",
      "Epoch: 175000, loss:   0.0029, 기울기:   4.6092, y절편: -32.1223\n",
      "Epoch: 180000, loss:   0.0028, 기울기:   4.6373, y절편: -32.3188\n",
      "Epoch: 185000, loss:   0.0027, 기울기:   4.6646, y절편: -32.5100\n",
      "Epoch: 190000, loss:   0.0026, 기울기:   4.6912, y절편: -32.6961\n",
      "Epoch: 195000, loss:   0.0026, 기울기:   4.7171, y절편: -32.8774\n",
      "Epoch: 200000, loss:   0.0025, 기울기:   4.7423, y절편: -33.0542\n",
      "Epoch: 205000, loss:   0.0024, 기울기:   4.7670, y절편: -33.2267\n",
      "Epoch: 210000, loss:   0.0024, 기울기:   4.7910, y절편: -33.3951\n",
      "Epoch: 215000, loss:   0.0023, 기울기:   4.8145, y절편: -33.5595\n",
      "Epoch: 220000, loss:   0.0023, 기울기:   4.8375, y절편: -33.7202\n",
      "Epoch: 225000, loss:   0.0022, 기울기:   4.8599, y절편: -33.8773\n",
      "Epoch: 230000, loss:   0.0022, 기울기:   4.8819, y절편: -34.0310\n",
      "Epoch: 235000, loss:   0.0021, 기울기:   4.9033, y절편: -34.1814\n",
      "Epoch: 240000, loss:   0.0021, 기울기:   4.9244, y절편: -34.3287\n",
      "Epoch: 245000, loss:   0.0020, 기울기:   4.9450, y절편: -34.4729\n",
      "Epoch: 250000, loss:   0.0020, 기울기:   4.9652, y절편: -34.6143\n",
      "Epoch: 255000, loss:   0.0020, 기울기:   4.9850, y절편: -34.7529\n",
      "Epoch: 260000, loss:   0.0019, 기울기:   5.0044, y절편: -34.8888\n",
      "Epoch: 265000, loss:   0.0019, 기울기:   5.0234, y절편: -35.0222\n",
      "Epoch: 270000, loss:   0.0019, 기울기:   5.0421, y절편: -35.1530\n",
      "Epoch: 275000, loss:   0.0018, 기울기:   5.0605, y절편: -35.2815\n",
      "Epoch: 280000, loss:   0.0018, 기울기:   5.0785, y절편: -35.4077\n",
      "Epoch: 285000, loss:   0.0018, 기울기:   5.0962, y절편: -35.5316\n",
      "Epoch: 290000, loss:   0.0017, 기울기:   5.1136, y절편: -35.6534\n",
      "Epoch: 295000, loss:   0.0017, 기울기:   5.1307, y절편: -35.7732\n",
      "Epoch: 300000, loss:   0.0017, 기울기:   5.1475, y절편: -35.8909\n"
     ]
    }
   ],
   "source": [
    "sess = tf.Session()\n",
    "sess.run(tf.global_variables_initializer())\n",
    "\n",
    "for i in range(300001):\n",
    "    sess.run(gradient_descent)\n",
    "    if i % 5000 == 0:\n",
    "        # 학습 횟수(Epoch), 오차, 기울기, y절편\n",
    "        print('Epoch: {0:6d}, loss: {1:8.4f}, 기울기: {2:8.4f}, y절편: {3:8.4f}'.format(i, sess.run(loss), sess.run(a)[0], \n",
    "                                                                                   sess.run(b)[0]))"
   ]
  }
 ],
 "metadata": {
  "kernelspec": {
   "display_name": "Python 3",
   "language": "python",
   "name": "python3"
  },
  "language_info": {
   "codemirror_mode": {
    "name": "ipython",
    "version": 3
   },
   "file_extension": ".py",
   "mimetype": "text/x-python",
   "name": "python",
   "nbconvert_exporter": "python",
   "pygments_lexer": "ipython3",
   "version": "3.7.6"
  }
 },
 "nbformat": 4,
 "nbformat_minor": 4
}
