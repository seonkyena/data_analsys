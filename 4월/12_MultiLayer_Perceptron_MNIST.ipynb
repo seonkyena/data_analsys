{
 "cells": [
  {
   "cell_type": "code",
   "execution_count": 1,
   "metadata": {},
   "outputs": [],
   "source": [
    "import warnings\n",
    "warnings.filterwarnings('ignore')"
   ]
  },
  {
   "cell_type": "code",
   "execution_count": 2,
   "metadata": {},
   "outputs": [
    {
     "name": "stdout",
     "output_type": "stream",
     "text": [
      "WARNING:tensorflow:From C:\\ProgramData\\Anaconda3\\lib\\site-packages\\tensorflow\\python\\compat\\v2_compat.py:96: disable_resource_variables (from tensorflow.python.ops.variable_scope) is deprecated and will be removed in a future version.\n",
      "Instructions for updating:\n",
      "non-resource variables are not supported in the long term\n"
     ]
    }
   ],
   "source": [
    "import tensorflow.compat.v1 as tf\n",
    "tf.disable_v2_behavior()"
   ]
  },
  {
   "cell_type": "markdown",
   "metadata": {},
   "source": [
    "텐서플로우를 이용해서 MNIST 데이터를 분류하는 다층 퍼셉트론을 구현한다."
   ]
  },
  {
   "cell_type": "code",
   "execution_count": 3,
   "metadata": {},
   "outputs": [
    {
     "ename": "FileNotFoundError",
     "evalue": "No such file or directory: 'MNIST.png'",
     "output_type": "error",
     "traceback": [
      "\u001b[1;31m---------------------------------------------------------------------------\u001b[0m",
      "\u001b[1;31mTypeError\u001b[0m                                 Traceback (most recent call last)",
      "\u001b[1;32mC:\\ProgramData\\Anaconda3\\lib\\site-packages\\IPython\\core\\display.py\u001b[0m in \u001b[0;36m_data_and_metadata\u001b[1;34m(self, always_both)\u001b[0m\n\u001b[0;32m   1271\u001b[0m         \u001b[1;32mtry\u001b[0m\u001b[1;33m:\u001b[0m\u001b[1;33m\u001b[0m\u001b[1;33m\u001b[0m\u001b[0m\n\u001b[1;32m-> 1272\u001b[1;33m             \u001b[0mb64_data\u001b[0m \u001b[1;33m=\u001b[0m \u001b[0mb2a_base64\u001b[0m\u001b[1;33m(\u001b[0m\u001b[0mself\u001b[0m\u001b[1;33m.\u001b[0m\u001b[0mdata\u001b[0m\u001b[1;33m)\u001b[0m\u001b[1;33m.\u001b[0m\u001b[0mdecode\u001b[0m\u001b[1;33m(\u001b[0m\u001b[1;34m'ascii'\u001b[0m\u001b[1;33m)\u001b[0m\u001b[1;33m\u001b[0m\u001b[1;33m\u001b[0m\u001b[0m\n\u001b[0m\u001b[0;32m   1273\u001b[0m         \u001b[1;32mexcept\u001b[0m \u001b[0mTypeError\u001b[0m\u001b[1;33m:\u001b[0m\u001b[1;33m\u001b[0m\u001b[1;33m\u001b[0m\u001b[0m\n",
      "\u001b[1;31mTypeError\u001b[0m: a bytes-like object is required, not 'str'",
      "\nDuring handling of the above exception, another exception occurred:\n",
      "\u001b[1;31mFileNotFoundError\u001b[0m                         Traceback (most recent call last)",
      "\u001b[1;32mC:\\ProgramData\\Anaconda3\\lib\\site-packages\\IPython\\core\\formatters.py\u001b[0m in \u001b[0;36m__call__\u001b[1;34m(self, obj, include, exclude)\u001b[0m\n\u001b[0;32m    968\u001b[0m \u001b[1;33m\u001b[0m\u001b[0m\n\u001b[0;32m    969\u001b[0m             \u001b[1;32mif\u001b[0m \u001b[0mmethod\u001b[0m \u001b[1;32mis\u001b[0m \u001b[1;32mnot\u001b[0m \u001b[1;32mNone\u001b[0m\u001b[1;33m:\u001b[0m\u001b[1;33m\u001b[0m\u001b[1;33m\u001b[0m\u001b[0m\n\u001b[1;32m--> 970\u001b[1;33m                 \u001b[1;32mreturn\u001b[0m \u001b[0mmethod\u001b[0m\u001b[1;33m(\u001b[0m\u001b[0minclude\u001b[0m\u001b[1;33m=\u001b[0m\u001b[0minclude\u001b[0m\u001b[1;33m,\u001b[0m \u001b[0mexclude\u001b[0m\u001b[1;33m=\u001b[0m\u001b[0mexclude\u001b[0m\u001b[1;33m)\u001b[0m\u001b[1;33m\u001b[0m\u001b[1;33m\u001b[0m\u001b[0m\n\u001b[0m\u001b[0;32m    971\u001b[0m             \u001b[1;32mreturn\u001b[0m \u001b[1;32mNone\u001b[0m\u001b[1;33m\u001b[0m\u001b[1;33m\u001b[0m\u001b[0m\n\u001b[0;32m    972\u001b[0m         \u001b[1;32melse\u001b[0m\u001b[1;33m:\u001b[0m\u001b[1;33m\u001b[0m\u001b[1;33m\u001b[0m\u001b[0m\n",
      "\u001b[1;32mC:\\ProgramData\\Anaconda3\\lib\\site-packages\\IPython\\core\\display.py\u001b[0m in \u001b[0;36m_repr_mimebundle_\u001b[1;34m(self, include, exclude)\u001b[0m\n\u001b[0;32m   1260\u001b[0m         \u001b[1;32mif\u001b[0m \u001b[0mself\u001b[0m\u001b[1;33m.\u001b[0m\u001b[0membed\u001b[0m\u001b[1;33m:\u001b[0m\u001b[1;33m\u001b[0m\u001b[1;33m\u001b[0m\u001b[0m\n\u001b[0;32m   1261\u001b[0m             \u001b[0mmimetype\u001b[0m \u001b[1;33m=\u001b[0m \u001b[0mself\u001b[0m\u001b[1;33m.\u001b[0m\u001b[0m_mimetype\u001b[0m\u001b[1;33m\u001b[0m\u001b[1;33m\u001b[0m\u001b[0m\n\u001b[1;32m-> 1262\u001b[1;33m             \u001b[0mdata\u001b[0m\u001b[1;33m,\u001b[0m \u001b[0mmetadata\u001b[0m \u001b[1;33m=\u001b[0m \u001b[0mself\u001b[0m\u001b[1;33m.\u001b[0m\u001b[0m_data_and_metadata\u001b[0m\u001b[1;33m(\u001b[0m\u001b[0malways_both\u001b[0m\u001b[1;33m=\u001b[0m\u001b[1;32mTrue\u001b[0m\u001b[1;33m)\u001b[0m\u001b[1;33m\u001b[0m\u001b[1;33m\u001b[0m\u001b[0m\n\u001b[0m\u001b[0;32m   1263\u001b[0m             \u001b[1;32mif\u001b[0m \u001b[0mmetadata\u001b[0m\u001b[1;33m:\u001b[0m\u001b[1;33m\u001b[0m\u001b[1;33m\u001b[0m\u001b[0m\n\u001b[0;32m   1264\u001b[0m                 \u001b[0mmetadata\u001b[0m \u001b[1;33m=\u001b[0m \u001b[1;33m{\u001b[0m\u001b[0mmimetype\u001b[0m\u001b[1;33m:\u001b[0m \u001b[0mmetadata\u001b[0m\u001b[1;33m}\u001b[0m\u001b[1;33m\u001b[0m\u001b[1;33m\u001b[0m\u001b[0m\n",
      "\u001b[1;32mC:\\ProgramData\\Anaconda3\\lib\\site-packages\\IPython\\core\\display.py\u001b[0m in \u001b[0;36m_data_and_metadata\u001b[1;34m(self, always_both)\u001b[0m\n\u001b[0;32m   1273\u001b[0m         \u001b[1;32mexcept\u001b[0m \u001b[0mTypeError\u001b[0m\u001b[1;33m:\u001b[0m\u001b[1;33m\u001b[0m\u001b[1;33m\u001b[0m\u001b[0m\n\u001b[0;32m   1274\u001b[0m             raise FileNotFoundError(\n\u001b[1;32m-> 1275\u001b[1;33m                 \"No such file or directory: '%s'\" % (self.data))\n\u001b[0m\u001b[0;32m   1276\u001b[0m         \u001b[0mmd\u001b[0m \u001b[1;33m=\u001b[0m \u001b[1;33m{\u001b[0m\u001b[1;33m}\u001b[0m\u001b[1;33m\u001b[0m\u001b[1;33m\u001b[0m\u001b[0m\n\u001b[0;32m   1277\u001b[0m         \u001b[1;32mif\u001b[0m \u001b[0mself\u001b[0m\u001b[1;33m.\u001b[0m\u001b[0mmetadata\u001b[0m\u001b[1;33m:\u001b[0m\u001b[1;33m\u001b[0m\u001b[1;33m\u001b[0m\u001b[0m\n",
      "\u001b[1;31mFileNotFoundError\u001b[0m: No such file or directory: 'MNIST.png'"
     ]
    },
    {
     "ename": "FileNotFoundError",
     "evalue": "No such file or directory: 'MNIST.png'",
     "output_type": "error",
     "traceback": [
      "\u001b[1;31m---------------------------------------------------------------------------\u001b[0m",
      "\u001b[1;31mTypeError\u001b[0m                                 Traceback (most recent call last)",
      "\u001b[1;32mC:\\ProgramData\\Anaconda3\\lib\\site-packages\\IPython\\core\\display.py\u001b[0m in \u001b[0;36m_data_and_metadata\u001b[1;34m(self, always_both)\u001b[0m\n\u001b[0;32m   1271\u001b[0m         \u001b[1;32mtry\u001b[0m\u001b[1;33m:\u001b[0m\u001b[1;33m\u001b[0m\u001b[1;33m\u001b[0m\u001b[0m\n\u001b[1;32m-> 1272\u001b[1;33m             \u001b[0mb64_data\u001b[0m \u001b[1;33m=\u001b[0m \u001b[0mb2a_base64\u001b[0m\u001b[1;33m(\u001b[0m\u001b[0mself\u001b[0m\u001b[1;33m.\u001b[0m\u001b[0mdata\u001b[0m\u001b[1;33m)\u001b[0m\u001b[1;33m.\u001b[0m\u001b[0mdecode\u001b[0m\u001b[1;33m(\u001b[0m\u001b[1;34m'ascii'\u001b[0m\u001b[1;33m)\u001b[0m\u001b[1;33m\u001b[0m\u001b[1;33m\u001b[0m\u001b[0m\n\u001b[0m\u001b[0;32m   1273\u001b[0m         \u001b[1;32mexcept\u001b[0m \u001b[0mTypeError\u001b[0m\u001b[1;33m:\u001b[0m\u001b[1;33m\u001b[0m\u001b[1;33m\u001b[0m\u001b[0m\n",
      "\u001b[1;31mTypeError\u001b[0m: a bytes-like object is required, not 'str'",
      "\nDuring handling of the above exception, another exception occurred:\n",
      "\u001b[1;31mFileNotFoundError\u001b[0m                         Traceback (most recent call last)",
      "\u001b[1;32mC:\\ProgramData\\Anaconda3\\lib\\site-packages\\IPython\\core\\formatters.py\u001b[0m in \u001b[0;36m__call__\u001b[1;34m(self, obj)\u001b[0m\n\u001b[0;32m    343\u001b[0m             \u001b[0mmethod\u001b[0m \u001b[1;33m=\u001b[0m \u001b[0mget_real_method\u001b[0m\u001b[1;33m(\u001b[0m\u001b[0mobj\u001b[0m\u001b[1;33m,\u001b[0m \u001b[0mself\u001b[0m\u001b[1;33m.\u001b[0m\u001b[0mprint_method\u001b[0m\u001b[1;33m)\u001b[0m\u001b[1;33m\u001b[0m\u001b[1;33m\u001b[0m\u001b[0m\n\u001b[0;32m    344\u001b[0m             \u001b[1;32mif\u001b[0m \u001b[0mmethod\u001b[0m \u001b[1;32mis\u001b[0m \u001b[1;32mnot\u001b[0m \u001b[1;32mNone\u001b[0m\u001b[1;33m:\u001b[0m\u001b[1;33m\u001b[0m\u001b[1;33m\u001b[0m\u001b[0m\n\u001b[1;32m--> 345\u001b[1;33m                 \u001b[1;32mreturn\u001b[0m \u001b[0mmethod\u001b[0m\u001b[1;33m(\u001b[0m\u001b[1;33m)\u001b[0m\u001b[1;33m\u001b[0m\u001b[1;33m\u001b[0m\u001b[0m\n\u001b[0m\u001b[0;32m    346\u001b[0m             \u001b[1;32mreturn\u001b[0m \u001b[1;32mNone\u001b[0m\u001b[1;33m\u001b[0m\u001b[1;33m\u001b[0m\u001b[0m\n\u001b[0;32m    347\u001b[0m         \u001b[1;32melse\u001b[0m\u001b[1;33m:\u001b[0m\u001b[1;33m\u001b[0m\u001b[1;33m\u001b[0m\u001b[0m\n",
      "\u001b[1;32mC:\\ProgramData\\Anaconda3\\lib\\site-packages\\IPython\\core\\display.py\u001b[0m in \u001b[0;36m_repr_png_\u001b[1;34m(self)\u001b[0m\n\u001b[0;32m   1290\u001b[0m     \u001b[1;32mdef\u001b[0m \u001b[0m_repr_png_\u001b[0m\u001b[1;33m(\u001b[0m\u001b[0mself\u001b[0m\u001b[1;33m)\u001b[0m\u001b[1;33m:\u001b[0m\u001b[1;33m\u001b[0m\u001b[1;33m\u001b[0m\u001b[0m\n\u001b[0;32m   1291\u001b[0m         \u001b[1;32mif\u001b[0m \u001b[0mself\u001b[0m\u001b[1;33m.\u001b[0m\u001b[0membed\u001b[0m \u001b[1;32mand\u001b[0m \u001b[0mself\u001b[0m\u001b[1;33m.\u001b[0m\u001b[0mformat\u001b[0m \u001b[1;33m==\u001b[0m \u001b[0mself\u001b[0m\u001b[1;33m.\u001b[0m\u001b[0m_FMT_PNG\u001b[0m\u001b[1;33m:\u001b[0m\u001b[1;33m\u001b[0m\u001b[1;33m\u001b[0m\u001b[0m\n\u001b[1;32m-> 1292\u001b[1;33m             \u001b[1;32mreturn\u001b[0m \u001b[0mself\u001b[0m\u001b[1;33m.\u001b[0m\u001b[0m_data_and_metadata\u001b[0m\u001b[1;33m(\u001b[0m\u001b[1;33m)\u001b[0m\u001b[1;33m\u001b[0m\u001b[1;33m\u001b[0m\u001b[0m\n\u001b[0m\u001b[0;32m   1293\u001b[0m \u001b[1;33m\u001b[0m\u001b[0m\n\u001b[0;32m   1294\u001b[0m     \u001b[1;32mdef\u001b[0m \u001b[0m_repr_jpeg_\u001b[0m\u001b[1;33m(\u001b[0m\u001b[0mself\u001b[0m\u001b[1;33m)\u001b[0m\u001b[1;33m:\u001b[0m\u001b[1;33m\u001b[0m\u001b[1;33m\u001b[0m\u001b[0m\n",
      "\u001b[1;32mC:\\ProgramData\\Anaconda3\\lib\\site-packages\\IPython\\core\\display.py\u001b[0m in \u001b[0;36m_data_and_metadata\u001b[1;34m(self, always_both)\u001b[0m\n\u001b[0;32m   1273\u001b[0m         \u001b[1;32mexcept\u001b[0m \u001b[0mTypeError\u001b[0m\u001b[1;33m:\u001b[0m\u001b[1;33m\u001b[0m\u001b[1;33m\u001b[0m\u001b[0m\n\u001b[0;32m   1274\u001b[0m             raise FileNotFoundError(\n\u001b[1;32m-> 1275\u001b[1;33m                 \"No such file or directory: '%s'\" % (self.data))\n\u001b[0m\u001b[0;32m   1276\u001b[0m         \u001b[0mmd\u001b[0m \u001b[1;33m=\u001b[0m \u001b[1;33m{\u001b[0m\u001b[1;33m}\u001b[0m\u001b[1;33m\u001b[0m\u001b[1;33m\u001b[0m\u001b[0m\n\u001b[0;32m   1277\u001b[0m         \u001b[1;32mif\u001b[0m \u001b[0mself\u001b[0m\u001b[1;33m.\u001b[0m\u001b[0mmetadata\u001b[0m\u001b[1;33m:\u001b[0m\u001b[1;33m\u001b[0m\u001b[1;33m\u001b[0m\u001b[0m\n",
      "\u001b[1;31mFileNotFoundError\u001b[0m: No such file or directory: 'MNIST.png'"
     ]
    },
    {
     "data": {
      "text/plain": [
       "<IPython.core.display.Image object>"
      ]
     },
     "execution_count": 3,
     "metadata": {},
     "output_type": "execute_result"
    }
   ],
   "source": [
    "from IPython.display import Image\n",
    "Image('MNIST.png', width='500')"
   ]
  },
  {
   "cell_type": "code",
   "execution_count": 4,
   "metadata": {},
   "outputs": [
    {
     "name": "stdout",
     "output_type": "stream",
     "text": [
      "(60000, 28, 28) (60000,)\n",
      "(10000, 28, 28) (10000,)\n"
     ]
    }
   ],
   "source": [
    "# MNIST 손글씨 실습을 위해 케라스에서 제공하는 MNIST 데이터 셋을 사용한다.\n",
    "(x_train, y_train), (x_test, y_test) = tf.keras.datasets.mnist.load_data()\n",
    "# 학습 데이터에는 총 60,000개의 샘플이 있고 테스트 데이터에는 총 10,000개의 샘플이 있다.\n",
    "# MNIST 데이터는 28개의 행과 28개의 열을 갖는 필셀 데이터이다. 각 픽셀은 흑백 사진과 같이 0부터 255까지의 그레이스케일을\n",
    "# 가지고 있다.\n",
    "print(x_train.shape, y_train.shape) # 학습 데이터\n",
    "print(x_test.shape, y_test.shape)   # 학습이 완료된 후 테스트 데이터"
   ]
  },
  {
   "cell_type": "markdown",
   "metadata": {},
   "source": [
    "학습 데이터를 학습 데이터(5만개)와 검증 데이터(1만개)를 분리한다.  \n",
    "학습 중간마다 검증 데이터로 모델의 성능을 측정하면 모델 학습이 제대로 진행되는지 검증 정확도를 알 수 있고 학습 정확도는 올라가는데 검증 정확도가 안 올라가거나 떨어질 경우 조기 종료를 구현할 수 있다."
   ]
  },
  {
   "cell_type": "code",
   "execution_count": 5,
   "metadata": {},
   "outputs": [],
   "source": [
    "x_val = x_train[50000:]   # 28행 28열로 구성된 검증 데이터\n",
    "x_train = x_train[:50000] # 28행 28열로 구성된 학습 데이터\n",
    "y_val = y_train[50000:]   # 검증 데이터 실제값\n",
    "y_train = y_train[:50000] # 학습 데이터 실제값"
   ]
  },
  {
   "cell_type": "code",
   "execution_count": 6,
   "metadata": {},
   "outputs": [
    {
     "name": "stdout",
     "output_type": "stream",
     "text": [
      "[5 0 4 1 9 2 1 3 1 4]\n",
      "  0   0   0   0   0   0   0   0   0   0   0   0   0   0   0   0   0   0   0   0   0   0   0   0   0   0   0   0 \n",
      "  0   0   0   0   0   0   0   0   0   0   0   0   0   0   0   0   0   0   0   0   0   0   0   0   0   0   0   0 \n",
      "  0   0   0   0   0   0   0   0   0   0   0   0   0   0   0   0   0   0   0   0   0   0   0   0   0   0   0   0 \n",
      "  0   0   0   0   0   0   0   0   0   0   0   0   0   0   0   0   0   0   0   0   0   0   0   0   0   0   0   0 \n",
      "  0   0   0   0   0   0   0   0   0   0   0   0   0   0   0  51 159 253 159  50   0   0   0   0   0   0   0   0 \n",
      "  0   0   0   0   0   0   0   0   0   0   0   0   0   0  48 238 252 252 252 237   0   0   0   0   0   0   0   0 \n",
      "  0   0   0   0   0   0   0   0   0   0   0   0   0  54 227 253 252 239 233 252  57   6   0   0   0   0   0   0 \n",
      "  0   0   0   0   0   0   0   0   0   0   0  10  60 224 252 253 252 202  84 252 253 122   0   0   0   0   0   0 \n",
      "  0   0   0   0   0   0   0   0   0   0   0 163 252 252 252 253 252 252  96 189 253 167   0   0   0   0   0   0 \n",
      "  0   0   0   0   0   0   0   0   0   0  51 238 253 253 190 114 253 228  47  79 255 168   0   0   0   0   0   0 \n",
      "  0   0   0   0   0   0   0   0   0  48 238 252 252 179  12  75 121  21   0   0 253 243  50   0   0   0   0   0 \n",
      "  0   0   0   0   0   0   0   0  38 165 253 233 208  84   0   0   0   0   0   0 253 252 165   0   0   0   0   0 \n",
      "  0   0   0   0   0   0   0   7 178 252 240  71  19  28   0   0   0   0   0   0 253 252 195   0   0   0   0   0 \n",
      "  0   0   0   0   0   0   0  57 252 252  63   0   0   0   0   0   0   0   0   0 253 252 195   0   0   0   0   0 \n",
      "  0   0   0   0   0   0   0 198 253 190   0   0   0   0   0   0   0   0   0   0 255 253 196   0   0   0   0   0 \n",
      "  0   0   0   0   0   0  76 246 252 112   0   0   0   0   0   0   0   0   0   0 253 252 148   0   0   0   0   0 \n",
      "  0   0   0   0   0   0  85 252 230  25   0   0   0   0   0   0   0   0   7 135 253 186  12   0   0   0   0   0 \n",
      "  0   0   0   0   0   0  85 252 223   0   0   0   0   0   0   0   0   7 131 252 225  71   0   0   0   0   0   0 \n",
      "  0   0   0   0   0   0  85 252 145   0   0   0   0   0   0   0  48 165 252 173   0   0   0   0   0   0   0   0 \n",
      "  0   0   0   0   0   0  86 253 225   0   0   0   0   0   0 114 238 253 162   0   0   0   0   0   0   0   0   0 \n",
      "  0   0   0   0   0   0  85 252 249 146  48  29  85 178 225 253 223 167  56   0   0   0   0   0   0   0   0   0 \n",
      "  0   0   0   0   0   0  85 252 252 252 229 215 252 252 252 196 130   0   0   0   0   0   0   0   0   0   0   0 \n",
      "  0   0   0   0   0   0  28 199 252 252 253 252 252 233 145   0   0   0   0   0   0   0   0   0   0   0   0   0 \n",
      "  0   0   0   0   0   0   0  25 128 252 253 252 141  37   0   0   0   0   0   0   0   0   0   0   0   0   0   0 \n",
      "  0   0   0   0   0   0   0   0   0   0   0   0   0   0   0   0   0   0   0   0   0   0   0   0   0   0   0   0 \n",
      "  0   0   0   0   0   0   0   0   0   0   0   0   0   0   0   0   0   0   0   0   0   0   0   0   0   0   0   0 \n",
      "  0   0   0   0   0   0   0   0   0   0   0   0   0   0   0   0   0   0   0   0   0   0   0   0   0   0   0   0 \n",
      "  0   0   0   0   0   0   0   0   0   0   0   0   0   0   0   0   0   0   0   0   0   0   0   0   0   0   0   0 \n"
     ]
    }
   ],
   "source": [
    "# 학습 데이터를 출력해보면 데이터가 0부터 255까지의 숫자(그레이스케일)로 구성된 것을 확인할 수 있다.\n",
    "print(y_train[:10])\n",
    "for i in x_train[1]:\n",
    "    for j in i:\n",
    "        print('%3d ' % j, end='')\n",
    "    print()"
   ]
  },
  {
   "cell_type": "markdown",
   "metadata": {},
   "source": [
    "MNIST 데이터를 불러왔으니 다층 퍼셉트론의 입력값으로 들어갈 수 있도록 numpy의 reshape 함수를 사용해 2차원 형태의 데이터를 1원 배열 형태로 변경한다."
   ]
  },
  {
   "cell_type": "code",
   "execution_count": 7,
   "metadata": {},
   "outputs": [
    {
     "name": "stdout",
     "output_type": "stream",
     "text": [
      "x_train.shape: (50000, 784)\n",
      "x_val.shape: (10000, 784)\n",
      "x_test.shape: (10000, 784)\n"
     ]
    }
   ],
   "source": [
    "# 28 * 28 픽셀의 단색 이미지이므로 데이터 형태를 784개의 1차원 배열 형태로 변환한다.\n",
    "import numpy as np\n",
    "x_train = np.reshape(x_train, (50000, 784)) # 28행 28열로 구성된 학습 데이터를 784개의 1차원 배열 형태로 변환한다.\n",
    "print('x_train.shape: {}'.format(x_train.shape))\n",
    "x_val = x_val.reshape(10000, 784)           # 28행 28열로 구성된 검증 데이터를 784개의 1차원 배열 형태로 변환한다.\n",
    "print('x_val.shape: {}'.format(x_val.shape))\n",
    "x_test = x_test.reshape(10000, 784)         # 28행 28열로 구성된 테스트 데이터를 784개의 1차원 배열 형태로 변환한다.\n",
    "print('x_test.shape: {}'.format(x_test.shape))"
   ]
  },
  {
   "cell_type": "markdown",
   "metadata": {},
   "source": [
    "1차원으로 변경된 데이터를 그대로 다층 퍼셉트론에 입력해도 되지만 좀 더 효율적인 학습을 위해 데이터를 정규화 시킨다.  \n",
    "정규화는 모델의 학습 시간을 단축시키고 더 나은 성능을 보이게 하는 효과가 있다.\n",
    "MNIST 데이터의 모든 값은 0부터 255까지의 범위 안에 있으므로 255로 나눠 모든 값을 0부터 1사이의 값으로 정규화 한다."
   ]
  },
  {
   "cell_type": "code",
   "execution_count": 8,
   "metadata": {},
   "outputs": [],
   "source": [
    "# print(type(x_train[0][0]), x_train[0][0])\n",
    "x_train = x_train.astype('float32')\n",
    "x_val = x_val.astype('float32')\n",
    "x_test = x_test.astype('float32')\n",
    "gray_scale = 255\n",
    "x_train /= gray_scale\n",
    "# print(type(x_train[0][0]), x_train[0][0])\n",
    "x_val /= gray_scale\n",
    "x_test /= gray_scale"
   ]
  },
  {
   "cell_type": "markdown",
   "metadata": {},
   "source": [
    "MNIST 손글씨 데이터 분류 모델은 0부터 9까지의 숫자로 분류하는 다중 모델이므로 손실 함수로 크로스 엔트로피를 사용한다.  \n",
    "크로스 엔트로피를 계산하기 위해 실제값(y)은 원 핫 인코딩으로 변환한다.  \n",
    "원 핫 인코딩(One Hot Encoding)은 데이터를 수많은 0과 1개의 1값으로 데이터를 구별하는 인코딩 방식으로 0으로 이루어진 벡터 집합에 단 1개의 1의 값으로 해당 데이터를 구별하는 것을 말한다."
   ]
  },
  {
   "cell_type": "code",
   "execution_count": 9,
   "metadata": {
    "scrolled": false
   },
   "outputs": [],
   "source": [
    "num_classes = 10\n",
    "y_train = tf.keras.utils.to_categorical(y_train, num_classes)\n",
    "y_val = tf.keras.utils.to_categorical(y_val, num_classes)\n",
    "y_test = tf.keras.utils.to_categorical(y_test, num_classes)"
   ]
  },
  {
   "cell_type": "code",
   "execution_count": 10,
   "metadata": {},
   "outputs": [
    {
     "name": "stdout",
     "output_type": "stream",
     "text": [
      "[0. 0. 0. 0. 0. 1. 0. 0. 0. 0.]\n",
      "[1. 0. 0. 0. 0. 0. 0. 0. 0. 0.]\n",
      "[0. 0. 0. 0. 1. 0. 0. 0. 0. 0.]\n",
      "[0. 1. 0. 0. 0. 0. 0. 0. 0. 0.]\n",
      "[0. 0. 0. 0. 0. 0. 0. 0. 0. 1.]\n"
     ]
    }
   ],
   "source": [
    "# print(y_train[:5]) => [5 0 4 1 9]\n",
    "for i in y_train[:5]:\n",
    "    print(i)"
   ]
  },
  {
   "cell_type": "code",
   "execution_count": 11,
   "metadata": {},
   "outputs": [
    {
     "ename": "FileNotFoundError",
     "evalue": "No such file or directory: 'MNIST2.png'",
     "output_type": "error",
     "traceback": [
      "\u001b[1;31m---------------------------------------------------------------------------\u001b[0m",
      "\u001b[1;31mTypeError\u001b[0m                                 Traceback (most recent call last)",
      "\u001b[1;32mC:\\ProgramData\\Anaconda3\\lib\\site-packages\\IPython\\core\\display.py\u001b[0m in \u001b[0;36m_data_and_metadata\u001b[1;34m(self, always_both)\u001b[0m\n\u001b[0;32m   1271\u001b[0m         \u001b[1;32mtry\u001b[0m\u001b[1;33m:\u001b[0m\u001b[1;33m\u001b[0m\u001b[1;33m\u001b[0m\u001b[0m\n\u001b[1;32m-> 1272\u001b[1;33m             \u001b[0mb64_data\u001b[0m \u001b[1;33m=\u001b[0m \u001b[0mb2a_base64\u001b[0m\u001b[1;33m(\u001b[0m\u001b[0mself\u001b[0m\u001b[1;33m.\u001b[0m\u001b[0mdata\u001b[0m\u001b[1;33m)\u001b[0m\u001b[1;33m.\u001b[0m\u001b[0mdecode\u001b[0m\u001b[1;33m(\u001b[0m\u001b[1;34m'ascii'\u001b[0m\u001b[1;33m)\u001b[0m\u001b[1;33m\u001b[0m\u001b[1;33m\u001b[0m\u001b[0m\n\u001b[0m\u001b[0;32m   1273\u001b[0m         \u001b[1;32mexcept\u001b[0m \u001b[0mTypeError\u001b[0m\u001b[1;33m:\u001b[0m\u001b[1;33m\u001b[0m\u001b[1;33m\u001b[0m\u001b[0m\n",
      "\u001b[1;31mTypeError\u001b[0m: a bytes-like object is required, not 'str'",
      "\nDuring handling of the above exception, another exception occurred:\n",
      "\u001b[1;31mFileNotFoundError\u001b[0m                         Traceback (most recent call last)",
      "\u001b[1;32mC:\\ProgramData\\Anaconda3\\lib\\site-packages\\IPython\\core\\formatters.py\u001b[0m in \u001b[0;36m__call__\u001b[1;34m(self, obj, include, exclude)\u001b[0m\n\u001b[0;32m    968\u001b[0m \u001b[1;33m\u001b[0m\u001b[0m\n\u001b[0;32m    969\u001b[0m             \u001b[1;32mif\u001b[0m \u001b[0mmethod\u001b[0m \u001b[1;32mis\u001b[0m \u001b[1;32mnot\u001b[0m \u001b[1;32mNone\u001b[0m\u001b[1;33m:\u001b[0m\u001b[1;33m\u001b[0m\u001b[1;33m\u001b[0m\u001b[0m\n\u001b[1;32m--> 970\u001b[1;33m                 \u001b[1;32mreturn\u001b[0m \u001b[0mmethod\u001b[0m\u001b[1;33m(\u001b[0m\u001b[0minclude\u001b[0m\u001b[1;33m=\u001b[0m\u001b[0minclude\u001b[0m\u001b[1;33m,\u001b[0m \u001b[0mexclude\u001b[0m\u001b[1;33m=\u001b[0m\u001b[0mexclude\u001b[0m\u001b[1;33m)\u001b[0m\u001b[1;33m\u001b[0m\u001b[1;33m\u001b[0m\u001b[0m\n\u001b[0m\u001b[0;32m    971\u001b[0m             \u001b[1;32mreturn\u001b[0m \u001b[1;32mNone\u001b[0m\u001b[1;33m\u001b[0m\u001b[1;33m\u001b[0m\u001b[0m\n\u001b[0;32m    972\u001b[0m         \u001b[1;32melse\u001b[0m\u001b[1;33m:\u001b[0m\u001b[1;33m\u001b[0m\u001b[1;33m\u001b[0m\u001b[0m\n",
      "\u001b[1;32mC:\\ProgramData\\Anaconda3\\lib\\site-packages\\IPython\\core\\display.py\u001b[0m in \u001b[0;36m_repr_mimebundle_\u001b[1;34m(self, include, exclude)\u001b[0m\n\u001b[0;32m   1260\u001b[0m         \u001b[1;32mif\u001b[0m \u001b[0mself\u001b[0m\u001b[1;33m.\u001b[0m\u001b[0membed\u001b[0m\u001b[1;33m:\u001b[0m\u001b[1;33m\u001b[0m\u001b[1;33m\u001b[0m\u001b[0m\n\u001b[0;32m   1261\u001b[0m             \u001b[0mmimetype\u001b[0m \u001b[1;33m=\u001b[0m \u001b[0mself\u001b[0m\u001b[1;33m.\u001b[0m\u001b[0m_mimetype\u001b[0m\u001b[1;33m\u001b[0m\u001b[1;33m\u001b[0m\u001b[0m\n\u001b[1;32m-> 1262\u001b[1;33m             \u001b[0mdata\u001b[0m\u001b[1;33m,\u001b[0m \u001b[0mmetadata\u001b[0m \u001b[1;33m=\u001b[0m \u001b[0mself\u001b[0m\u001b[1;33m.\u001b[0m\u001b[0m_data_and_metadata\u001b[0m\u001b[1;33m(\u001b[0m\u001b[0malways_both\u001b[0m\u001b[1;33m=\u001b[0m\u001b[1;32mTrue\u001b[0m\u001b[1;33m)\u001b[0m\u001b[1;33m\u001b[0m\u001b[1;33m\u001b[0m\u001b[0m\n\u001b[0m\u001b[0;32m   1263\u001b[0m             \u001b[1;32mif\u001b[0m \u001b[0mmetadata\u001b[0m\u001b[1;33m:\u001b[0m\u001b[1;33m\u001b[0m\u001b[1;33m\u001b[0m\u001b[0m\n\u001b[0;32m   1264\u001b[0m                 \u001b[0mmetadata\u001b[0m \u001b[1;33m=\u001b[0m \u001b[1;33m{\u001b[0m\u001b[0mmimetype\u001b[0m\u001b[1;33m:\u001b[0m \u001b[0mmetadata\u001b[0m\u001b[1;33m}\u001b[0m\u001b[1;33m\u001b[0m\u001b[1;33m\u001b[0m\u001b[0m\n",
      "\u001b[1;32mC:\\ProgramData\\Anaconda3\\lib\\site-packages\\IPython\\core\\display.py\u001b[0m in \u001b[0;36m_data_and_metadata\u001b[1;34m(self, always_both)\u001b[0m\n\u001b[0;32m   1273\u001b[0m         \u001b[1;32mexcept\u001b[0m \u001b[0mTypeError\u001b[0m\u001b[1;33m:\u001b[0m\u001b[1;33m\u001b[0m\u001b[1;33m\u001b[0m\u001b[0m\n\u001b[0;32m   1274\u001b[0m             raise FileNotFoundError(\n\u001b[1;32m-> 1275\u001b[1;33m                 \"No such file or directory: '%s'\" % (self.data))\n\u001b[0m\u001b[0;32m   1276\u001b[0m         \u001b[0mmd\u001b[0m \u001b[1;33m=\u001b[0m \u001b[1;33m{\u001b[0m\u001b[1;33m}\u001b[0m\u001b[1;33m\u001b[0m\u001b[1;33m\u001b[0m\u001b[0m\n\u001b[0;32m   1277\u001b[0m         \u001b[1;32mif\u001b[0m \u001b[0mself\u001b[0m\u001b[1;33m.\u001b[0m\u001b[0mmetadata\u001b[0m\u001b[1;33m:\u001b[0m\u001b[1;33m\u001b[0m\u001b[1;33m\u001b[0m\u001b[0m\n",
      "\u001b[1;31mFileNotFoundError\u001b[0m: No such file or directory: 'MNIST2.png'"
     ]
    },
    {
     "ename": "FileNotFoundError",
     "evalue": "No such file or directory: 'MNIST2.png'",
     "output_type": "error",
     "traceback": [
      "\u001b[1;31m---------------------------------------------------------------------------\u001b[0m",
      "\u001b[1;31mTypeError\u001b[0m                                 Traceback (most recent call last)",
      "\u001b[1;32mC:\\ProgramData\\Anaconda3\\lib\\site-packages\\IPython\\core\\display.py\u001b[0m in \u001b[0;36m_data_and_metadata\u001b[1;34m(self, always_both)\u001b[0m\n\u001b[0;32m   1271\u001b[0m         \u001b[1;32mtry\u001b[0m\u001b[1;33m:\u001b[0m\u001b[1;33m\u001b[0m\u001b[1;33m\u001b[0m\u001b[0m\n\u001b[1;32m-> 1272\u001b[1;33m             \u001b[0mb64_data\u001b[0m \u001b[1;33m=\u001b[0m \u001b[0mb2a_base64\u001b[0m\u001b[1;33m(\u001b[0m\u001b[0mself\u001b[0m\u001b[1;33m.\u001b[0m\u001b[0mdata\u001b[0m\u001b[1;33m)\u001b[0m\u001b[1;33m.\u001b[0m\u001b[0mdecode\u001b[0m\u001b[1;33m(\u001b[0m\u001b[1;34m'ascii'\u001b[0m\u001b[1;33m)\u001b[0m\u001b[1;33m\u001b[0m\u001b[1;33m\u001b[0m\u001b[0m\n\u001b[0m\u001b[0;32m   1273\u001b[0m         \u001b[1;32mexcept\u001b[0m \u001b[0mTypeError\u001b[0m\u001b[1;33m:\u001b[0m\u001b[1;33m\u001b[0m\u001b[1;33m\u001b[0m\u001b[0m\n",
      "\u001b[1;31mTypeError\u001b[0m: a bytes-like object is required, not 'str'",
      "\nDuring handling of the above exception, another exception occurred:\n",
      "\u001b[1;31mFileNotFoundError\u001b[0m                         Traceback (most recent call last)",
      "\u001b[1;32mC:\\ProgramData\\Anaconda3\\lib\\site-packages\\IPython\\core\\formatters.py\u001b[0m in \u001b[0;36m__call__\u001b[1;34m(self, obj)\u001b[0m\n\u001b[0;32m    343\u001b[0m             \u001b[0mmethod\u001b[0m \u001b[1;33m=\u001b[0m \u001b[0mget_real_method\u001b[0m\u001b[1;33m(\u001b[0m\u001b[0mobj\u001b[0m\u001b[1;33m,\u001b[0m \u001b[0mself\u001b[0m\u001b[1;33m.\u001b[0m\u001b[0mprint_method\u001b[0m\u001b[1;33m)\u001b[0m\u001b[1;33m\u001b[0m\u001b[1;33m\u001b[0m\u001b[0m\n\u001b[0;32m    344\u001b[0m             \u001b[1;32mif\u001b[0m \u001b[0mmethod\u001b[0m \u001b[1;32mis\u001b[0m \u001b[1;32mnot\u001b[0m \u001b[1;32mNone\u001b[0m\u001b[1;33m:\u001b[0m\u001b[1;33m\u001b[0m\u001b[1;33m\u001b[0m\u001b[0m\n\u001b[1;32m--> 345\u001b[1;33m                 \u001b[1;32mreturn\u001b[0m \u001b[0mmethod\u001b[0m\u001b[1;33m(\u001b[0m\u001b[1;33m)\u001b[0m\u001b[1;33m\u001b[0m\u001b[1;33m\u001b[0m\u001b[0m\n\u001b[0m\u001b[0;32m    346\u001b[0m             \u001b[1;32mreturn\u001b[0m \u001b[1;32mNone\u001b[0m\u001b[1;33m\u001b[0m\u001b[1;33m\u001b[0m\u001b[0m\n\u001b[0;32m    347\u001b[0m         \u001b[1;32melse\u001b[0m\u001b[1;33m:\u001b[0m\u001b[1;33m\u001b[0m\u001b[1;33m\u001b[0m\u001b[0m\n",
      "\u001b[1;32mC:\\ProgramData\\Anaconda3\\lib\\site-packages\\IPython\\core\\display.py\u001b[0m in \u001b[0;36m_repr_png_\u001b[1;34m(self)\u001b[0m\n\u001b[0;32m   1290\u001b[0m     \u001b[1;32mdef\u001b[0m \u001b[0m_repr_png_\u001b[0m\u001b[1;33m(\u001b[0m\u001b[0mself\u001b[0m\u001b[1;33m)\u001b[0m\u001b[1;33m:\u001b[0m\u001b[1;33m\u001b[0m\u001b[1;33m\u001b[0m\u001b[0m\n\u001b[0;32m   1291\u001b[0m         \u001b[1;32mif\u001b[0m \u001b[0mself\u001b[0m\u001b[1;33m.\u001b[0m\u001b[0membed\u001b[0m \u001b[1;32mand\u001b[0m \u001b[0mself\u001b[0m\u001b[1;33m.\u001b[0m\u001b[0mformat\u001b[0m \u001b[1;33m==\u001b[0m \u001b[0mself\u001b[0m\u001b[1;33m.\u001b[0m\u001b[0m_FMT_PNG\u001b[0m\u001b[1;33m:\u001b[0m\u001b[1;33m\u001b[0m\u001b[1;33m\u001b[0m\u001b[0m\n\u001b[1;32m-> 1292\u001b[1;33m             \u001b[1;32mreturn\u001b[0m \u001b[0mself\u001b[0m\u001b[1;33m.\u001b[0m\u001b[0m_data_and_metadata\u001b[0m\u001b[1;33m(\u001b[0m\u001b[1;33m)\u001b[0m\u001b[1;33m\u001b[0m\u001b[1;33m\u001b[0m\u001b[0m\n\u001b[0m\u001b[0;32m   1293\u001b[0m \u001b[1;33m\u001b[0m\u001b[0m\n\u001b[0;32m   1294\u001b[0m     \u001b[1;32mdef\u001b[0m \u001b[0m_repr_jpeg_\u001b[0m\u001b[1;33m(\u001b[0m\u001b[0mself\u001b[0m\u001b[1;33m)\u001b[0m\u001b[1;33m:\u001b[0m\u001b[1;33m\u001b[0m\u001b[1;33m\u001b[0m\u001b[0m\n",
      "\u001b[1;32mC:\\ProgramData\\Anaconda3\\lib\\site-packages\\IPython\\core\\display.py\u001b[0m in \u001b[0;36m_data_and_metadata\u001b[1;34m(self, always_both)\u001b[0m\n\u001b[0;32m   1273\u001b[0m         \u001b[1;32mexcept\u001b[0m \u001b[0mTypeError\u001b[0m\u001b[1;33m:\u001b[0m\u001b[1;33m\u001b[0m\u001b[1;33m\u001b[0m\u001b[0m\n\u001b[0;32m   1274\u001b[0m             raise FileNotFoundError(\n\u001b[1;32m-> 1275\u001b[1;33m                 \"No such file or directory: '%s'\" % (self.data))\n\u001b[0m\u001b[0;32m   1276\u001b[0m         \u001b[0mmd\u001b[0m \u001b[1;33m=\u001b[0m \u001b[1;33m{\u001b[0m\u001b[1;33m}\u001b[0m\u001b[1;33m\u001b[0m\u001b[1;33m\u001b[0m\u001b[0m\n\u001b[0;32m   1277\u001b[0m         \u001b[1;32mif\u001b[0m \u001b[0mself\u001b[0m\u001b[1;33m.\u001b[0m\u001b[0mmetadata\u001b[0m\u001b[1;33m:\u001b[0m\u001b[1;33m\u001b[0m\u001b[1;33m\u001b[0m\u001b[0m\n",
      "\u001b[1;31mFileNotFoundError\u001b[0m: No such file or directory: 'MNIST2.png'"
     ]
    },
    {
     "data": {
      "text/plain": [
       "<IPython.core.display.Image object>"
      ]
     },
     "execution_count": 11,
     "metadata": {},
     "output_type": "execute_result"
    }
   ],
   "source": [
    "from IPython.display import Image\n",
    "Image('MNIST2.png', width='900')"
   ]
  },
  {
   "cell_type": "markdown",
   "metadata": {},
   "source": [
    "입력 데이터는 784개의 숫자가 들어있는 배열이다.  \n",
    "784개의 입력을 받는 256개의 노드가 1번째 레이어에 있고 1번째 레이어의 출력값을 입력으로 받는 2번째 레이어에는 128개의 노드가 있다. 2번째 레이어에 10% 드롭아웃을 적용하고 2번째 레이어의 출력을 받는 3번째 레이어에는 총 10개의 노드가 존재하며 이 10개의 노드값은 소프트맥스를 통과해서 0부터 9까지에 해당하는 각 숫자의 확률을 의미하게 된다.  \n",
    "소프트맥스 출력값과 실제값의 차이를 계산하기 위해 크로스 엔트로피를 손실 함수로 사용하고 손실 함수를 최소화하기 위해 Adam 옵티마이저를 사용해 역전파를 통해 모든 가중치 및 편향값을 최적화한다.  \n",
    "최적화 함수 참고 : https://onevision.tistory.com/entry/Optimizer-%EC%9D%98-%EC%A2%85%EB%A5%98%EC%99%80-%ED%8A%B9%EC%84%B1-Momentum-RMSProp-Adam\n",
    "***\n",
    "소프트맥스는 분류해야하는 정답지(클래스)의 총 개수를 k라고 할 때 k차원의 벡터를 입력받아 각 클래스에 대한 확률을 추정한다."
   ]
  },
  {
   "cell_type": "code",
   "execution_count": 12,
   "metadata": {},
   "outputs": [],
   "source": [
    "# 1번째 차원이 None인 이유는 데이터 개수 제약없이 입력받기 위해서이고 2번째 차원이 784인 것은 MNIST의 이미지 크기가 28 * 28\n",
    "# 픽셀 = 784 픽셀이기 때문이다.\n",
    "x = tf.placeholder(tf.float32, [None, 784]) # 입력값\n",
    "y = tf.placeholder(tf.float32, [None, 10])  # 출력값\n",
    "keep_prob = tf.placeholder(tf.float32)      # 드롭아웃 적용 변수"
   ]
  },
  {
   "cell_type": "markdown",
   "metadata": {},
   "source": [
    "다층 퍼셉트론을 구현한다."
   ]
  },
  {
   "cell_type": "code",
   "execution_count": 13,
   "metadata": {},
   "outputs": [],
   "source": [
    "# 다층 퍼셉트론을 구현한 함수\n",
    "def mlp(x):\n",
    "    # 히든 레이어1\n",
    "    w1 = tf.Variable(tf.random_uniform([784, 256]))\n",
    "    b1 = tf.Variable(tf.zeros([256]))\n",
    "    h1 = tf.nn.relu(tf.matmul(x, w1) + b1)\n",
    "    # 히든 레이어2\n",
    "    w2 = tf.Variable(tf.random_uniform([256, 128]))\n",
    "    b2 = tf.Variable(tf.zeros([128]))\n",
    "    h2 = tf.nn.relu(tf.matmul(h1, w2) + b2)\n",
    "    # 드롭아웃 적용, keep_prob만 썼었는데 버전이 올라가면서 rate=1-keep_prob 형태로 써야한다.\n",
    "    h2_drop = tf.nn.dropout(h2, rate=1-keep_prob)\n",
    "    # 히든 레이어3\n",
    "    w3 = tf.Variable(tf.random_uniform([128, 10]))\n",
    "    b3 = tf.Variable(tf.zeros([10]))\n",
    "    logits = tf.nn.relu(tf.matmul(h2_drop, w3) + b3)\n",
    "    return logits"
   ]
  },
  {
   "cell_type": "code",
   "execution_count": 14,
   "metadata": {},
   "outputs": [],
   "source": [
    "# 다층 퍼셉트론의 출력값을 logits로 정의한다.\n",
    "# logit => logistic과 probit의 합성어로 probit은 확률을 재는 단위라는 뜻이다.\n",
    "logits = mlp(x)\n",
    "# logits와 실제값의 크로스 엔트로피를 손실 함수로 사용한다.\n",
    "# 크로스 엔트로피 함수 공식 tf.reduce_mean(-tf.reduce_sum(y * tf.log(tf.nn.softmax(logits)), reduction_indices=1))을 그대로\n",
    "# 사용하면 수치적으로 불안정하여 계산 오류가 발생할 수 있으므로\n",
    "loss_op = tf.reduce_mean(tf.nn.softmax_cross_entropy_with_logits_v2(logits=logits, labels=y))\n",
    "# Adam 옵티마이저를 사용해 모델을 최적화한다. 모델의 최적화 과정은 모델의 예측값과 실제값의 차이를 줄여나가는 과정을 의미한다.\n",
    "train_op = tf.train.AdamOptimizer(learning_rate=0.01).minimize(loss_op)"
   ]
  },
  {
   "cell_type": "markdown",
   "metadata": {},
   "source": [
    "조기 종료는 과대적합을 피하고 충분한 학습을 하기 위해 학습 중간마다 검증 데이터에 대한 정확도를 측정해 학습 정확도는 계속 증가하는 반면 검증 데이터에 대한 정확도가 점차 떨어질 경우 중지하는 것을 말한다.  \n",
    "매 주기(epoch)마다 검증 데이터로 검증 정확도를 측정한다. 검증 정확도가 5번 연속으로 최고 검증 정확도 보다 높지 않을 경우 조기 종료를 수행한다."
   ]
  },
  {
   "cell_type": "code",
   "execution_count": 15,
   "metadata": {},
   "outputs": [],
   "source": [
    "init = tf.global_variables_initializer() # 텐서플로우 변수 초기화\n",
    "saver = tf.train.Saver()                 # 텐서플로우 모델의 저장 및 로드에 사용할 변수를 선언한다.\n",
    "epoch_cnt = 300                          # 조기 종료가 일어나지 않을 경우 최대 300번까지 반복해서 학습하도록 설정한다.\n",
    "batch_size = 1000                        # 1번에 처리할 데이터의 개수를 설정한다.\n",
    "iteration = len(x_train) // batch_size   # batch_size에 따른 학습 반복 횟수를 설정한다.\n",
    "earlystop_threshold = 5                  # 검증 정확도가 최고 정확도보다 5번 연속으로 높지 않을 경우 조기 종료하도록 설정한다.\n",
    "earlystop_cnt = 0                        # 검증 정확도가 최고 정확도보다 연속으로 높지 않은 횟수를 세는 변수를 선언한다."
   ]
  },
  {
   "cell_type": "markdown",
   "metadata": {},
   "source": [
    "학습을 진행한다.  \n",
    "데이터를 모델에 입력할 때 모델에 드롭아웃이 적용된 경우 항상 keep_prob을 설정해야 한다. 학습 시 10%의 드롭아웃을 적용하기 위해 keep_drop을 0.9로 설정하고 테스트할 때는 드롭아웃을 적용하지 않을 겻이므로 keep_prob을 1.0으로 설정한다."
   ]
  },
  {
   "cell_type": "code",
   "execution_count": 16,
   "metadata": {},
   "outputs": [
    {
     "name": "stdout",
     "output_type": "stream",
     "text": [
      "1\n",
      "[1 0 2]\n",
      "[1 2 1]\n"
     ]
    }
   ],
   "source": [
    "a = tf.constant([3, 10, 1]) # 1차원 배열\n",
    "sess = tf.Session()\n",
    "# tf.argmax() 메소드는 배열에서 가장 큰 값을 찾아서 그 인덱스를 리턴한다.\n",
    "# a 배열에서 10이 가장 크기 때문에 결과는 10의 인덱스인 1이 출력된다.\n",
    "print(sess.run(tf.argmax(a, 0)))\n",
    "\n",
    "b = tf.constant([[3, 10, 1], [4, 5, 6], [0, 8, 7]]) # 2차원 배열\n",
    "# tf.argmax() 메소드를 2차원 배열에서 실행할 때 2번째 인수로 0을 지정하면 각 열에서 가장 큰 값을 찾아 그 인덱스를 리턴한다.\n",
    "print(sess.run(tf.argmax(b, 0)))\n",
    "# tf.argmax() 메소드를 2차원 배열에서 실행할 때 2번째 인수로 1을 지정하면 각 행에서 가장 큰 값을 찾아 그 인덱스를 리턴한다.\n",
    "print(sess.run(tf.argmax(b, 1)))"
   ]
  },
  {
   "cell_type": "markdown",
   "metadata": {},
   "source": [
    "학습을 진행한다."
   ]
  },
  {
   "cell_type": "code",
   "execution_count": 17,
   "metadata": {
    "scrolled": true
   },
   "outputs": [
    {
     "name": "stdout",
     "output_type": "stream",
     "text": [
      "epoch:   0, 학습 정확도: 0.24812, 검증 정확도: 0.26060\n",
      "epoch:   1, 학습 정확도: 0.44830, 검증 정확도: 0.46380\n",
      "epoch:   2, 학습 정확도: 0.51850, 검증 정확도: 0.53270\n",
      "epoch:   3, 학습 정확도: 0.57734, 검증 정확도: 0.58550\n",
      "epoch:   4, 학습 정확도: 0.63232, 검증 정확도: 0.64000\n",
      "epoch:   5, 학습 정확도: 0.67728, 검증 정확도: 0.68950\n",
      "epoch:   6, 학습 정확도: 0.72042, 검증 정확도: 0.73180\n",
      "epoch:   7, 학습 정확도: 0.75912, 검증 정확도: 0.76630\n",
      "epoch:   8, 학습 정확도: 0.79264, 검증 정확도: 0.79980\n",
      "epoch:   9, 학습 정확도: 0.81584, 검증 정확도: 0.81970\n",
      "epoch:  10, 학습 정확도: 0.83576, 검증 정확도: 0.83740\n",
      "epoch:  11, 학습 정확도: 0.84906, 검증 정확도: 0.85030\n",
      "epoch:  12, 학습 정확도: 0.86180, 검증 정확도: 0.86440\n",
      "epoch:  13, 학습 정확도: 0.87240, 검증 정확도: 0.87290\n",
      "epoch:  14, 학습 정확도: 0.88054, 검증 정확도: 0.88150\n",
      "epoch:  15, 학습 정확도: 0.88624, 검증 정확도: 0.88740\n",
      "epoch:  16, 학습 정확도: 0.89234, 검증 정확도: 0.89290\n",
      "epoch:  17, 학습 정확도: 0.89700, 검증 정확도: 0.89610\n",
      "epoch:  18, 학습 정확도: 0.90276, 검증 정확도: 0.89900\n",
      "epoch:  19, 학습 정확도: 0.90770, 검증 정확도: 0.90270\n",
      "epoch:  20, 학습 정확도: 0.91108, 검증 정확도: 0.90550\n",
      "epoch:  21, 학습 정확도: 0.91416, 검증 정확도: 0.90700\n",
      "epoch:  22, 학습 정확도: 0.91736, 검증 정확도: 0.90940\n",
      "epoch:  23, 학습 정확도: 0.92042, 검증 정확도: 0.91220\n",
      "epoch:  24, 학습 정확도: 0.92290, 검증 정확도: 0.91530\n",
      "epoch:  25, 학습 정확도: 0.92540, 검증 정확도: 0.91740\n",
      "epoch:  26, 학습 정확도: 0.92746, 검증 정확도: 0.91810\n",
      "epoch:  27, 학습 정확도: 0.92978, 검증 정확도: 0.91890\n",
      "epoch:  28, 학습 정확도: 0.93144, 검증 정확도: 0.92100\n",
      "epoch:  29, 학습 정확도: 0.93432, 검증 정확도: 0.92340\n",
      "epoch:  30, 학습 정확도: 0.93644, 검증 정확도: 0.92380\n",
      "epoch:  31, 학습 정확도: 0.93816, 검증 정확도: 0.92500\n",
      "epoch:  32, 학습 정확도: 0.93978, 검증 정확도: 0.92660\n",
      "epoch:  33, 학습 정확도: 0.94154, 검증 정확도: 0.92550\n",
      "과대적합 경고 횟수: 0\n",
      "epoch:  34, 학습 정확도: 0.94232, 검증 정확도: 0.92690\n",
      "epoch:  35, 학습 정확도: 0.94404, 검증 정확도: 0.92850\n",
      "epoch:  36, 학습 정확도: 0.94458, 검증 정확도: 0.92980\n",
      "epoch:  37, 학습 정확도: 0.94642, 검증 정확도: 0.93030\n",
      "epoch:  38, 학습 정확도: 0.94734, 검증 정확도: 0.93020\n",
      "과대적합 경고 횟수: 0\n",
      "epoch:  39, 학습 정확도: 0.94816, 검증 정확도: 0.93000\n",
      "과대적합 경고 횟수: 1\n",
      "epoch:  40, 학습 정확도: 0.94852, 검증 정확도: 0.93020\n",
      "과대적합 경고 횟수: 2\n",
      "epoch:  41, 학습 정확도: 0.95014, 검증 정확도: 0.93000\n",
      "과대적합 경고 횟수: 3\n",
      "epoch:  42, 학습 정확도: 0.95124, 검증 정확도: 0.93150\n",
      "epoch:  43, 학습 정확도: 0.95192, 검증 정확도: 0.93200\n",
      "epoch:  44, 학습 정확도: 0.95250, 검증 정확도: 0.93180\n",
      "과대적합 경고 횟수: 0\n",
      "epoch:  45, 학습 정확도: 0.95374, 검증 정확도: 0.93290\n",
      "epoch:  46, 학습 정확도: 0.95428, 검증 정확도: 0.93300\n",
      "epoch:  47, 학습 정확도: 0.95512, 검증 정확도: 0.93370\n",
      "epoch:  48, 학습 정확도: 0.95576, 검증 정확도: 0.93410\n",
      "epoch:  49, 학습 정확도: 0.95704, 검증 정확도: 0.93350\n",
      "과대적합 경고 횟수: 0\n",
      "epoch:  50, 학습 정확도: 0.95732, 검증 정확도: 0.93440\n",
      "epoch:  51, 학습 정확도: 0.95716, 검증 정확도: 0.93510\n",
      "epoch:  52, 학습 정확도: 0.95792, 검증 정확도: 0.93420\n",
      "과대적합 경고 횟수: 0\n",
      "epoch:  53, 학습 정확도: 0.95922, 검증 정확도: 0.93480\n",
      "과대적합 경고 횟수: 1\n",
      "epoch:  54, 학습 정확도: 0.96022, 검증 정확도: 0.93600\n",
      "epoch:  55, 학습 정확도: 0.95924, 검증 정확도: 0.93580\n",
      "epoch:  56, 학습 정확도: 0.96044, 검증 정확도: 0.93650\n",
      "epoch:  57, 학습 정확도: 0.96172, 검증 정확도: 0.93750\n",
      "epoch:  58, 학습 정확도: 0.96094, 검증 정확도: 0.93770\n",
      "epoch:  59, 학습 정확도: 0.96170, 검증 정확도: 0.93750\n",
      "과대적합 경고 횟수: 0\n",
      "epoch:  60, 학습 정확도: 0.96194, 검증 정확도: 0.93760\n",
      "과대적합 경고 횟수: 1\n",
      "epoch:  61, 학습 정확도: 0.96214, 검증 정확도: 0.93840\n",
      "epoch:  62, 학습 정확도: 0.96350, 검증 정확도: 0.93880\n",
      "epoch:  63, 학습 정확도: 0.96410, 검증 정확도: 0.93910\n",
      "epoch:  64, 학습 정확도: 0.96450, 검증 정확도: 0.93950\n",
      "epoch:  65, 학습 정확도: 0.96576, 검증 정확도: 0.93920\n",
      "과대적합 경고 횟수: 0\n",
      "epoch:  66, 학습 정확도: 0.96634, 검증 정확도: 0.93960\n",
      "epoch:  67, 학습 정확도: 0.96608, 검증 정확도: 0.93940\n",
      "epoch:  68, 학습 정확도: 0.96682, 검증 정확도: 0.93880\n",
      "과대적합 경고 횟수: 0\n",
      "epoch:  69, 학습 정확도: 0.96778, 검증 정확도: 0.94130\n",
      "epoch:  70, 학습 정확도: 0.96850, 검증 정확도: 0.94000\n",
      "과대적합 경고 횟수: 0\n",
      "epoch:  71, 학습 정확도: 0.96898, 검증 정확도: 0.94070\n",
      "과대적합 경고 횟수: 1\n",
      "epoch:  72, 학습 정확도: 0.96832, 검증 정확도: 0.94030\n",
      "epoch:  73, 학습 정확도: 0.96928, 검증 정확도: 0.94080\n",
      "과대적합 경고 횟수: 0\n",
      "epoch:  74, 학습 정확도: 0.97066, 검증 정확도: 0.94190\n",
      "epoch:  75, 학습 정확도: 0.97024, 검증 정확도: 0.94130\n",
      "epoch:  76, 학습 정확도: 0.97012, 검증 정확도: 0.94100\n",
      "epoch:  77, 학습 정확도: 0.97004, 검증 정확도: 0.94090\n",
      "epoch:  78, 학습 정확도: 0.96996, 검증 정확도: 0.94190\n",
      "epoch:  79, 학습 정확도: 0.97154, 검증 정확도: 0.94270\n",
      "epoch:  80, 학습 정확도: 0.97266, 검증 정확도: 0.94320\n",
      "epoch:  81, 학습 정확도: 0.97264, 검증 정확도: 0.94230\n",
      "epoch:  82, 학습 정확도: 0.97246, 검증 정확도: 0.94330\n",
      "epoch:  83, 학습 정확도: 0.97364, 검증 정확도: 0.94360\n",
      "epoch:  84, 학습 정확도: 0.97294, 검증 정확도: 0.94460\n",
      "epoch:  85, 학습 정확도: 0.97304, 검증 정확도: 0.94500\n",
      "epoch:  86, 학습 정확도: 0.97536, 검증 정확도: 0.94540\n",
      "epoch:  87, 학습 정확도: 0.97522, 검증 정확도: 0.94540\n",
      "epoch:  88, 학습 정확도: 0.97498, 검증 정확도: 0.94660\n",
      "epoch:  89, 학습 정확도: 0.97498, 검증 정확도: 0.94510\n",
      "epoch:  90, 학습 정확도: 0.97616, 검증 정확도: 0.94550\n",
      "과대적합 경고 횟수: 0\n",
      "epoch:  91, 학습 정확도: 0.97624, 검증 정확도: 0.94630\n",
      "과대적합 경고 횟수: 1\n",
      "epoch:  92, 학습 정확도: 0.97650, 검증 정확도: 0.94490\n",
      "과대적합 경고 횟수: 2\n",
      "epoch:  93, 학습 정확도: 0.97532, 검증 정확도: 0.94530\n",
      "epoch:  94, 학습 정확도: 0.97724, 검증 정확도: 0.94640\n",
      "과대적합 경고 횟수: 0\n",
      "epoch:  95, 학습 정확도: 0.97546, 검증 정확도: 0.94460\n",
      "epoch:  96, 학습 정확도: 0.97612, 검증 정확도: 0.94660\n",
      "epoch:  97, 학습 정확도: 0.97694, 검증 정확도: 0.94660\n",
      "epoch:  98, 학습 정확도: 0.97890, 검증 정확도: 0.94680\n",
      "epoch:  99, 학습 정확도: 0.97906, 검증 정확도: 0.94650\n",
      "과대적합 경고 횟수: 0\n",
      "epoch: 100, 학습 정확도: 0.97800, 검증 정확도: 0.94620\n",
      "epoch: 101, 학습 정확도: 0.97756, 검증 정확도: 0.94500\n",
      "epoch: 102, 학습 정확도: 0.97762, 검증 정확도: 0.94570\n",
      "과대적합 경고 횟수: 0\n",
      "epoch: 103, 학습 정확도: 0.97860, 검증 정확도: 0.94530\n",
      "과대적합 경고 횟수: 1\n",
      "epoch: 104, 학습 정확도: 0.97980, 검증 정확도: 0.94730\n",
      "epoch: 105, 학습 정확도: 0.98022, 검증 정확도: 0.94770\n",
      "epoch: 106, 학습 정확도: 0.97952, 검증 정확도: 0.94790\n",
      "epoch: 107, 학습 정확도: 0.97882, 검증 정확도: 0.94660\n",
      "epoch: 108, 학습 정확도: 0.97964, 검증 정확도: 0.94640\n",
      "과대적합 경고 횟수: 0\n",
      "epoch: 109, 학습 정확도: 0.97934, 검증 정확도: 0.94850\n",
      "epoch: 110, 학습 정확도: 0.98060, 검증 정확도: 0.94960\n",
      "epoch: 111, 학습 정확도: 0.98068, 검증 정확도: 0.94870\n",
      "과대적합 경고 횟수: 0\n",
      "epoch: 112, 학습 정확도: 0.97820, 검증 정확도: 0.94590\n",
      "epoch: 113, 학습 정확도: 0.97990, 검증 정확도: 0.94830\n",
      "과대적합 경고 횟수: 0\n",
      "epoch: 114, 학습 정확도: 0.98140, 검증 정확도: 0.94940\n",
      "과대적합 경고 횟수: 1\n",
      "epoch: 115, 학습 정확도: 0.98142, 검증 정확도: 0.94950\n",
      "과대적합 경고 횟수: 2\n",
      "epoch: 116, 학습 정확도: 0.97788, 검증 정확도: 0.94760\n",
      "epoch: 117, 학습 정확도: 0.97954, 검증 정확도: 0.94860\n",
      "과대적합 경고 횟수: 0\n",
      "epoch: 118, 학습 정확도: 0.97998, 검증 정확도: 0.95030\n",
      "epoch: 119, 학습 정확도: 0.98156, 검증 정확도: 0.95180\n",
      "epoch: 120, 학습 정확도: 0.98012, 검증 정확도: 0.94920\n",
      "epoch: 121, 학습 정확도: 0.98192, 검증 정확도: 0.95020\n",
      "과대적합 경고 횟수: 0\n",
      "epoch: 122, 학습 정확도: 0.98048, 검증 정확도: 0.94930\n",
      "epoch: 123, 학습 정확도: 0.98220, 검증 정확도: 0.95080\n",
      "과대적합 경고 횟수: 0\n",
      "epoch: 124, 학습 정확도: 0.98078, 검증 정확도: 0.95040\n",
      "epoch: 125, 학습 정확도: 0.98306, 검증 정확도: 0.95150\n",
      "과대적합 경고 횟수: 0\n",
      "epoch: 126, 학습 정확도: 0.98328, 검증 정확도: 0.95160\n",
      "과대적합 경고 횟수: 1\n",
      "epoch: 127, 학습 정확도: 0.98246, 검증 정확도: 0.95040\n",
      "epoch: 128, 학습 정확도: 0.98354, 검증 정확도: 0.95140\n",
      "과대적합 경고 횟수: 0\n",
      "epoch: 129, 학습 정확도: 0.98498, 검증 정확도: 0.95230\n",
      "epoch: 130, 학습 정확도: 0.98444, 검증 정확도: 0.95090\n",
      "epoch: 131, 학습 정확도: 0.98604, 검증 정확도: 0.95220\n",
      "과대적합 경고 횟수: 0\n",
      "epoch: 132, 학습 정확도: 0.98280, 검증 정확도: 0.95250\n",
      "epoch: 133, 학습 정확도: 0.98504, 검증 정확도: 0.95210\n",
      "과대적합 경고 횟수: 0\n",
      "epoch: 134, 학습 정확도: 0.98594, 검증 정확도: 0.95290\n",
      "epoch: 135, 학습 정확도: 0.98570, 검증 정확도: 0.95400\n",
      "epoch: 136, 학습 정확도: 0.98440, 검증 정확도: 0.95230\n",
      "epoch: 137, 학습 정확도: 0.98330, 검증 정확도: 0.95180\n",
      "epoch: 138, 학습 정확도: 0.98308, 검증 정확도: 0.95250\n",
      "epoch: 139, 학습 정확도: 0.98236, 검증 정확도: 0.95140\n",
      "epoch: 140, 학습 정확도: 0.98368, 검증 정확도: 0.95150\n",
      "과대적합 경고 횟수: 0\n",
      "epoch: 141, 학습 정확도: 0.98460, 검증 정확도: 0.95280\n",
      "과대적합 경고 횟수: 1\n",
      "epoch: 142, 학습 정확도: 0.98166, 검증 정확도: 0.94990\n",
      "epoch: 143, 학습 정확도: 0.98064, 검증 정확도: 0.95000\n",
      "epoch: 144, 학습 정확도: 0.98068, 검증 정확도: 0.94910\n",
      "과대적합 경고 횟수: 0\n",
      "epoch: 145, 학습 정확도: 0.98210, 검증 정확도: 0.95030\n",
      "과대적합 경고 횟수: 1\n",
      "epoch: 146, 학습 정확도: 0.98456, 검증 정확도: 0.95170\n",
      "과대적합 경고 횟수: 2\n",
      "epoch: 147, 학습 정확도: 0.98652, 검증 정확도: 0.95310\n",
      "과대적합 경고 횟수: 3\n",
      "epoch: 148, 학습 정확도: 0.98664, 검증 정확도: 0.95470\n",
      "epoch: 149, 학습 정확도: 0.98780, 검증 정확도: 0.95430\n",
      "과대적합 경고 횟수: 0\n",
      "epoch: 150, 학습 정확도: 0.98762, 검증 정확도: 0.95410\n",
      "epoch: 151, 학습 정확도: 0.98862, 검증 정확도: 0.95480\n",
      "epoch: 152, 학습 정확도: 0.98710, 검증 정확도: 0.95250\n",
      "epoch: 153, 학습 정확도: 0.98654, 검증 정확도: 0.95150\n",
      "epoch: 154, 학습 정확도: 0.98828, 검증 정확도: 0.95410\n",
      "과대적합 경고 횟수: 0\n",
      "epoch: 155, 학습 정확도: 0.98712, 검증 정확도: 0.95360\n",
      "epoch: 156, 학습 정확도: 0.98816, 검증 정확도: 0.95190\n",
      "과대적합 경고 횟수: 0\n",
      "epoch: 157, 학습 정확도: 0.98748, 검증 정확도: 0.95380\n",
      "epoch: 158, 학습 정확도: 0.98764, 검증 정확도: 0.95350\n",
      "과대적합 경고 횟수: 0\n",
      "epoch: 159, 학습 정확도: 0.98864, 검증 정확도: 0.95460\n",
      "과대적합 경고 횟수: 1\n",
      "epoch: 160, 학습 정확도: 0.98838, 검증 정확도: 0.95620\n",
      "epoch: 161, 학습 정확도: 0.98846, 검증 정확도: 0.95330\n",
      "과대적합 경고 횟수: 0\n",
      "epoch: 162, 학습 정확도: 0.98908, 검증 정확도: 0.95310\n",
      "과대적합 경고 횟수: 1\n",
      "epoch: 163, 학습 정확도: 0.98668, 검증 정확도: 0.95330\n",
      "epoch: 164, 학습 정확도: 0.99008, 검증 정확도: 0.95480\n",
      "과대적합 경고 횟수: 0\n",
      "epoch: 165, 학습 정확도: 0.99012, 검증 정확도: 0.95630\n",
      "epoch: 166, 학습 정확도: 0.98854, 검증 정확도: 0.95330\n"
     ]
    },
    {
     "name": "stdout",
     "output_type": "stream",
     "text": [
      "epoch: 167, 학습 정확도: 0.99048, 검증 정확도: 0.95680\n",
      "epoch: 168, 학습 정확도: 0.98852, 검증 정확도: 0.95540\n",
      "epoch: 169, 학습 정확도: 0.99058, 검증 정확도: 0.95520\n",
      "과대적합 경고 횟수: 0\n",
      "epoch: 170, 학습 정확도: 0.98934, 검증 정확도: 0.95530\n",
      "epoch: 171, 학습 정확도: 0.99116, 검증 정확도: 0.95560\n",
      "과대적합 경고 횟수: 0\n",
      "epoch: 172, 학습 정확도: 0.99024, 검증 정확도: 0.95630\n",
      "과대적합 경고 횟수: 1\n",
      "epoch: 173, 학습 정확도: 0.99094, 검증 정확도: 0.95760\n",
      "epoch: 174, 학습 정확도: 0.98988, 검증 정확도: 0.95660\n",
      "epoch: 175, 학습 정확도: 0.99014, 검증 정확도: 0.95570\n",
      "과대적합 경고 횟수: 0\n",
      "epoch: 176, 학습 정확도: 0.99278, 검증 정확도: 0.95910\n",
      "epoch: 177, 학습 정확도: 0.99154, 검증 정확도: 0.95740\n",
      "과대적합 경고 횟수: 0\n",
      "epoch: 178, 학습 정확도: 0.99158, 검증 정확도: 0.95760\n",
      "과대적합 경고 횟수: 1\n",
      "epoch: 179, 학습 정확도: 0.99026, 검증 정확도: 0.95440\n",
      "과대적합 경고 횟수: 2\n",
      "epoch: 180, 학습 정확도: 0.99058, 검증 정확도: 0.95600\n",
      "과대적합 경고 횟수: 3\n",
      "epoch: 181, 학습 정확도: 0.98952, 검증 정확도: 0.95430\n",
      "epoch: 182, 학습 정확도: 0.99102, 검증 정확도: 0.95440\n",
      "과대적합 경고 횟수: 0\n",
      "epoch: 183, 학습 정확도: 0.99178, 검증 정확도: 0.95710\n",
      "과대적합 경고 횟수: 1\n",
      "epoch: 184, 학습 정확도: 0.99164, 검증 정확도: 0.95740\n",
      "과대적합 경고 횟수: 2\n",
      "epoch: 185, 학습 정확도: 0.99298, 검증 정확도: 0.95670\n",
      "과대적합 경고 횟수: 3\n",
      "epoch: 186, 학습 정확도: 0.99162, 검증 정확도: 0.95590\n",
      "과대적합 경고 횟수: 4\n",
      "epoch: 187, 학습 정확도: 0.99062, 검증 정확도: 0.95190\n",
      "조기 종료 시점: 187\n"
     ]
    }
   ],
   "source": [
    "with tf.Session() as sess:\n",
    "    sess.run(init)       # 텐서플로우 변수 초기화\n",
    "    prev_train_acc = 0.0 # 이전 학습 정확도를 기억하는 변수를 선언한다.\n",
    "    max_val_acc = 0.0    # 검증 정확도의 최대값을 기억하는 변수를 선언한다.\n",
    "    # 지정된 최대 epoch 만큼 학습한다. => 검증 정확도가 최고 정확도보다 5번 연속으로 높지 않을 경우 학습을 조기 종료한다.\n",
    "    for epoch in range(epoch_cnt):\n",
    "        avg_loss = 0.0   # 손실값\n",
    "        start = 0        # 학습 시작 위치\n",
    "        end = batch_size # 학습 끝 위치\n",
    "        # 학습 데이터를 batch_size 개씩 나눠 학습을 진행한다.\n",
    "        for i in range(iteration):\n",
    "            _, loss = sess.run([train_op, loss_op], feed_dict={x: x_train[start:end], y: y_train[start:end], keep_prob: 0.9})\n",
    "            start += batch_size\n",
    "            end += batch_size\n",
    "            # 크로스 엔트로피 손실 함수의 학습 손실값을 계산한다.\n",
    "            avg_loss += loss / iteration\n",
    "        # ============================================\n",
    "\n",
    "        # 모델 검증\n",
    "        preds = tf.nn.softmax(logits) # 소프트맥스 적용\n",
    "        correct_prediction = tf.equal(tf.argmax(preds, 1), tf.argmax(y, 1))\n",
    "        \n",
    "        # 정확도 계산\n",
    "        accuracy = tf.reduce_mean(tf.cast(correct_prediction, 'float'))\n",
    "        # 학습 정확도 계산\n",
    "        # Session.run()과 Tensor.eval()의 차이\n",
    "        # t가 Tensor 오브젝트라면 t.eval()은 sess.run(t)의 속기 표현이다.(sess가 현재 디폴트 세션인 곳에서만)\n",
    "        cur_train_acc = accuracy.eval({x: x_train, y: y_train, keep_prob: 1.0})\n",
    "        # 검증 정확도 계산\n",
    "        cur_val_acc = accuracy.eval({x: x_val, y: y_val, keep_prob: 1.0})\n",
    "        # 검증 데이터에 대한 손실값 계산\n",
    "        cur_val_loss = loss_op.eval({x: x_val, y: y_val, keep_prob: 1.0})\n",
    "        # 학습 정확도와 검증 정확도를 출력한다.\n",
    "        print('epoch: {0:3d}, 학습 정확도: {1:7.5f}, 검증 정확도: {2:7.5f}'.format(epoch, cur_train_acc, cur_val_acc))\n",
    "        \n",
    "        # 현재 검증 정확도와 검증 정확도의 최대값을 비교한다.\n",
    "        if cur_val_acc < max_val_acc:\n",
    "            # 현재 검증 정확도가 검증 정확도의 최대값 미만이면\n",
    "            # 현재 학습 정확도와 이전 학습 정확도, 현재 학습 정확도와 0.99를 비교한다.\n",
    "            if cur_train_acc > prev_train_acc or cur_train_acc > 0.99:\n",
    "                # 현재 학습 정확도가 이전 학습 정확도 보다 크거나 현재 학습 정확도가 0.99 보다 크면\n",
    "                if earlystop_cnt == earlystop_threshold:\n",
    "                    # 5번 연속으로 현재 학습 정확도가 이전 학습 정확도 보다 크면 조기 종료한다.\n",
    "                    print('조기 종료 시점: {}'.format(epoch))\n",
    "                    break\n",
    "                else:\n",
    "                    # 5번 연속으로 현재 학습 정확도가 이전 학습 정확도 보다 크지 않다면 이전 학습 정확도가 현재 학습 정확도\n",
    "                    # 보다 크므로 현재 검증 정확도가 최고 정확도의 최대값보다 연속으로 높지 않은 횟수를 카운트 하는 변수를\n",
    "                    # 1증가 시킨다.\n",
    "                    print('과대적합 경고 횟수: {}'.format(earlystop_cnt))\n",
    "                    earlystop_cnt += 1\n",
    "                # ============================================\n",
    "            else:\n",
    "                # 현재 학습 정확도가 이전 학습 정확도 보다 작거나, 현재 학습 정확도가 0.99 이하이면\n",
    "                # 이전 학습 정확도가 현재 학습 정확도 이상이므로 현재 검증 정확도가 정확도의 최대값 보다 연속으로 높지 않은\n",
    "                # 횟수를 카운트하는 변수를 다시 0으로 초기화시킨다.\n",
    "                earlystop_cnt = 0\n",
    "            # ============================================\n",
    "        else:\n",
    "            # 현재 검증 정확도가 검증 정확도의 최대값 이상이면\n",
    "            # 현재 검증 정확도가 검증 정확도의 최대값 보다 연속으로 높지 않은 횟수를 카운트 하는 변수를 다시 0으로 초기화\n",
    "            # 시킨다.\n",
    "            earlystop_cnt = 0\n",
    "            # 검증 정확도의 최대값을 현재 검증 정확도로 교체한다.\n",
    "            max_val_acc = cur_val_acc\n",
    "            # 검증 정확도가 가장 높은 모델을 저장한다.\n",
    "            save_path = saver.save(sess, './model/model.ckpt')\n",
    "        # ============================================\n",
    "        # 다음 학습을 위해 현재 학습 정확도를 이전 학습 정확도를 기억하는 변수에 넣어준다.\n",
    "        prev_train_acc = cur_train_acc\n",
    "    # ============================================"
   ]
  },
  {
   "cell_type": "markdown",
   "metadata": {},
   "source": [
    "테스트"
   ]
  },
  {
   "cell_type": "code",
   "execution_count": 18,
   "metadata": {},
   "outputs": [
    {
     "name": "stdout",
     "output_type": "stream",
     "text": [
      "INFO:tensorflow:Restoring parameters from ./model/model.ckpt\n",
      "정확도: 0.9927800297737122\n"
     ]
    }
   ],
   "source": [
    "with tf.Session() as sess:\n",
    "    # 검증 결과가 가장 높았던 모델을 불러온다.\n",
    "    saver.restore(sess, './model/model.ckpt')\n",
    "    correct_prediction = tf.equal(tf.argmax(preds, 1), tf.argmax(y, 1))\n",
    "    # 정확도 계산\n",
    "    accuracy = tf.reduce_mean(tf.cast(correct_prediction, 'float'))\n",
    "    print('정확도: {}'.format(accuracy.eval({x: x_train, y: y_train, keep_prob: 1.0})))"
   ]
  },
  {
   "cell_type": "code",
   "execution_count": null,
   "metadata": {},
   "outputs": [],
   "source": []
  },
  {
   "cell_type": "code",
   "execution_count": null,
   "metadata": {},
   "outputs": [],
   "source": []
  },
  {
   "cell_type": "code",
   "execution_count": null,
   "metadata": {},
   "outputs": [],
   "source": []
  },
  {
   "cell_type": "code",
   "execution_count": null,
   "metadata": {},
   "outputs": [],
   "source": []
  },
  {
   "cell_type": "code",
   "execution_count": null,
   "metadata": {},
   "outputs": [],
   "source": []
  },
  {
   "cell_type": "code",
   "execution_count": null,
   "metadata": {},
   "outputs": [],
   "source": []
  },
  {
   "cell_type": "code",
   "execution_count": null,
   "metadata": {},
   "outputs": [],
   "source": []
  }
 ],
 "metadata": {
  "kernelspec": {
   "display_name": "Python 3",
   "language": "python",
   "name": "python3"
  },
  "language_info": {
   "codemirror_mode": {
    "name": "ipython",
    "version": 3
   },
   "file_extension": ".py",
   "mimetype": "text/x-python",
   "name": "python",
   "nbconvert_exporter": "python",
   "pygments_lexer": "ipython3",
   "version": "3.7.6"
  }
 },
 "nbformat": 4,
 "nbformat_minor": 5
}
