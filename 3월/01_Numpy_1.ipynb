{
 "cells": [
  {
   "cell_type": "code",
   "execution_count": 1,
   "metadata": {},
   "outputs": [],
   "source": [
    "# Jupyter notebook에서 경고 메세지 숨기기\n",
    "# Jupyter notebook을 사용하다 보면 향후 버전이 올라갈 때 변경될 사항을 알려주는 경고 메세지가 거슬릴 때가 있다.\n",
    "# 이럴 때 warnings 라이브러리 사용한다.\n",
    "\n",
    "import warnings\n",
    "warnings.filterwarnings('ignore') # 경고 메시지를 무시하고 숨기기\n",
    "# warnings.filterwarnings('ignore') # 경고 메시지를 다시 표시하기"
   ]
  },
  {
   "cell_type": "code",
   "execution_count": 2,
   "metadata": {},
   "outputs": [],
   "source": [
    "from IPython.display import Image # Jupyter notebook에 이미지를 표시\n",
    "#Image('./')"
   ]
  },
  {
   "cell_type": "markdown",
   "metadata": {},
   "source": [
    "파이썬 기반 데이터 분석 환경에서 numpy는 행렬 연산을 하기 위한 핵심 라이브러리이다.\n",
    "numpy는 대규모 다차원 배열과 행렬 연산에 필요한 다양한 함수를 제공하고 특히 메모리 버퍼에 배열 데이터를 저장하고 처리하는 효율적인 인터페이스를 제공한다.\n",
    "파이썬 list 객체를 개선한 numpy의 ndarray 객체를 사용하면 더 많은 데이터를 더 빠르게 처리할 수 있다.\n",
    "\n",
    "numpy의 특징\n",
    "  1. 강력한 n차원 배열 객체\n",
    "  2. 정교한 브로드캐스팅(다대일 연산) 기능\n",
    "  3. c/c++ 및 fortran 코드 통합 도구\n",
    "  4. 유연한 선형 대수학, 푸리에 변환 및 난수 기능\n",
    "  5. 범용적 데이터 처리에 사용 가능한 다차원 컨테이너"
   ]
  },
  {
   "cell_type": "markdown",
   "metadata": {},
   "source": [
    "numpy 데이터 타입"
   ]
  },
  {
   "cell_type": "code",
   "execution_count": 3,
   "metadata": {},
   "outputs": [],
   "source": [
    "# numpy는 다음과 같은 데이터 타입을 지원하고 배열을 생성할 때 dtype 속성으로 아래와 같은 데이터 타입을 지정할 수 있다.\n",
    "# np.int64 : 64비트 정수 타입\n",
    "# np.float32 : 32비트 실수(부동 소수점 소수) 타입\n",
    "# np.complex : 복소수(128비트 float) 타입\n",
    "# np.bool : 불린(논리값, True, False) 타입\n",
    "# np.object : 파이썬 객체 타입\n",
    "# np.string_ : 스트링 타입\n",
    "# np.unicode_ : 유니코드 타입"
   ]
  },
  {
   "cell_type": "code",
   "execution_count": 4,
   "metadata": {},
   "outputs": [
    {
     "name": "stdout",
     "output_type": "stream",
     "text": [
      "1.19.5\n"
     ]
    }
   ],
   "source": [
    "import numpy as np\n",
    "print(np.__version__) # __version__ : 라이브러리의 버전을 얻어온다."
   ]
  },
  {
   "cell_type": "code",
   "execution_count": 5,
   "metadata": {},
   "outputs": [],
   "source": [
    "# numpy는 다차원 배열을 지원하고 numpy 배열의 구조는 shape으로 표현한다.\n",
    "# shape은 배열의 구조를 튜플 자료형을 사용해서 정의한다.\n",
    "# 예를 들면 28 * 28 컬러 사진은 폭이 28, 높이가 28, 각 픽셀은 3개의 채널(RGB)로 구성된 구조를 가진다. 따라서 컬러 사진의\n",
    "# 데이터 구조는 shape(28, 28, 3)인 3차원 배열이 된다.\n",
    "# 다차원 배열은 입체적인 구조를 가지며 데이터의 차원은 여러 갈래의 데이터 방행(axis)을 가진다.\n",
    "# 다차원 배열의 데이터 방향은 axis로 표현하고 면은 axis = 0, 행은 axis = 1, 열은 axis = 2로 지정한다.\n",
    "#Image('./', width='1000')"
   ]
  },
  {
   "cell_type": "code",
   "execution_count": 6,
   "metadata": {},
   "outputs": [],
   "source": [
    "# numpy 배열 객체 정보 출력용으로 사용할 함수를 정의한다.\n",
    "def pprint(arr):\n",
    "    print('type : {}'.format(type(arr)))\n",
    "    print('shape : {}, dimension : {}, dtype : {}'.format(arr.shape, arr.ndim, arr.dtype))\n",
    "    print('numpy 배열의 데이터\\n', arr)"
   ]
  },
  {
   "cell_type": "code",
   "execution_count": 7,
   "metadata": {},
   "outputs": [],
   "source": [
    "# 파이썬 list 객체로 numpy 배열을 생성할 수 있다.\n",
    "# 인수로 list 객체와 데이터의 타입(dtype)을 입력해 numpy 배열을 생성하고 dtype을 생략할 경우 입력되는 list 객체의 타입으로\n",
    "# 설정된다."
   ]
  },
  {
   "cell_type": "code",
   "execution_count": 8,
   "metadata": {},
   "outputs": [
    {
     "name": "stdout",
     "output_type": "stream",
     "text": [
      "<class 'list'>\n",
      "type : <class 'numpy.ndarray'>\n",
      "shape : (3,), dimension : 1, dtype : int32\n",
      "numpy 배열의 데이터\n",
      " [1 2 3]\n"
     ]
    }
   ],
   "source": [
    "# 파이썬 1차원 list로 numpy 배열 만들기\n",
    "arr = [1, 2, 3]\n",
    "print(type(arr))\n",
    "# array() 메소드는 인수로 list 객체를 넘겨받아 numpy 배열을 만든다.\n",
    "a = np.array(arr)\n",
    "pprint(a)"
   ]
  },
  {
   "cell_type": "code",
   "execution_count": 9,
   "metadata": {},
   "outputs": [
    {
     "name": "stdout",
     "output_type": "stream",
     "text": [
      "<class 'list'>\n",
      "type : <class 'numpy.ndarray'>\n",
      "shape : (2, 3), dimension : 2, dtype : float32\n",
      "numpy 배열의 데이터\n",
      " [[1. 2. 3.]\n",
      " [4. 5. 6.]]\n"
     ]
    }
   ],
   "source": [
    "# 파이썬 2차원 list로 numpy 배열 만들기\n",
    "arr = [[1, 2, 3], [4, 5, 6]]\n",
    "print(type(arr))\n",
    "# a = np.array(arr, dtype=float) # dtype : float64\n",
    "a = np.array(arr, dtype=np.float32)\n",
    "pprint(a)"
   ]
  },
  {
   "cell_type": "code",
   "execution_count": 10,
   "metadata": {},
   "outputs": [
    {
     "name": "stdout",
     "output_type": "stream",
     "text": [
      "<class 'list'>\n",
      "type : <class 'numpy.ndarray'>\n",
      "shape : (2, 2, 3), dimension : 3, dtype : int32\n",
      "numpy 배열의 데이터\n",
      " [[[ 1  2  3]\n",
      "  [ 4  5  6]]\n",
      "\n",
      " [[11 22 33]\n",
      "  [44 55 66]]]\n"
     ]
    }
   ],
   "source": [
    "# 파이썬 3차원 list로 numpy 배열 만들기\n",
    "arr = [[[1., 2, 3], [4, 5, 6]], [[11, 22, 33], [44, 55, 66]]]\n",
    "print(type(arr))\n",
    "a = np.array(arr, dtype=int)\n",
    "pprint(a)"
   ]
  },
  {
   "cell_type": "code",
   "execution_count": 11,
   "metadata": {},
   "outputs": [],
   "source": [
    "# numpy는 원하는 shape으로 배열을 생성하고 각 요소를 특정값으로 초기화하는 메소드를 제공한다."
   ]
  },
  {
   "cell_type": "code",
   "execution_count": 12,
   "metadata": {},
   "outputs": [
    {
     "name": "stdout",
     "output_type": "stream",
     "text": [
      "type : <class 'numpy.ndarray'>\n",
      "shape : (3, 4), dimension : 2, dtype : int32\n",
      "numpy 배열의 데이터\n",
      " [[0 0 0 0]\n",
      " [0 0 0 0]\n",
      " [0 0 0 0]]\n"
     ]
    }
   ],
   "source": [
    "# np.zeros() 메소드는 지정된 shape의 배열을 생성하고 모든 요소를 0으로 초기화 시킨다.\n",
    "# np.zeros(shape, dtype, order)\n",
    "# order => 다차원 데이터를 행 우선 방식(c), 열 우선 방식(fortran) 으로 메모리에 저장할지 여부를 지정한다.\n",
    "# a = np.zeros(shape=(3, 4), dtype=np.int16, order='f')\n",
    "a = np.zeros(shape=(3, 4), dtype=int)\n",
    "pprint(a)"
   ]
  },
  {
   "cell_type": "code",
   "execution_count": 13,
   "metadata": {},
   "outputs": [
    {
     "name": "stdout",
     "output_type": "stream",
     "text": [
      "type : <class 'numpy.ndarray'>\n",
      "shape : (2, 3, 4), dimension : 3, dtype : int32\n",
      "numpy 배열의 데이터\n",
      " [[[1 1 1 1]\n",
      "  [1 1 1 1]\n",
      "  [1 1 1 1]]\n",
      "\n",
      " [[1 1 1 1]\n",
      "  [1 1 1 1]\n",
      "  [1 1 1 1]]]\n"
     ]
    }
   ],
   "source": [
    "# np.ones() 메소드는 지정된 shape의 배열을 생성하고 모든 요소를 1로 초기화 시킨다.\n",
    "# np.ones(shape, dtype, order)\n",
    "a = np.ones(shape=(2, 3, 4), dtype=int)\n",
    "pprint(a)"
   ]
  },
  {
   "cell_type": "code",
   "execution_count": 14,
   "metadata": {},
   "outputs": [
    {
     "name": "stdout",
     "output_type": "stream",
     "text": [
      "type : <class 'numpy.ndarray'>\n",
      "shape : (2, 3), dimension : 2, dtype : int32\n",
      "numpy 배열의 데이터\n",
      " [[7 7 7]\n",
      " [7 7 7]]\n"
     ]
    }
   ],
   "source": [
    "# np.full() 메소드는 지정된 shape의 배열을 생성하고 모든 요소를 특정값(fill_value)으로 초기화 시킨다.\n",
    "# np.full(shape, fill_value, dtype, order)\n",
    "a = np.full(shape=(2, 3), fill_value=7)\n",
    "pprint(a)"
   ]
  },
  {
   "cell_type": "code",
   "execution_count": 15,
   "metadata": {},
   "outputs": [
    {
     "name": "stdout",
     "output_type": "stream",
     "text": [
      "type : <class 'numpy.ndarray'>\n",
      "shape : (5, 5), dimension : 2, dtype : float64\n",
      "numpy 배열의 데이터\n",
      " [[1. 0. 0. 0. 0.]\n",
      " [0. 1. 0. 0. 0.]\n",
      " [0. 0. 1. 0. 0.]\n",
      " [0. 0. 0. 1. 0.]\n",
      " [0. 0. 0. 0. 1.]]\n"
     ]
    }
   ],
   "source": [
    "# np.eye() 메소든는 shape가 (n, n)인 단위 행렬(대각선 요소만 1이고 나머지는 0인 행렬)을 생성한다.\n",
    "# np.eye(n)\n",
    "a = np.eye(5)\n",
    "pprint(a)"
   ]
  },
  {
   "cell_type": "code",
   "execution_count": 16,
   "metadata": {},
   "outputs": [
    {
     "name": "stdout",
     "output_type": "stream",
     "text": [
      "type : <class 'numpy.ndarray'>\n",
      "shape : (4, 2), dimension : 2, dtype : float64\n",
      "numpy 배열의 데이터\n",
      " [[0.00e+000 0.00e+000]\n",
      " [0.00e+000 0.00e+000]\n",
      " [0.00e+000 6.01e-321]\n",
      " [0.00e+000 0.00e+000]]\n"
     ]
    }
   ],
   "source": [
    "# np.empty() 메소드는 지정된 shape의 배열을 생성하기만 한다. => 초기화를 하지 않는다. => 쓰레기가 저장되어 있다.\n",
    "# np.empty(shape, dtype, order)\n",
    "a = np.empty(shape=(4, 2))\n",
    "pprint(a)"
   ]
  },
  {
   "cell_type": "code",
   "execution_count": 17,
   "metadata": {},
   "outputs": [],
   "source": [
    "# numpy는 주어진 조건으로 데이터를 생성한 후 배열을 만드는 데이터 생성 메소드를 제공한다.\n",
    "# np.linspace, np.arange, np.logspace\n",
    "# !pip install matplotlib # 시각화 라이브러리\n",
    "import matplotlib.pyplot as plt"
   ]
  },
  {
   "cell_type": "code",
   "execution_count": 18,
   "metadata": {},
   "outputs": [
    {
     "name": "stdout",
     "output_type": "stream",
     "text": [
      "type : <class 'numpy.ndarray'>\n",
      "shape : (2, 3), dimension : 2, dtype : int32\n",
      "numpy 배열의 데이터\n",
      " [[1 2 3]\n",
      " [4 5 6]]\n",
      "type : <class 'numpy.ndarray'>\n",
      "shape : (2, 3), dimension : 2, dtype : int32\n",
      "numpy 배열의 데이터\n",
      " [[0 0 0]\n",
      " [0 0 0]]\n",
      "type : <class 'numpy.ndarray'>\n",
      "shape : (2, 3), dimension : 2, dtype : int32\n",
      "numpy 배열의 데이터\n",
      " [[1 1 1]\n",
      " [1 1 1]]\n",
      "type : <class 'numpy.ndarray'>\n",
      "shape : (2, 3), dimension : 2, dtype : int32\n",
      "numpy 배열의 데이터\n",
      " [[999 999 999]\n",
      " [999 999 999]]\n",
      "type : <class 'numpy.ndarray'>\n",
      "shape : (2, 3), dimension : 2, dtype : int32\n",
      "numpy 배열의 데이터\n",
      " [[          0           0 -1953492368]\n",
      " [      32764 -1953492368       32764]]\n"
     ]
    }
   ],
   "source": [
    "# like 메소드\n",
    "# numpy는 지정된 배열과 shape이 같은 행렬을 만드는 like 메소드를 제공한다.\n",
    "# np.zeros_like(), np.ones_like(), np.full_like(), np.empty_like()\n",
    "a = np.array([[1, 2, 3], [4, 5, 6]])\n",
    "pprint(a)\n",
    "b = np.zeros_like(a)\n",
    "pprint(b)\n",
    "c = np.ones_like(a)\n",
    "pprint(c)\n",
    "d = np.full_like(a, 999)\n",
    "pprint(d)\n",
    "e = np.empty_like(a)\n",
    "pprint(e)"
   ]
  },
  {
   "cell_type": "markdown",
   "metadata": {},
   "source": [
    "데이터 생성 메소드"
   ]
  },
  {
   "cell_type": "code",
   "execution_count": 19,
   "metadata": {},
   "outputs": [
    {
     "name": "stdout",
     "output_type": "stream",
     "text": [
      "type : <class 'numpy.ndarray'>\n",
      "shape : (5,), dimension : 1, dtype : float64\n",
      "numpy 배열의 데이터\n",
      " [0.   0.25 0.5  0.75 1.  ]\n"
     ]
    },
    {
     "data": {
      "image/png": "[encoded data removed]",
      "text/plain": [
       "<Figure size 432x288 with 1 Axes>"
      ]
     },
     "metadata": {
      "needs_background": "light"
     },
     "output_type": "display_data"
    }
   ],
   "source": [
    "# np.linspace() 메소드는 start 부터 stop의 범위에서 num개를 균일한 간격으로 데이터를 생성하고 배열을 만든다.\n",
    "# np.linspace(start, stop, num[, endpoint, retstep, dtype])\n",
    "# 요소의 개수를 기준으로 균등 간격 배열을 생성한다.\n",
    "a = np.linspace(0, 1, 5)\n",
    "pprint(a)\n",
    "# np.linspace() 메소드 실행 결과 시각화\n",
    "plt.plot(a, 'b*')\n",
    "plt.show()"
   ]
  },
  {
   "cell_type": "code",
   "execution_count": 20,
   "metadata": {},
   "outputs": [
    {
     "name": "stdout",
     "output_type": "stream",
     "text": [
      "type : <class 'numpy.ndarray'>\n",
      "shape : (5,), dimension : 1, dtype : float32\n",
      "numpy 배열의 데이터\n",
      " [0. 2. 4. 6. 8.]\n"
     ]
    },
    {
     "data": {
      "image/png": "[encoded data removed]",
      "text/plain": [
       "<Figure size 432x288 with 1 Axes>"
      ]
     },
     "metadata": {
      "needs_background": "light"
     },
     "output_type": "display_data"
    }
   ],
   "source": [
    "# np.arange() 메소드는 start 부터 stop 미만까지 step의 간격으로 데이터를 생성하고 배열을 만든다.\n",
    "# np.arange([start,] stop[, step, dtype])\n",
    "# 요소의 개수가 아닌 데이터의 간격을 기준으로 균등한 간격의 배열을 생성한다.\n",
    "# start를 생략하며 0, step을 생략하면 1이 기본값으로 사용된다.\n",
    "# np.arange(10), np.arange(0, 10), np.arange(0, 10, 1)은 모두 같은 기능이 실행된다.\n",
    "a = np.arange(0, 10, 2, dtype=np.float32)\n",
    "pprint(a)\n",
    "plt.plot(a)\n",
    "plt.show()"
   ]
  },
  {
   "cell_type": "code",
   "execution_count": 21,
   "metadata": {},
   "outputs": [
    {
     "name": "stdout",
     "output_type": "stream",
     "text": [
      "type : <class 'numpy.ndarray'>\n",
      "shape : (20,), dimension : 1, dtype : float64\n",
      "numpy 배열의 데이터\n",
      " [ 1.25892541  1.40400425  1.565802    1.74624535  1.94748304  2.1719114\n",
      "  2.42220294  2.70133812  3.0126409   3.35981829  3.74700446  4.17881006\n",
      "  4.66037703  5.19743987  5.79639395  6.46437163  7.2093272   8.04013161\n",
      "  8.9666781  10.        ]\n"
     ]
    },
    {
     "data": {
      "text/plain": [
       "[<matplotlib.lines.Line2D at 0x1737fe53048>]"
      ]
     },
     "execution_count": 21,
     "metadata": {},
     "output_type": "execute_result"
    },
    {
     "data": {
      "image/png": "[encoded data removed]",
      "text/plain": [
       "<Figure size 432x288 with 1 Axes>"
      ]
     },
     "metadata": {
      "needs_background": "light"
     },
     "output_type": "display_data"
    }
   ],
   "source": [
    "# np.logspace() 메소드는 로그 스케일로 지정된 범위(start부터 stop 사이)에서 num개 만큼 균등 간격으로 데이터를 생성하고 배열을 \n",
    "# 만든다.\n",
    "# np.logspace(start, stop, num)\n",
    "a = np.logspace(0.1, 1, 20)\n",
    "pprint(a)\n",
    "plt.plot(a)"
   ]
  },
  {
   "cell_type": "markdown",
   "metadata": {},
   "source": [
    "난수 기반 배열 생성"
   ]
  },
  {
   "cell_type": "code",
   "execution_count": 22,
   "metadata": {},
   "outputs": [],
   "source": [
    "# numpy는 난수 발생 및 배열을 생성하는 random 모듈을 제공하고 다음과 같은 메소드를 사용할 수 있다.\n",
    "# np.random.normal(), np.random.rand(), np.random.randn(), np.random.randint(), np.random.random()"
   ]
  },
  {
   "cell_type": "code",
   "execution_count": 23,
   "metadata": {},
   "outputs": [
    {
     "name": "stdout",
     "output_type": "stream",
     "text": [
      "type : <class 'numpy.ndarray'>\n",
      "shape : (2, 3), dimension : 2, dtype : float64\n",
      "numpy 배열의 데이터\n",
      " [[ 0.34614604 -0.97355922  1.93148025]\n",
      " [-0.50113774  1.48392691 -0.66713027]]\n"
     ]
    },
    {
     "data": {
      "image/png": "[encoded data removed]",
      "text/plain": [
       "<Figure size 432x288 with 1 Axes>"
      ]
     },
     "metadata": {
      "needs_background": "light"
     },
     "output_type": "display_data"
    }
   ],
   "source": [
    "# np.random.normal() 메소드는 정규 분포를 따르는 난수로 데이터를 생성하고 배열을 만든다. 평균과 표준편차를 지정할 수 있다.\n",
    "# np.random.normal(loc, scale, size), loc => 정규 분포의 평균, scale => 표준편차, size => 행렬의 크기, 닌수의 개수\n",
    "mean = 0\n",
    "std = 1\n",
    "a = np.random.normal(mean, std, (2,3))\n",
    "pprint(a)\n",
    "\n",
    "# np.random.normal() 메소드가 생성한 난수는 정규 분포의 형상을 가진다.\n",
    "data = np.random.normal(0, 1, 10000)\n",
    "# 정규 분포에서 10000개의 표본을 뽑은 결과를 100개의 구간(bins)으로 구분한 히스토그램으로 표현한다.\n",
    "plt.hist(data, bins=100)\n",
    "plt.show()"
   ]
  },
  {
   "cell_type": "code",
   "execution_count": 24,
   "metadata": {},
   "outputs": [
    {
     "name": "stdout",
     "output_type": "stream",
     "text": [
      "type : <class 'numpy.ndarray'>\n",
      "shape : (3, 2), dimension : 2, dtype : float64\n",
      "numpy 배열의 데이터\n",
      " [[0.29333523 0.40535073]\n",
      " [0.70087784 0.09066119]\n",
      " [0.12271903 0.96207954]]\n"
     ]
    },
    {
     "data": {
      "image/png": "[encoded data removed]",
      "text/plain": [
       "<Figure size 432x288 with 1 Axes>"
      ]
     },
     "metadata": {
      "needs_background": "light"
     },
     "output_type": "display_data"
    }
   ],
   "source": [
    "# np.random.rand() 메소드는 0 ~ 1 사이의 균등 분포를 따르는 난수로 데이터를 생성하고 배열을 만든다.\n",
    "# np.random.rand(d0, d1, ..., dn) d=차원\n",
    "a = np.random.rand(3,2)\n",
    "pprint(a)\n",
    "\n",
    "# np.random.rand() 메소드가 생성한 난수는 균등 분포의 형상을 가진다.\n",
    "data = np.random.rand(10000)\n",
    "# 0 ~ 1 사이의 균등 분포에서 10000개의 표본을 뽑은 결과를 10개의 구간(bins)으로 구분한 히스토그램으로 표현한다.\n",
    "plt.hist(data, bins=10)\n",
    "plt.show()"
   ]
  },
  {
   "cell_type": "code",
   "execution_count": 25,
   "metadata": {},
   "outputs": [
    {
     "name": "stdout",
     "output_type": "stream",
     "text": [
      "type : <class 'numpy.ndarray'>\n",
      "shape : (3, 2), dimension : 2, dtype : float64\n",
      "numpy 배열의 데이터\n",
      " [[0.98452795 0.77349338]\n",
      " [0.34092803 0.43355721]\n",
      " [0.94644443 0.52154266]]\n"
     ]
    },
    {
     "data": {
      "image/png": "[encoded data removed]",
      "text/plain": [
       "<Figure size 432x288 with 1 Axes>"
      ]
     },
     "metadata": {
      "needs_background": "light"
     },
     "output_type": "display_data"
    }
   ],
   "source": [
    "# np.random.randn() 메소드는 표준 정규 분포를 따르는 난수로 데이터를 생성하고 배열을 만든다.\n",
    "# np.random.randn(d0, d1, ..., dn) d=차원, 평균 표준편차 설정 불가\n",
    "a = np.random.rand(3,2)\n",
    "pprint(a)\n",
    "\n",
    "# np.random.randn() 메소드가 생성한 난수는 표준 정규 분포의 형상을 가진다.\n",
    "data = np.random.randn(10000)\n",
    "# 표준 정규 분포에서 10000개의 표본을 뽑은 결과를 10개의 구간(bins)으로 구분한 히스토그램으로 표현한다.\n",
    "plt.hist(data, bins=100)\n",
    "plt.show()"
   ]
  },
  {
   "cell_type": "code",
   "execution_count": 29,
   "metadata": {},
   "outputs": [
    {
     "name": "stdout",
     "output_type": "stream",
     "text": [
      "type : <class 'numpy.ndarray'>\n",
      "shape : (2,), dimension : 1, dtype : int32\n",
      "numpy 배열의 데이터\n",
      " [6 6]\n"
     ]
    },
    {
     "data": {
      "image/png": "[encoded data removed]",
      "text/plain": [
       "<Figure size 432x288 with 1 Axes>"
      ]
     },
     "metadata": {
      "needs_background": "light"
     },
     "output_type": "display_data"
    }
   ],
   "source": [
    "# np.random.randint() 메소드는 지정된 크기만큼 low 부터 high 미만의 범위에서 난수(정수) 데이터를 생성하고 배열을 만든다.\n",
    "# np.random.randint(low, high, size, dtype)\n",
    "a = np.random.randint(5, 10, (2,))\n",
    "pprint(a)\n",
    "\n",
    "# -100에서 100의 범위에서 난수를 발생시킨다.\n",
    "data = np.random.randint(-100, 100, size=10000)\n",
    "plt.hist(data, bins=10)\n",
    "plt.show()"
   ]
  },
  {
   "cell_type": "code",
   "execution_count": 30,
   "metadata": {},
   "outputs": [
    {
     "name": "stdout",
     "output_type": "stream",
     "text": [
      "type : <class 'numpy.ndarray'>\n",
      "shape : (2, 4), dimension : 2, dtype : float64\n",
      "numpy 배열의 데이터\n",
      " [[0.32490927 0.88375858 0.22077669 0.83772488]\n",
      " [0.45331192 0.23453052 0.44636101 0.05969943]]\n"
     ]
    },
    {
     "data": {
      "image/png": "[encoded data removed]",
      "text/plain": [
       "<Figure size 432x288 with 1 Axes>"
      ]
     },
     "metadata": {
      "needs_background": "light"
     },
     "output_type": "display_data"
    }
   ],
   "source": [
    "# np.random.random() 메소드는 0 ~ 1 균등분포에서 난수로 데이터를 생성하고 배열을 만든다.\n",
    "# np.random.random(size)\n",
    "a = np.random.random((2, 4))\n",
    "pprint(a)\n",
    "\n",
    "data = np.random.random(10000)\n",
    "plt.hist(data, bins=10)\n",
    "plt.show()"
   ]
  },
  {
   "cell_type": "markdown",
   "metadata": {},
   "source": [
    "약속된 난수"
   ]
  },
  {
   "cell_type": "code",
   "execution_count": 31,
   "metadata": {},
   "outputs": [],
   "source": [
    "# 무작위 수를 만드는 난수는 특정 시작 숫자로부터 난수처럼 보이는 수열을 만드는 알고리즘의 결과물이다.\n",
    "# 따라서 시작점을 설정하면 난수 발생을 재현할 수 있다. => 매번 같은 난수가 발생되게 할 수 있다."
   ]
  },
  {
   "cell_type": "code",
   "execution_count": 41,
   "metadata": {},
   "outputs": [
    {
     "name": "stdout",
     "output_type": "stream",
     "text": [
      "type : <class 'numpy.ndarray'>\n",
      "shape : (2, 3), dimension : 2, dtype : float64\n",
      "numpy 배열의 데이터\n",
      " [[0.54340494 0.27836939 0.42451759]\n",
      " [0.84477613 0.00471886 0.12156912]]\n",
      "type : <class 'numpy.ndarray'>\n",
      "shape : (2, 3), dimension : 2, dtype : int32\n",
      "numpy 배열의 데이터\n",
      " [[2 2 2]\n",
      " [1 0 8]]\n"
     ]
    }
   ],
   "source": [
    "# np.random.seed() 메소드로 seed 값을 지정하면 매번 같은 배열의 난수를 얻을 수 있다.\n",
    "np.random.seed(100)\n",
    "pprint(np.random.random((2, 3)))\n",
    "pprint(np.random.randint(0, 10, (2, 3)))"
   ]
  },
  {
   "cell_type": "markdown",
   "metadata": {},
   "source": [
    "배열의 상태 검사"
   ]
  },
  {
   "cell_type": "code",
   "execution_count": 42,
   "metadata": {},
   "outputs": [],
   "source": [
    "# 깃헙에서 복사"
   ]
  },
  {
   "cell_type": "code",
   "execution_count": 43,
   "metadata": {},
   "outputs": [
    {
     "name": "stdout",
     "output_type": "stream",
     "text": [
      "type : <class 'numpy.ndarray'>\n",
      "shape : (2, 3, 6), dimension : 3, dtype : float64\n",
      "numpy 배열의 데이터\n",
      " [[[0.06368104 0.62431189 0.52334774 0.56229626 0.00581719 0.30742321]\n",
      "  [0.95018431 0.12665424 0.07898787 0.31135313 0.63238359 0.69935892]\n",
      "  [0.64196495 0.92002378 0.29887635 0.56874553 0.17862432 0.5325737 ]]\n",
      "\n",
      " [[0.64669147 0.14206538 0.58138896 0.47918994 0.38641911 0.44046495]\n",
      "  [0.40475733 0.44225404 0.03012328 0.77600531 0.55095838 0.3810734 ]\n",
      "  [0.52926578 0.9568769  0.17582131 0.11830284 0.86294567 0.07486688]]]\n"
     ]
    }
   ],
   "source": [
    "# 데모 배열 객체 생성\n",
    "arr = np.random.random((2, 3, 6))\n",
    "pprint(arr)"
   ]
  },
  {
   "cell_type": "code",
   "execution_count": 52,
   "metadata": {},
   "outputs": [
    {
     "name": "stdout",
     "output_type": "stream",
     "text": [
      "배열의 type : <class 'numpy.ndarray'>\n",
      "배열의 shape : (2, 3, 6)\n",
      "배열의 length(면) : 2\n",
      "배열의 length(행) : 3\n",
      "배열의 length(열) : 6\n",
      "배열의 dimension : 3\n",
      "배열의 요소 개수 : 36\n",
      "배열의 데이터 타입 : float64\n",
      "배열의 데이터 타입 이름 : float64\n",
      "[[[0 0 0 0 0 0]\n",
      "  [0 0 0 0 0 0]\n",
      "  [0 0 0 0 0 0]]\n",
      "\n",
      " [[0 0 0 0 0 0]\n",
      "  [0 0 0 0 0 0]\n",
      "  [0 0 0 0 0 0]]]\n",
      "[[[0.06368104 0.62431189 0.52334774 0.56229626 0.00581719 0.30742321]\n",
      "  [0.95018431 0.12665424 0.07898787 0.31135313 0.63238359 0.69935892]\n",
      "  [0.64196495 0.92002378 0.29887635 0.56874553 0.17862432 0.5325737 ]]\n",
      "\n",
      " [[0.64669147 0.14206538 0.58138896 0.47918994 0.38641911 0.44046495]\n",
      "  [0.40475733 0.44225404 0.03012328 0.77600531 0.55095838 0.3810734 ]\n",
      "  [0.52926578 0.9568769  0.17582131 0.11830284 0.86294567 0.07486688]]]\n",
      "[[[0 0 0 0 0 0]\n",
      "  [0 0 0 0 0 0]\n",
      "  [0 0 0 0 0 0]]\n",
      "\n",
      " [[0 0 0 0 0 0]\n",
      "  [0 0 0 0 0 0]\n",
      "  [0 0 0 0 0 0]]]\n"
     ]
    }
   ],
   "source": [
    "# numpy 배열 객체응 다음과 같은 방법으로 속성을 확인할 수 있다.\n",
    "print('배열의 type : {}'.format(type(arr)))\n",
    "print('배열의 shape : {}'.format(arr.shape))\n",
    "print('배열의 length(면) : {}'.format(len(arr))) # 면의 갯수\n",
    "print('배열의 length(행) : {}'.format(len(arr[0]))) # 지정된 면의 행의 갯수\n",
    "print('배열의 length(열) : {}'.format(len(arr[0][0]))) # 지정된 면의 행의 열의 갯수\n",
    "print('배열의 dimension : {}'.format(arr.ndim))\n",
    "print('배열의 요소 개수 : {}'.format(arr.size))\n",
    "print('배열의 데이터 타입 : {}'.format(arr.dtype))\n",
    "print('배열의 데이터 타입 이름 : {}'.format(arr.dtype.name))\n",
    "# 배열 요소를 정수(int)로 변환한다. => 배열 요소의 실제 값이 변환되는 것이 아니고 화면에 보여주기만 하는 것이다.\n",
    "print(arr.astype(np.int))\n",
    "print(arr)\n",
    "arr = arr.astype(np.int)\n",
    "print(arr)"
   ]
  }
 ],
 "metadata": {
  "kernelspec": {
   "display_name": "Python 3",
   "language": "python",
   "name": "python3"
  },
  "language_info": {
   "codemirror_mode": {
    "name": "ipython",
    "version": 3
   },
   "file_extension": ".py",
   "mimetype": "text/x-python",
   "name": "python",
   "nbconvert_exporter": "python",
   "pygments_lexer": "ipython3",
   "version": "3.7.6"
  }
 },
 "nbformat": 4,
 "nbformat_minor": 4
}
