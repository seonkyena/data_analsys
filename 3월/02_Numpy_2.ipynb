{
 "cells": [
  {
   "cell_type": "code",
   "execution_count": 1,
   "metadata": {},
   "outputs": [],
   "source": [
    "import warnings\n",
    "warnings.filterwarnings('ignore')\n",
    "from IPython.display import Image\n",
    "import numpy as np\n",
    "\n",
    "def pprint(arr):\n",
    "    print('type : {}'.format(type(arr)))\n",
    "    print('shape : {}, dimension : {}, dtype : {}'.format(arr.shape, arr.ndim, arr.dtype))\n",
    "    print('numpy 배열의 데이터\\n', arr)"
   ]
  },
  {
   "cell_type": "markdown",
   "metadata": {},
   "source": [
    "numpy 입출력"
   ]
  },
  {
   "cell_type": "code",
   "execution_count": 2,
   "metadata": {},
   "outputs": [],
   "source": [
    "# 깃헙"
   ]
  },
  {
   "cell_type": "code",
   "execution_count": 3,
   "metadata": {},
   "outputs": [
    {
     "name": "stdout",
     "output_type": "stream",
     "text": [
      "type : <class 'numpy.ndarray'>\n",
      "shape : (2, 3), dimension : 2, dtype : int32\n",
      "numpy 배열의 데이터\n",
      " [[5 1 0]\n",
      " [7 6 9]]\n",
      "type : <class 'numpy.ndarray'>\n",
      "shape : (2, 3), dimension : 2, dtype : int32\n",
      "numpy 배열의 데이터\n",
      " [[9 8 5]\n",
      " [4 3 8]]\n"
     ]
    }
   ],
   "source": [
    "# 데모 배열 객체 생성\n",
    "a = np.random.randint(0, 10, (2, 3))\n",
    "pprint(a)\n",
    "b = np.random.randint(0, 10, (2, 3))\n",
    "pprint(b)"
   ]
  },
  {
   "cell_type": "code",
   "execution_count": 4,
   "metadata": {},
   "outputs": [],
   "source": [
    "# 배열 객체 저장 - 바이너리 파일\n",
    "# np.save(), np.savez() 메소드를 이용해서 배열 객체를 바이너리(2진) 형태의 파일로 저장할 수 있다.\n",
    "# np.save() : 배열 1개를 저장한다. 확장자 => npy\n",
    "# np.savez() : 배열 여러개를 저장한다. 확장자 => npz\n",
    "\n",
    "# a 배열을 파일로 저장한다.\n",
    "np.save('./output/my_array1', a)\n",
    "# a, b 배열을 파일로 저장한다.\n",
    "np.savez('./output/my_array1', a, b)"
   ]
  },
  {
   "cell_type": "code",
   "execution_count": 5,
   "metadata": {},
   "outputs": [
    {
     "name": "stdout",
     "output_type": "stream",
     "text": [
      "[[5 1 0]\n",
      " [7 6 9]]\n",
      "<numpy.lib.npyio.NpzFile object at 0x000001A94BA19EC8>\n",
      "[[5 1 0]\n",
      " [7 6 9]]\n",
      "[[9 8 5]\n",
      " [4 3 8]]\n"
     ]
    }
   ],
   "source": [
    "# np.load() 메소드로 npy, npz 파일로부터 배열 데이터를 읽어올 수 있다.\n",
    "# npy 파일 읽기\n",
    "print(np.load('./output/my_array1.npy'))\n",
    "# npz 파일 읽기\n",
    "print(np.load('./output/my_array1.npz')) # <numpy.lib.npyio.NpzFile object at 0x0000028CDBA9D148>\n",
    "npzfiles = np.load('./output/my_array1.npz')\n",
    "print(npzfiles['arr_0']) # arr_X sms 정해져 있는 값이므로 바꿀 수 없다.\n",
    "print(npzfiles['arr_1'])"
   ]
  },
  {
   "cell_type": "code",
   "execution_count": 6,
   "metadata": {},
   "outputs": [
    {
     "name": "stdout",
     "output_type": "stream",
     "text": [
      "type : <class 'numpy.ndarray'>\n",
      "shape : (3, 4), dimension : 2, dtype : float64\n",
      "numpy 배열의 데이터\n",
      " [[0.43465406 0.58477396 0.98023032 0.98033512]\n",
      " [0.46570529 0.68439018 0.74536765 0.91524355]\n",
      " [0.75637263 0.03433825 0.56914492 0.78141745]]\n"
     ]
    }
   ],
   "source": [
    "# 데모 배열 객체 생성\n",
    "data = np.random.random((3, 4))\n",
    "pprint(data)"
   ]
  },
  {
   "cell_type": "code",
   "execution_count": 7,
   "metadata": {},
   "outputs": [],
   "source": [
    "# 배열 객체 저장 - 텍스트 파일\n",
    "# np.savetxt() 메소드로 배열 객체를 텍스트 파일로 저장시킬 수 있다.\n",
    "# np.savetxt('파일명', 데이터, delimiter='구분자')\n",
    "\n",
    "# data 배열을 텍스트 파일로 저장한다.\n",
    "np.savetxt('./output/saved.csv', data, delimiter=',')"
   ]
  },
  {
   "cell_type": "code",
   "execution_count": 8,
   "metadata": {},
   "outputs": [
    {
     "name": "stdout",
     "output_type": "stream",
     "text": [
      "[[0.43465406 0.58477396 0.98023032 0.98033512]\n",
      " [0.46570529 0.68439018 0.74536765 0.91524355]\n",
      " [0.75637263 0.03433825 0.56914492 0.78141745]]\n"
     ]
    }
   ],
   "source": [
    "# np.loadtxt() 메소드로 텍스트 파일로부터 배얄 객체를 읽어올 수 있다.\n",
    "# np.loadtxt('파일명', dtype, delimiter='구분자')\n",
    "print(np.loadtxt('./output/saved.csv', dtype=float, delimiter=',')) # 구분자는 데이터를 끊어 읽을 때 필요"
   ]
  },
  {
   "cell_type": "markdown",
   "metadata": {},
   "source": [
    "배열(행렬) 연산 - 산술 연산"
   ]
  },
  {
   "cell_type": "code",
   "execution_count": 9,
   "metadata": {},
   "outputs": [],
   "source": [
    "# 데모 배열 객체 생성"
   ]
  },
  {
   "cell_type": "code",
   "execution_count": 10,
   "metadata": {},
   "outputs": [
    {
     "name": "stdout",
     "output_type": "stream",
     "text": [
      "type : <class 'numpy.ndarray'>\n",
      "shape : (3, 3), dimension : 2, dtype : int32\n",
      "numpy 배열의 데이터\n",
      " [[1 2 3]\n",
      " [4 5 6]\n",
      " [7 8 9]]\n",
      "type : <class 'numpy.ndarray'>\n",
      "shape : (3, 3), dimension : 2, dtype : int32\n",
      "numpy 배열의 데이터\n",
      " [[9 8 7]\n",
      " [6 5 4]\n",
      " [3 2 1]]\n"
     ]
    }
   ],
   "source": [
    "a = np.arange(1, 10).reshape(3, 3)\n",
    "pprint(a)\n",
    "b = np.arange(9, 0, -1).reshape(3, 3)\n",
    "pprint(b)"
   ]
  },
  {
   "cell_type": "code",
   "execution_count": 11,
   "metadata": {},
   "outputs": [
    {
     "name": "stdout",
     "output_type": "stream",
     "text": [
      "type : <class 'numpy.ndarray'>\n",
      "shape : (3, 3), dimension : 2, dtype : int32\n",
      "numpy 배열의 데이터\n",
      " [[10 10 10]\n",
      " [10 10 10]\n",
      " [10 10 10]]\n",
      "type : <class 'numpy.ndarray'>\n",
      "shape : (3, 3), dimension : 2, dtype : int32\n",
      "numpy 배열의 데이터\n",
      " [[10 10 10]\n",
      " [10 10 10]\n",
      " [10 10 10]]\n"
     ]
    }
   ],
   "source": [
    "# 덧셈 : +, np.add()\n",
    "pprint(a + b)\n",
    "pprint(np.add(a, b))"
   ]
  },
  {
   "cell_type": "code",
   "execution_count": 12,
   "metadata": {},
   "outputs": [
    {
     "name": "stdout",
     "output_type": "stream",
     "text": [
      "type : <class 'numpy.ndarray'>\n",
      "shape : (3, 3), dimension : 2, dtype : int32\n",
      "numpy 배열의 데이터\n",
      " [[-8 -6 -4]\n",
      " [-2  0  2]\n",
      " [ 4  6  8]]\n",
      "type : <class 'numpy.ndarray'>\n",
      "shape : (3, 3), dimension : 2, dtype : int32\n",
      "numpy 배열의 데이터\n",
      " [[-8 -6 -4]\n",
      " [-2  0  2]\n",
      " [ 4  6  8]]\n"
     ]
    }
   ],
   "source": [
    "# 뺄셈 : -, np.subtract()\n",
    "pprint(a - b)\n",
    "pprint(np.subtract(a, b))"
   ]
  },
  {
   "cell_type": "code",
   "execution_count": 13,
   "metadata": {},
   "outputs": [
    {
     "name": "stdout",
     "output_type": "stream",
     "text": [
      "type : <class 'numpy.ndarray'>\n",
      "shape : (3, 3), dimension : 2, dtype : int32\n",
      "numpy 배열의 데이터\n",
      " [[ 9 16 21]\n",
      " [24 25 24]\n",
      " [21 16  9]]\n",
      "type : <class 'numpy.ndarray'>\n",
      "shape : (3, 3), dimension : 2, dtype : int32\n",
      "numpy 배열의 데이터\n",
      " [[ 9 16 21]\n",
      " [24 25 24]\n",
      " [21 16  9]]\n"
     ]
    }
   ],
   "source": [
    "# 곱셈 : *, np.multiply()\n",
    "pprint(a * b)\n",
    "pprint(np.multiply(a, b))"
   ]
  },
  {
   "cell_type": "code",
   "execution_count": 14,
   "metadata": {},
   "outputs": [
    {
     "name": "stdout",
     "output_type": "stream",
     "text": [
      "type : <class 'numpy.ndarray'>\n",
      "shape : (3, 3), dimension : 2, dtype : float64\n",
      "numpy 배열의 데이터\n",
      " [[0.11111111 0.25       0.42857143]\n",
      " [0.66666667 1.         1.5       ]\n",
      " [2.33333333 4.         9.        ]]\n",
      "type : <class 'numpy.ndarray'>\n",
      "shape : (3, 3), dimension : 2, dtype : float64\n",
      "numpy 배열의 데이터\n",
      " [[0.11111111 0.25       0.42857143]\n",
      " [0.66666667 1.         1.5       ]\n",
      " [2.33333333 4.         9.        ]]\n"
     ]
    }
   ],
   "source": [
    "# 나눗셈 : /, np.divide()\n",
    "pprint(a / b)\n",
    "pprint(np.divide(a, b))"
   ]
  },
  {
   "cell_type": "code",
   "execution_count": 15,
   "metadata": {},
   "outputs": [
    {
     "name": "stdout",
     "output_type": "stream",
     "text": [
      "type : <class 'numpy.ndarray'>\n",
      "shape : (3, 3), dimension : 2, dtype : float64\n",
      "numpy 배열의 데이터\n",
      " [[2.71828183e+00 7.38905610e+00 2.00855369e+01]\n",
      " [5.45981500e+01 1.48413159e+02 4.03428793e+02]\n",
      " [1.09663316e+03 2.98095799e+03 8.10308393e+03]]\n"
     ]
    }
   ],
   "source": [
    "pprint(np.exp(a)) # 지수함수"
   ]
  },
  {
   "cell_type": "code",
   "execution_count": 16,
   "metadata": {},
   "outputs": [
    {
     "name": "stdout",
     "output_type": "stream",
     "text": [
      "type : <class 'numpy.ndarray'>\n",
      "shape : (3, 3), dimension : 2, dtype : float64\n",
      "numpy 배열의 데이터\n",
      " [[1.         1.41421356 1.73205081]\n",
      " [2.         2.23606798 2.44948974]\n",
      " [2.64575131 2.82842712 3.        ]]\n"
     ]
    }
   ],
   "source": [
    "pprint(np.sqrt(a)) # 제곱근"
   ]
  },
  {
   "cell_type": "code",
   "execution_count": 17,
   "metadata": {},
   "outputs": [
    {
     "name": "stdout",
     "output_type": "stream",
     "text": [
      "type : <class 'numpy.ndarray'>\n",
      "shape : (3, 3), dimension : 2, dtype : float64\n",
      "numpy 배열의 데이터\n",
      " [[ 0.84147098  0.90929743  0.14112001]\n",
      " [-0.7568025  -0.95892427 -0.2794155 ]\n",
      " [ 0.6569866   0.98935825  0.41211849]]\n",
      "type : <class 'numpy.ndarray'>\n",
      "shape : (3, 3), dimension : 2, dtype : float64\n",
      "numpy 배열의 데이터\n",
      " [[ 0.54030231 -0.41614684 -0.9899925 ]\n",
      " [-0.65364362  0.28366219  0.96017029]\n",
      " [ 0.75390225 -0.14550003 -0.91113026]]\n",
      "type : <class 'numpy.ndarray'>\n",
      "shape : (3, 3), dimension : 2, dtype : float64\n",
      "numpy 배열의 데이터\n",
      " [[ 1.55740772 -2.18503986 -0.14254654]\n",
      " [ 1.15782128 -3.38051501 -0.29100619]\n",
      " [ 0.87144798 -6.79971146 -0.45231566]]\n"
     ]
    }
   ],
   "source": [
    "# 삼각함수\n",
    "pprint(np.sin(a))\n",
    "pprint(np.cos(a))\n",
    "pprint(np.tan(a))"
   ]
  },
  {
   "cell_type": "code",
   "execution_count": 18,
   "metadata": {},
   "outputs": [
    {
     "name": "stdout",
     "output_type": "stream",
     "text": [
      "type : <class 'numpy.ndarray'>\n",
      "shape : (3, 3), dimension : 2, dtype : float64\n",
      "numpy 배열의 데이터\n",
      " [[0.         0.69314718 1.09861229]\n",
      " [1.38629436 1.60943791 1.79175947]\n",
      " [1.94591015 2.07944154 2.19722458]]\n"
     ]
    }
   ],
   "source": [
    "pprint(np.log(a)) # 로그함수"
   ]
  },
  {
   "cell_type": "code",
   "execution_count": 19,
   "metadata": {},
   "outputs": [
    {
     "name": "stdout",
     "output_type": "stream",
     "text": [
      "type : <class 'numpy.ndarray'>\n",
      "shape : (3, 3), dimension : 2, dtype : int32\n",
      "numpy 배열의 데이터\n",
      " [[ 30  24  18]\n",
      " [ 84  69  54]\n",
      " [138 114  90]]\n"
     ]
    }
   ],
   "source": [
    "pprint(np.dot(a, b)) # 행렬의 내적"
   ]
  },
  {
   "cell_type": "markdown",
   "metadata": {},
   "source": [
    "비교 연산"
   ]
  },
  {
   "cell_type": "code",
   "execution_count": 20,
   "metadata": {},
   "outputs": [
    {
     "name": "stdout",
     "output_type": "stream",
     "text": [
      "[[False False False]\n",
      " [False  True False]\n",
      " [False False False]]\n"
     ]
    }
   ],
   "source": [
    "# 배열의 요소별 비교 : >, >=, <, <=, ==, !=\n",
    "print(a == b)"
   ]
  },
  {
   "cell_type": "code",
   "execution_count": 21,
   "metadata": {},
   "outputs": [
    {
     "name": "stdout",
     "output_type": "stream",
     "text": [
      "False\n"
     ]
    }
   ],
   "source": [
    "# np.array_equal() 메소드를 사용하면 배열 전체를 비교할 수 있다.\n",
    "print(np.array_equal(a, b))"
   ]
  },
  {
   "cell_type": "markdown",
   "metadata": {},
   "source": [
    "집계 메소드"
   ]
  },
  {
   "cell_type": "code",
   "execution_count": 22,
   "metadata": {},
   "outputs": [],
   "source": [
    "# numpy의 모든 집계 메소드는 axis를 기준으로 계산된다.\n",
    "# 집계 apthemdp axis를 지정하지 않으면 axis = None이 기본값으로 사용된다. axis = None, axis = 0, axis = 1과같이 지정한다."
   ]
  },
  {
   "cell_type": "code",
   "execution_count": 23,
   "metadata": {},
   "outputs": [
    {
     "name": "stdout",
     "output_type": "stream",
     "text": [
      "type : <class 'numpy.ndarray'>\n",
      "shape : (3, 3), dimension : 2, dtype : int32\n",
      "numpy 배열의 데이터\n",
      " [[1 2 3]\n",
      " [4 5 6]\n",
      " [7 8 9]]\n"
     ]
    }
   ],
   "source": [
    "# 데모 배열 객체 생성\n",
    "a = np.arange(1, 10).reshape(3, 3)\n",
    "pprint(a)"
   ]
  },
  {
   "cell_type": "markdown",
   "metadata": {},
   "source": [
    "합계 : 배열객체.sum(), np.sum(배열객체)"
   ]
  },
  {
   "cell_type": "code",
   "execution_count": 24,
   "metadata": {},
   "outputs": [],
   "source": [
    "# axis = None\n",
    "# axis = None은 전체 행렬을 하나의 배열로 간주하고 집계 함수의 범위를 전체 행렬로 정의한다. 생략시 기본값으로 사용된다.\n",
    "# Image"
   ]
  },
  {
   "cell_type": "code",
   "execution_count": 25,
   "metadata": {},
   "outputs": [
    {
     "name": "stdout",
     "output_type": "stream",
     "text": [
      "45\n",
      "45\n",
      "45\n",
      "45\n"
     ]
    }
   ],
   "source": [
    "print(a.sum())\n",
    "print(np.sum(a))\n",
    "print(a.sum(axis=None))\n",
    "print(np.sum(a, axis=None))"
   ]
  },
  {
   "cell_type": "code",
   "execution_count": 26,
   "metadata": {},
   "outputs": [],
   "source": [
    "# axis = 0\n",
    "# axis = 0은 행을 기준으로 각 행의 동일한 인덱스 요소를 그룹으로 연산한다.\n",
    "# Image"
   ]
  },
  {
   "cell_type": "code",
   "execution_count": 27,
   "metadata": {},
   "outputs": [
    {
     "name": "stdout",
     "output_type": "stream",
     "text": [
      "[12 15 18]\n",
      "[12 15 18]\n"
     ]
    }
   ],
   "source": [
    "print(a.sum(axis=0))\n",
    "print(np.sum(a, axis=0))"
   ]
  },
  {
   "cell_type": "code",
   "execution_count": 28,
   "metadata": {},
   "outputs": [],
   "source": [
    "# axis = 1\n",
    "# axis = 1은 열을 기준으로 각 열의 동일한 인덱스 요소를 그룹으로 연산한다.\n",
    "# Image"
   ]
  },
  {
   "cell_type": "code",
   "execution_count": 29,
   "metadata": {},
   "outputs": [
    {
     "name": "stdout",
     "output_type": "stream",
     "text": [
      "[ 6 15 24]\n",
      "[ 6 15 24]\n"
     ]
    }
   ],
   "source": [
    "print(a.sum(axis=1))\n",
    "print(np.sum(a, axis=1))"
   ]
  },
  {
   "cell_type": "markdown",
   "metadata": {},
   "source": [
    "최대값 : 배열객체.max(), np.max(배열객체), 최소값: 배열객체.min(), np.min(배열객체)"
   ]
  },
  {
   "cell_type": "code",
   "execution_count": 30,
   "metadata": {},
   "outputs": [
    {
     "name": "stdout",
     "output_type": "stream",
     "text": [
      "9\n",
      "9\n",
      "1\n",
      "1\n"
     ]
    }
   ],
   "source": [
    "print(a.max())\n",
    "print(np.max(a))\n",
    "print(a.min())\n",
    "print(np.min(a))"
   ]
  },
  {
   "cell_type": "code",
   "execution_count": 31,
   "metadata": {},
   "outputs": [
    {
     "name": "stdout",
     "output_type": "stream",
     "text": [
      "[7 8 9]\n",
      "[7 8 9]\n",
      "[1 2 3]\n",
      "[1 2 3]\n"
     ]
    }
   ],
   "source": [
    "print(a.max(axis=0))\n",
    "print(np.max(a, axis=0))\n",
    "print(a.min(axis=0))\n",
    "print(np.min(a, axis=0))"
   ]
  },
  {
   "cell_type": "code",
   "execution_count": 32,
   "metadata": {},
   "outputs": [
    {
     "name": "stdout",
     "output_type": "stream",
     "text": [
      "[3 6 9]\n",
      "[3 6 9]\n",
      "[1 4 7]\n",
      "[1 4 7]\n"
     ]
    }
   ],
   "source": [
    "print(a.max(axis=1))\n",
    "print(np.max(a, axis=1))\n",
    "print(a.min(axis=1))\n",
    "print(np.min(a, axis=1))"
   ]
  },
  {
   "cell_type": "markdown",
   "metadata": {},
   "source": [
    "누적 합계 : 배열객체.cumsum(), np.cumsum(배열객체)"
   ]
  },
  {
   "cell_type": "code",
   "execution_count": 33,
   "metadata": {},
   "outputs": [
    {
     "name": "stdout",
     "output_type": "stream",
     "text": [
      "[ 1  3  6 10 15 21 28 36 45]\n",
      "[ 1  3  6 10 15 21 28 36 45]\n"
     ]
    }
   ],
   "source": [
    "print(a.cumsum())\n",
    "print(np.cumsum(a))"
   ]
  },
  {
   "cell_type": "code",
   "execution_count": 34,
   "metadata": {},
   "outputs": [
    {
     "name": "stdout",
     "output_type": "stream",
     "text": [
      "[[ 1  2  3]\n",
      " [ 5  7  9]\n",
      " [12 15 18]]\n",
      "[[ 1  2  3]\n",
      " [ 5  7  9]\n",
      " [12 15 18]]\n"
     ]
    }
   ],
   "source": [
    "print(a.cumsum(axis=0))\n",
    "print(np.cumsum(a, axis=0))"
   ]
  },
  {
   "cell_type": "code",
   "execution_count": 35,
   "metadata": {},
   "outputs": [
    {
     "name": "stdout",
     "output_type": "stream",
     "text": [
      "[[ 1  3  6]\n",
      " [ 4  9 15]\n",
      " [ 7 15 24]]\n",
      "[[ 1  3  6]\n",
      " [ 4  9 15]\n",
      " [ 7 15 24]]\n"
     ]
    }
   ],
   "source": [
    "print(a.cumsum(axis=1))\n",
    "print(np.cumsum(a, axis=1))"
   ]
  },
  {
   "cell_type": "markdown",
   "metadata": {},
   "source": [
    "평균 : 배열객체.mean(), np.mean(배열객체)"
   ]
  },
  {
   "cell_type": "code",
   "execution_count": 36,
   "metadata": {},
   "outputs": [
    {
     "name": "stdout",
     "output_type": "stream",
     "text": [
      "5.0\n",
      "5.0\n"
     ]
    }
   ],
   "source": [
    "print(a.mean())\n",
    "print(np.mean(a))"
   ]
  },
  {
   "cell_type": "code",
   "execution_count": 37,
   "metadata": {},
   "outputs": [
    {
     "name": "stdout",
     "output_type": "stream",
     "text": [
      "[4. 5. 6.]\n",
      "[4. 5. 6.]\n"
     ]
    }
   ],
   "source": [
    "print(a.mean(axis=0))\n",
    "print(np.mean(a, axis=0))"
   ]
  },
  {
   "cell_type": "code",
   "execution_count": 38,
   "metadata": {},
   "outputs": [
    {
     "name": "stdout",
     "output_type": "stream",
     "text": [
      "[2. 5. 8.]\n",
      "[2. 5. 8.]\n"
     ]
    }
   ],
   "source": [
    "print(a.mean(axis=1))\n",
    "print(np.mean(a, axis=1))"
   ]
  },
  {
   "cell_type": "markdown",
   "metadata": {},
   "source": [
    "중위수 : np.median(배열객체)"
   ]
  },
  {
   "cell_type": "code",
   "execution_count": 39,
   "metadata": {},
   "outputs": [
    {
     "name": "stdout",
     "output_type": "stream",
     "text": [
      "5.0\n",
      "[4. 5. 6.]\n",
      "[2. 5. 8.]\n"
     ]
    }
   ],
   "source": [
    "print(np.median(a))\n",
    "print(np.median(a, axis=0))\n",
    "print(np.median(a, axis=1))"
   ]
  },
  {
   "cell_type": "markdown",
   "metadata": {},
   "source": [
    "상관계수 : np.corrcoef(배열객체)"
   ]
  },
  {
   "cell_type": "code",
   "execution_count": 40,
   "metadata": {},
   "outputs": [
    {
     "name": "stdout",
     "output_type": "stream",
     "text": [
      "[[1. 1. 1.]\n",
      " [1. 1. 1.]\n",
      " [1. 1. 1.]]\n"
     ]
    }
   ],
   "source": [
    "print(np.corrcoef(a)) # axis를 사용하지 않는다."
   ]
  },
  {
   "cell_type": "markdown",
   "metadata": {},
   "source": [
    "표준편차 : 배열객체.std(), np.std(배열객체)"
   ]
  },
  {
   "cell_type": "code",
   "execution_count": 41,
   "metadata": {},
   "outputs": [
    {
     "name": "stdout",
     "output_type": "stream",
     "text": [
      "2.581988897471611\n",
      "2.581988897471611\n"
     ]
    }
   ],
   "source": [
    "print(a.std())\n",
    "print(np.std(a))"
   ]
  },
  {
   "cell_type": "code",
   "execution_count": 42,
   "metadata": {},
   "outputs": [
    {
     "name": "stdout",
     "output_type": "stream",
     "text": [
      "[2.44948974 2.44948974 2.44948974]\n",
      "[2.44948974 2.44948974 2.44948974]\n"
     ]
    }
   ],
   "source": [
    "print(a.std(axis=0))\n",
    "print(np.std(a, axis=0))"
   ]
  },
  {
   "cell_type": "code",
   "execution_count": 43,
   "metadata": {},
   "outputs": [
    {
     "name": "stdout",
     "output_type": "stream",
     "text": [
      "[0.81649658 0.81649658 0.81649658]\n",
      "[0.81649658 0.81649658 0.81649658]\n"
     ]
    }
   ],
   "source": [
    "print(a.std(axis=1))\n",
    "print(np.std(a, axis=1))"
   ]
  },
  {
   "cell_type": "markdown",
   "metadata": {},
   "source": [
    "브로드캐스팅"
   ]
  },
  {
   "cell_type": "code",
   "execution_count": 44,
   "metadata": {},
   "outputs": [],
   "source": [
    "# shape이 같은 두 배열에 대한 이항 연산은 배열 요소별로 실행된다.\n",
    "# 두 배열의 shape이 다를 경우 두 배열 간의 형상을 맞추는 그림과 같은 브로드 캐스팅 과정을 거쳐서 실행된다.\n",
    "# Image"
   ]
  },
  {
   "cell_type": "markdown",
   "metadata": {},
   "source": [
    "shape이 같은 두 배열의 연산"
   ]
  },
  {
   "cell_type": "code",
   "execution_count": 45,
   "metadata": {},
   "outputs": [
    {
     "name": "stdout",
     "output_type": "stream",
     "text": [
      "type : <class 'numpy.ndarray'>\n",
      "shape : (4, 6), dimension : 2, dtype : int32\n",
      "numpy 배열의 데이터\n",
      " [[ 1  2  3  4  5  6]\n",
      " [ 7  8  9 10 11 12]\n",
      " [13 14 15 16 17 18]\n",
      " [19 20 21 22 23 24]]\n",
      "type : <class 'numpy.ndarray'>\n",
      "shape : (4, 6), dimension : 2, dtype : int32\n",
      "numpy 배열의 데이터\n",
      " [[25 26 27 28 29 30]\n",
      " [31 32 33 34 35 36]\n",
      " [37 38 39 40 41 42]\n",
      " [43 44 45 46 47 48]]\n",
      "type : <class 'numpy.ndarray'>\n",
      "shape : (4, 6), dimension : 2, dtype : int32\n",
      "numpy 배열의 데이터\n",
      " [[26 28 30 32 34 36]\n",
      " [38 40 42 44 46 48]\n",
      " [50 52 54 56 58 60]\n",
      " [62 64 66 68 70 72]]\n"
     ]
    }
   ],
   "source": [
    "a = np.arange(1, 25).reshape(4, 6)\n",
    "pprint(a)\n",
    "b = np.arange(25, 49).reshape(4, 6)\n",
    "pprint(b)\n",
    "# shape이 같은 두 배열을 이항 연산할 경우 위치가 같은 요소 단위로 실행된다.\n",
    "pprint(a + b)"
   ]
  },
  {
   "cell_type": "markdown",
   "metadata": {},
   "source": [
    "shape이 다른 두 배열의 연산  \n",
    "shape이 다른 두 배열 사이의 이항 연산에서 브로드캐스팅 발생 시 두 배열을 같은 shape으로 만든 후 연산을 실행한다."
   ]
  },
  {
   "cell_type": "code",
   "execution_count": 46,
   "metadata": {},
   "outputs": [
    {
     "name": "stdout",
     "output_type": "stream",
     "text": [
      "type : <class 'numpy.ndarray'>\n",
      "shape : (4, 6), dimension : 2, dtype : int32\n",
      "numpy 배열의 데이터\n",
      " [[ 1  2  3  4  5  6]\n",
      " [ 7  8  9 10 11 12]\n",
      " [13 14 15 16 17 18]\n",
      " [19 20 21 22 23 24]]\n",
      "type : <class 'numpy.ndarray'>\n",
      "shape : (4, 6), dimension : 2, dtype : int32\n",
      "numpy 배열의 데이터\n",
      " [[101 102 103 104 105 106]\n",
      " [107 108 109 110 111 112]\n",
      " [113 114 115 116 117 118]\n",
      " [119 120 121 122 123 124]]\n"
     ]
    }
   ],
   "source": [
    "# case 1 : 배열과 스칼라(단일 값)의 연산\n",
    "# 배열과 스칼라 사이의 이항 연산 시 스칼라를 배열로 변환한다.\n",
    "a = np.arange(1, 25).reshape(4, 6)\n",
    "pprint(a)\n",
    "pprint(a + 100)"
   ]
  },
  {
   "cell_type": "code",
   "execution_count": 47,
   "metadata": {},
   "outputs": [
    {
     "name": "stdout",
     "output_type": "stream",
     "text": [
      "type : <class 'numpy.ndarray'>\n",
      "shape : (4, 6), dimension : 2, dtype : int32\n",
      "numpy 배열의 데이터\n",
      " [[100 100 100 100 100 100]\n",
      " [100 100 100 100 100 100]\n",
      " [100 100 100 100 100 100]\n",
      " [100 100 100 100 100 100]]\n",
      "type : <class 'numpy.ndarray'>\n",
      "shape : (4, 6), dimension : 2, dtype : int32\n",
      "numpy 배열의 데이터\n",
      " [[101 102 103 104 105 106]\n",
      " [107 108 109 110 111 112]\n",
      " [113 114 115 116 117 118]\n",
      " [119 120 121 122 123 124]]\n"
     ]
    }
   ],
   "source": [
    "# a + 100은 다음과 같은 과정을 거쳐서 처리된다.\n",
    "new_arr = np.full_like(a, 100)\n",
    "pprint(new_arr)\n",
    "pprint(a + new_arr)"
   ]
  },
  {
   "cell_type": "code",
   "execution_count": 48,
   "metadata": {},
   "outputs": [
    {
     "name": "stdout",
     "output_type": "stream",
     "text": [
      "type : <class 'numpy.ndarray'>\n",
      "shape : (1, 5), dimension : 2, dtype : int32\n",
      "numpy 배열의 데이터\n",
      " [[0 1 2 3 4]]\n",
      "type : <class 'numpy.ndarray'>\n",
      "shape : (5, 1), dimension : 2, dtype : int32\n",
      "numpy 배열의 데이터\n",
      " [[0]\n",
      " [1]\n",
      " [2]\n",
      " [3]\n",
      " [4]]\n",
      "type : <class 'numpy.ndarray'>\n",
      "shape : (5, 5), dimension : 2, dtype : int32\n",
      "numpy 배열의 데이터\n",
      " [[0 1 2 3 4]\n",
      " [1 2 3 4 5]\n",
      " [2 3 4 5 6]\n",
      " [3 4 5 6 7]\n",
      " [4 5 6 7 8]]\n"
     ]
    }
   ],
   "source": [
    "# case 2 : shape이 다른 배열의 연산\n",
    "a = np.arange(5).reshape(1, 5)\n",
    "pprint(a)\n",
    "b = np.arange(5).reshape(5, 1)\n",
    "pprint(b)\n",
    "pprint(a + b)"
   ]
  },
  {
   "cell_type": "markdown",
   "metadata": {},
   "source": [
    "벡터 연산"
   ]
  },
  {
   "cell_type": "code",
   "execution_count": 49,
   "metadata": {},
   "outputs": [],
   "source": [
    "# numpy는 벡터 연산을 지원한다.\n",
    "# numpy의 집합 연산에는 벡터화 기능이 적용되어 있어서 배열 처리에 대해 벡터 연산을 적용할 경우 처리 속도가 100배 이상 빠르다.\n",
    "# 머신러닝에서 선형대수 연산을 처리할 때 매우 높은 효과를 낼 수 있다.\n",
    "a = np.arange(10000000, dtype=np.int64)"
   ]
  },
  {
   "cell_type": "code",
   "execution_count": 52,
   "metadata": {},
   "outputs": [
    {
     "name": "stdout",
     "output_type": "stream",
     "text": [
      "49999995000000\n",
      "Wall time: 7.9 s\n"
     ]
    }
   ],
   "source": [
    "%%time\n",
    "result = 0\n",
    "for i in a:\n",
    "    result += i\n",
    "print(result)"
   ]
  },
  {
   "cell_type": "code",
   "execution_count": 53,
   "metadata": {},
   "outputs": [
    {
     "name": "stdout",
     "output_type": "stream",
     "text": [
      "49999995000000\n",
      "Wall time: 18 ms\n"
     ]
    }
   ],
   "source": [
    "%%time\n",
    "result = np.sum(a)\n",
    "print(result)"
   ]
  },
  {
   "cell_type": "code",
   "execution_count": 50,
   "metadata": {},
   "outputs": [],
   "source": [
    "# ndarray 배열 객체에 대한 indexing, slice, subset이 반환하는 배열 새로운 객체가 아닌 기존 배열의 view이다.\n",
    "# 반환된 배열의 값을 변경하면 원본 배열에 변경한 내용이 반영된다.\n",
    "# 따라서, 기존 배열로부터 새로은 배열을 생성하기 copy() 메소드로 명시적으로 사용해야 한다.\n",
    "# copy() 메소드로 복사된 배열은 원본 배열과 완전히 다른 별도의 객체가 된다."
   ]
  },
  {
   "cell_type": "code",
   "execution_count": 55,
   "metadata": {},
   "outputs": [
    {
     "name": "stdout",
     "output_type": "stream",
     "text": [
      "type : <class 'numpy.ndarray'>\n",
      "shape : (3, 3), dimension : 2, dtype : int32\n",
      "numpy 배열의 데이터\n",
      " [[5 3 0]\n",
      " [3 8 7]\n",
      " [6 3 4]]\n",
      "type : <class 'numpy.ndarray'>\n",
      "shape : (3, 3), dimension : 2, dtype : int32\n",
      "numpy 배열의 데이터\n",
      " [[999   3   0]\n",
      " [999   8   7]\n",
      " [999   3   4]]\n"
     ]
    }
   ],
   "source": [
    "a = np.random.randint(0, 9, (3, 3))\n",
    "pprint(a)\n",
    "a[:, 0] = 999 # a 배열의 모든 행의 0번 째 열을 999로 변경한다.\n",
    "pprint(a)"
   ]
  },
  {
   "cell_type": "code",
   "execution_count": 58,
   "metadata": {},
   "outputs": [
    {
     "name": "stdout",
     "output_type": "stream",
     "text": [
      "type : <class 'numpy.ndarray'>\n",
      "shape : (3, 3), dimension : 2, dtype : int32\n",
      "numpy 배열의 데이터\n",
      " [[999   3   0]\n",
      " [999   8   7]\n",
      " [999   3   4]]\n",
      "type : <class 'numpy.ndarray'>\n",
      "shape : (3, 3), dimension : 2, dtype : int32\n",
      "numpy 배열의 데이터\n",
      " [[999 777   0]\n",
      " [999 777   7]\n",
      " [999 777   4]]\n",
      "type : <class 'numpy.ndarray'>\n",
      "shape : (3, 3), dimension : 2, dtype : int32\n",
      "numpy 배열의 데이터\n",
      " [[999   3   0]\n",
      " [999   8   7]\n",
      " [999   3   4]]\n"
     ]
    }
   ],
   "source": [
    "copied_a = np.copy(a)\n",
    "pprint(copied_a)\n",
    "copied_a[:, 1] = 777\n",
    "pprint(copied_a)\n",
    "pprint(a)"
   ]
  },
  {
   "cell_type": "markdown",
   "metadata": {},
   "source": [
    "배열 정렬"
   ]
  },
  {
   "cell_type": "code",
   "execution_count": 65,
   "metadata": {},
   "outputs": [
    {
     "name": "stdout",
     "output_type": "stream",
     "text": [
      "[[0.88437317 0.52300284 0.83184611]\n",
      " [0.37793754 0.03701575 0.85575231]\n",
      " [0.29412872 0.1647148  0.66361751]]\n"
     ]
    }
   ],
   "source": [
    "# ndarray 객체는 axis를 기준으로 요소를 정렬하는 sort() 메소드를 제공한다.\n",
    "# 원본 배열\n",
    "unsorted_arr = np.random.random((3, 3))\n",
    "print(unsorted_arr)"
   ]
  },
  {
   "cell_type": "code",
   "execution_count": 73,
   "metadata": {},
   "outputs": [],
   "source": [
    "# sort 작업을 위해 원본을 복사한다.\n",
    "unsorted_arr1 = unsorted_arr.copy()\n",
    "unsorted_arr2 = unsorted_arr.copy()\n",
    "unsorted_arr3 = unsorted_arr.copy()"
   ]
  },
  {
   "cell_type": "code",
   "execution_count": 74,
   "metadata": {},
   "outputs": [],
   "source": [
    "# 배열객체.sort()\n",
    "# sort() 메소드 axis의 기본값은 None이 아니고 -1이다.\n",
    "# -1은 현재 배열의 마지막 axis를 의미하고 unsorted_arr의 마지막 axis는 1이다.\n",
    "# 배열객체.sort()와 배열객체.sort(axis = 1)의 결과는 같다."
   ]
  },
  {
   "cell_type": "code",
   "execution_count": 75,
   "metadata": {},
   "outputs": [
    {
     "name": "stdout",
     "output_type": "stream",
     "text": [
      "type : <class 'numpy.ndarray'>\n",
      "shape : (3, 3), dimension : 2, dtype : float64\n",
      "numpy 배열의 데이터\n",
      " [[0.52300284 0.83184611 0.88437317]\n",
      " [0.03701575 0.37793754 0.85575231]\n",
      " [0.1647148  0.29412872 0.66361751]]\n"
     ]
    }
   ],
   "source": [
    "unsorted_arr1.sort()\n",
    "pprint(unsorted_arr1)"
   ]
  },
  {
   "cell_type": "code",
   "execution_count": 76,
   "metadata": {},
   "outputs": [
    {
     "name": "stdout",
     "output_type": "stream",
     "text": [
      "type : <class 'numpy.ndarray'>\n",
      "shape : (3, 3), dimension : 2, dtype : float64\n",
      "numpy 배열의 데이터\n",
      " [[0.29412872 0.03701575 0.66361751]\n",
      " [0.37793754 0.1647148  0.83184611]\n",
      " [0.88437317 0.52300284 0.85575231]]\n"
     ]
    }
   ],
   "source": [
    "unsorted_arr2.sort(axis = 0)\n",
    "pprint(unsorted_arr2)"
   ]
  },
  {
   "cell_type": "code",
   "execution_count": 81,
   "metadata": {},
   "outputs": [
    {
     "name": "stdout",
     "output_type": "stream",
     "text": [
      "type : <class 'numpy.ndarray'>\n",
      "shape : (3, 3), dimension : 2, dtype : float64\n",
      "numpy 배열의 데이터\n",
      " [[0.03701575 0.29412872 0.66361751]\n",
      " [0.1647148  0.37793754 0.83184611]\n",
      " [0.52300284 0.85575231 0.88437317]]\n"
     ]
    }
   ],
   "source": [
    "unsorted_arr2.sort(axis = 1)\n",
    "pprint(unsorted_arr2)"
   ]
  }
 ],
 "metadata": {
  "kernelspec": {
   "display_name": "Python 3",
   "language": "python",
   "name": "python3"
  },
  "language_info": {
   "codemirror_mode": {
    "name": "ipython",
    "version": 3
   },
   "file_extension": ".py",
   "mimetype": "text/x-python",
   "name": "python",
   "nbconvert_exporter": "python",
   "pygments_lexer": "ipython3",
   "version": "3.7.6"
  }
 },
 "nbformat": 4,
 "nbformat_minor": 4
}
